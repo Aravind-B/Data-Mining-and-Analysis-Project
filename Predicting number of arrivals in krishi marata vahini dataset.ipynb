{
 "cells": [
  {
   "cell_type": "code",
   "execution_count": 491,
   "metadata": {},
   "outputs": [
    {
     "name": "stdout",
     "output_type": "stream",
     "text": [
      "Populating the interactive namespace from numpy and matplotlib\n"
     ]
    },
    {
     "name": "stderr",
     "output_type": "stream",
     "text": [
      "/home/aadil/anaconda3/lib/python3.6/site-packages/IPython/core/magics/pylab.py:161: UserWarning: pylab import has clobbered these variables: ['test']\n",
      "`%matplotlib` prevents importing * from pylab and numpy\n",
      "  \"\\n`%matplotlib` prevents importing * from pylab and numpy\"\n"
     ]
    }
   ],
   "source": [
    "import numpy as np\n",
    "import pandas as pd\n",
    "import matplotlib.pyplot as plt\n",
    "import seaborn as sns\n",
    "%pylab inline"
   ]
  },
  {
   "cell_type": "markdown",
   "metadata": {},
   "source": [
    "## The train and test data are imported. The training dataset consists of 10,06,803 records. The testing data consists 51,221 records."
   ]
  },
  {
   "cell_type": "code",
   "execution_count": 492,
   "metadata": {},
   "outputs": [],
   "source": [
    "import random as rd\n",
    "trainfile = \"FinalDataSet_final_1_2.csv\"\n",
    "n = sum(1 for line in open(trainfile)) - 1\n",
    "s = 100000\n",
    "skip1 = sorted(rd.sample(range(1,n+1),n-s))\n"
   ]
  },
  {
   "cell_type": "code",
   "execution_count": 493,
   "metadata": {
    "collapsed": true,
    "scrolled": true
   },
   "outputs": [],
   "source": [
    "\n",
    "train_data = pd.read_csv(trainfile,encoding = 'utf-8',skiprows = skip1)\n",
    "test_data = pd.read_csv(\"testing_dataset.csv\",encoding = 'utf-8')"
   ]
  },
  {
   "cell_type": "code",
   "execution_count": 494,
   "metadata": {
    "scrolled": true
   },
   "outputs": [
    {
     "data": {
      "text/html": [
       "<div>\n",
       "<style>\n",
       "    .dataframe thead tr:only-child th {\n",
       "        text-align: right;\n",
       "    }\n",
       "\n",
       "    .dataframe thead th {\n",
       "        text-align: left;\n",
       "    }\n",
       "\n",
       "    .dataframe tbody tr th {\n",
       "        vertical-align: top;\n",
       "    }\n",
       "</style>\n",
       "<table border=\"1\" class=\"dataframe\">\n",
       "  <thead>\n",
       "    <tr style=\"text-align: right;\">\n",
       "      <th></th>\n",
       "      <th>Date</th>\n",
       "      <th>Commodity</th>\n",
       "      <th>Variety</th>\n",
       "      <th>Grade</th>\n",
       "      <th>Market</th>\n",
       "      <th>Arrival</th>\n",
       "      <th>Unit</th>\n",
       "      <th>Min</th>\n",
       "      <th>Max</th>\n",
       "      <th>Modal</th>\n",
       "      <th>Group</th>\n",
       "    </tr>\n",
       "  </thead>\n",
       "  <tbody>\n",
       "    <tr>\n",
       "      <th>0</th>\n",
       "      <td>01/01/2010</td>\n",
       "      <td>Bajra</td>\n",
       "      <td>Local</td>\n",
       "      <td>Average</td>\n",
       "      <td>KALABURAGI</td>\n",
       "      <td>1135</td>\n",
       "      <td>Quintal�</td>\n",
       "      <td>1315</td>\n",
       "      <td>1608</td>\n",
       "      <td>1485</td>\n",
       "      <td>Cereals</td>\n",
       "    </tr>\n",
       "    <tr>\n",
       "      <th>1</th>\n",
       "      <td>01/01/2010</td>\n",
       "      <td>Jowar</td>\n",
       "      <td>Jowar ( White)</td>\n",
       "      <td>Average</td>\n",
       "      <td>VIJAYAPURA</td>\n",
       "      <td>6</td>\n",
       "      <td>Quintal�</td>\n",
       "      <td>1900</td>\n",
       "      <td>2200</td>\n",
       "      <td>2100</td>\n",
       "      <td>Cereals</td>\n",
       "    </tr>\n",
       "    <tr>\n",
       "      <th>2</th>\n",
       "      <td>01/01/2010</td>\n",
       "      <td>Maize</td>\n",
       "      <td>Hybrid/Local</td>\n",
       "      <td>Average</td>\n",
       "      <td>BANGARPET</td>\n",
       "      <td>460</td>\n",
       "      <td>Quintal�</td>\n",
       "      <td>1480</td>\n",
       "      <td>1570</td>\n",
       "      <td>1510</td>\n",
       "      <td>Cereals</td>\n",
       "    </tr>\n",
       "    <tr>\n",
       "      <th>3</th>\n",
       "      <td>01/01/2010</td>\n",
       "      <td>Maize</td>\n",
       "      <td>Local</td>\n",
       "      <td>Medium</td>\n",
       "      <td>RANIBENNUR</td>\n",
       "      <td>1177</td>\n",
       "      <td>Quintal�</td>\n",
       "      <td>1300</td>\n",
       "      <td>1410</td>\n",
       "      <td>1395</td>\n",
       "      <td>Cereals</td>\n",
       "    </tr>\n",
       "    <tr>\n",
       "      <th>4</th>\n",
       "      <td>01/01/2010</td>\n",
       "      <td>Maize</td>\n",
       "      <td>Local</td>\n",
       "      <td>Average</td>\n",
       "      <td>GADAG</td>\n",
       "      <td>107</td>\n",
       "      <td>Quintal�</td>\n",
       "      <td>1002</td>\n",
       "      <td>1396</td>\n",
       "      <td>1367</td>\n",
       "      <td>Cereals</td>\n",
       "    </tr>\n",
       "    <tr>\n",
       "      <th>5</th>\n",
       "      <td>01/01/2010</td>\n",
       "      <td>Paddy</td>\n",
       "      <td>Jaya</td>\n",
       "      <td>Average</td>\n",
       "      <td>CHANNAGIRI</td>\n",
       "      <td>350</td>\n",
       "      <td>Quintal�</td>\n",
       "      <td>1400</td>\n",
       "      <td>1400</td>\n",
       "      <td>1400</td>\n",
       "      <td>Cereals</td>\n",
       "    </tr>\n",
       "    <tr>\n",
       "      <th>6</th>\n",
       "      <td>01/01/2010</td>\n",
       "      <td>Paddy</td>\n",
       "      <td>Paddy Jyoti</td>\n",
       "      <td>Average</td>\n",
       "      <td>NANJANGUD</td>\n",
       "      <td>1440</td>\n",
       "      <td>Quintal�</td>\n",
       "      <td>1410</td>\n",
       "      <td>1510</td>\n",
       "      <td>1450</td>\n",
       "      <td>Cereals</td>\n",
       "    </tr>\n",
       "    <tr>\n",
       "      <th>7</th>\n",
       "      <td>01/01/2010</td>\n",
       "      <td>Paddy</td>\n",
       "      <td>Paddy Fine Variety</td>\n",
       "      <td>Average</td>\n",
       "      <td>DAVANAGERE</td>\n",
       "      <td>2100</td>\n",
       "      <td>Quintal�</td>\n",
       "      <td>1700</td>\n",
       "      <td>2300</td>\n",
       "      <td>2000</td>\n",
       "      <td>Cereals</td>\n",
       "    </tr>\n",
       "    <tr>\n",
       "      <th>8</th>\n",
       "      <td>01/01/2010</td>\n",
       "      <td>Rice</td>\n",
       "      <td>Coarse</td>\n",
       "      <td>Average</td>\n",
       "      <td>SHIVAMOGGA</td>\n",
       "      <td>20</td>\n",
       "      <td>Quintal�</td>\n",
       "      <td>1900</td>\n",
       "      <td>2400</td>\n",
       "      <td>2150</td>\n",
       "      <td>Cereals</td>\n",
       "    </tr>\n",
       "    <tr>\n",
       "      <th>9</th>\n",
       "      <td>01/01/2010</td>\n",
       "      <td>Rice</td>\n",
       "      <td>Fine</td>\n",
       "      <td>Average</td>\n",
       "      <td>MYSURU</td>\n",
       "      <td>2914</td>\n",
       "      <td>Quintal�</td>\n",
       "      <td>3500</td>\n",
       "      <td>4500</td>\n",
       "      <td>4000</td>\n",
       "      <td>Cereals</td>\n",
       "    </tr>\n",
       "    <tr>\n",
       "      <th>10</th>\n",
       "      <td>01/01/2010</td>\n",
       "      <td>Rice</td>\n",
       "      <td>Fine</td>\n",
       "      <td>Average</td>\n",
       "      <td>MADIKERI</td>\n",
       "      <td>28</td>\n",
       "      <td>Quintal�</td>\n",
       "      <td>3235</td>\n",
       "      <td>3235</td>\n",
       "      <td>3235</td>\n",
       "      <td>Cereals</td>\n",
       "    </tr>\n",
       "    <tr>\n",
       "      <th>11</th>\n",
       "      <td>01/01/2010</td>\n",
       "      <td>Rice</td>\n",
       "      <td>Medium</td>\n",
       "      <td>FAQ</td>\n",
       "      <td>BAGEPALLI</td>\n",
       "      <td>10</td>\n",
       "      <td>Quintal�</td>\n",
       "      <td>2000</td>\n",
       "      <td>2500</td>\n",
       "      <td>2200</td>\n",
       "      <td>Cereals</td>\n",
       "    </tr>\n",
       "    <tr>\n",
       "      <th>12</th>\n",
       "      <td>01/01/2010</td>\n",
       "      <td>Sajje</td>\n",
       "      <td>Sajje</td>\n",
       "      <td>Average</td>\n",
       "      <td>LINGASARGUR</td>\n",
       "      <td>500</td>\n",
       "      <td>Quintal�</td>\n",
       "      <td>900</td>\n",
       "      <td>1300</td>\n",
       "      <td>1280</td>\n",
       "      <td>Cereals</td>\n",
       "    </tr>\n",
       "    <tr>\n",
       "      <th>13</th>\n",
       "      <td>01/01/2010</td>\n",
       "      <td>Wheat</td>\n",
       "      <td>Local</td>\n",
       "      <td>Average</td>\n",
       "      <td>KUNDGOL</td>\n",
       "      <td>857</td>\n",
       "      <td>Quintal�</td>\n",
       "      <td>1620</td>\n",
       "      <td>1620</td>\n",
       "      <td>1620</td>\n",
       "      <td>Cereals</td>\n",
       "    </tr>\n",
       "    <tr>\n",
       "      <th>14</th>\n",
       "      <td>01/01/2010</td>\n",
       "      <td>Bengal Gramdal</td>\n",
       "      <td>Bengal Gram Dal</td>\n",
       "      <td>Average</td>\n",
       "      <td>DAVANAGERE</td>\n",
       "      <td>40</td>\n",
       "      <td>Quintal�</td>\n",
       "      <td>5900</td>\n",
       "      <td>6000</td>\n",
       "      <td>5950</td>\n",
       "      <td>Pulses</td>\n",
       "    </tr>\n",
       "    <tr>\n",
       "      <th>15</th>\n",
       "      <td>01/01/2010</td>\n",
       "      <td>Cowpea</td>\n",
       "      <td>Cowpea (Whole)</td>\n",
       "      <td>Average</td>\n",
       "      <td>SIRA</td>\n",
       "      <td>194</td>\n",
       "      <td>Quintal�</td>\n",
       "      <td>4100</td>\n",
       "      <td>4150</td>\n",
       "      <td>4112</td>\n",
       "      <td>Pulses</td>\n",
       "    </tr>\n",
       "    <tr>\n",
       "      <th>16</th>\n",
       "      <td>01/01/2010</td>\n",
       "      <td>Cowpea</td>\n",
       "      <td>Cowpea (Whole)</td>\n",
       "      <td>Average</td>\n",
       "      <td>KOTTUR</td>\n",
       "      <td>1</td>\n",
       "      <td>Quintal�</td>\n",
       "      <td>3510</td>\n",
       "      <td>3510</td>\n",
       "      <td>3510</td>\n",
       "      <td>Pulses</td>\n",
       "    </tr>\n",
       "    <tr>\n",
       "      <th>17</th>\n",
       "      <td>01/01/2010</td>\n",
       "      <td>Greengram</td>\n",
       "      <td>Green Gram (Whole)</td>\n",
       "      <td>Average</td>\n",
       "      <td>DAVANAGERE</td>\n",
       "      <td>22</td>\n",
       "      <td>Quintal�</td>\n",
       "      <td>8600</td>\n",
       "      <td>8700</td>\n",
       "      <td>8650</td>\n",
       "      <td>Pulses</td>\n",
       "    </tr>\n",
       "    <tr>\n",
       "      <th>18</th>\n",
       "      <td>01/01/2010</td>\n",
       "      <td>Greengram</td>\n",
       "      <td>Green Gram (Whole)</td>\n",
       "      <td>Average</td>\n",
       "      <td>BIDAR</td>\n",
       "      <td>50</td>\n",
       "      <td>Quintal�</td>\n",
       "      <td>6500</td>\n",
       "      <td>6722</td>\n",
       "      <td>6708</td>\n",
       "      <td>Pulses</td>\n",
       "    </tr>\n",
       "    <tr>\n",
       "      <th>19</th>\n",
       "      <td>01/01/2010</td>\n",
       "      <td>Greengram</td>\n",
       "      <td>Green Gram (Whole)</td>\n",
       "      <td>Average</td>\n",
       "      <td>CHITTAPURA</td>\n",
       "      <td>5</td>\n",
       "      <td>Quintal�</td>\n",
       "      <td>6500</td>\n",
       "      <td>6500</td>\n",
       "      <td>6500</td>\n",
       "      <td>Pulses</td>\n",
       "    </tr>\n",
       "    <tr>\n",
       "      <th>20</th>\n",
       "      <td>01/01/2010</td>\n",
       "      <td>Tur</td>\n",
       "      <td>Tur</td>\n",
       "      <td>Average</td>\n",
       "      <td>BIDAR</td>\n",
       "      <td>2299</td>\n",
       "      <td>Quintal�</td>\n",
       "      <td>6801</td>\n",
       "      <td>9229</td>\n",
       "      <td>8809</td>\n",
       "      <td>Pulses</td>\n",
       "    </tr>\n",
       "    <tr>\n",
       "      <th>21</th>\n",
       "      <td>01/01/2010</td>\n",
       "      <td>Tur</td>\n",
       "      <td>Tur</td>\n",
       "      <td>Average</td>\n",
       "      <td>SEDAM</td>\n",
       "      <td>75</td>\n",
       "      <td>Quintal�</td>\n",
       "      <td>9125</td>\n",
       "      <td>9125</td>\n",
       "      <td>9125</td>\n",
       "      <td>Pulses</td>\n",
       "    </tr>\n",
       "    <tr>\n",
       "      <th>22</th>\n",
       "      <td>01/01/2010</td>\n",
       "      <td>Tur</td>\n",
       "      <td>Tur</td>\n",
       "      <td>Average</td>\n",
       "      <td>KALABURAGI</td>\n",
       "      <td>2285</td>\n",
       "      <td>Quintal�</td>\n",
       "      <td>8211</td>\n",
       "      <td>9556</td>\n",
       "      <td>9020</td>\n",
       "      <td>Pulses</td>\n",
       "    </tr>\n",
       "    <tr>\n",
       "      <th>23</th>\n",
       "      <td>01/01/2010</td>\n",
       "      <td>Groundnut</td>\n",
       "      <td>Big (With Shell)</td>\n",
       "      <td>Average</td>\n",
       "      <td>YADGIR</td>\n",
       "      <td>35</td>\n",
       "      <td>Quintal�</td>\n",
       "      <td>4241</td>\n",
       "      <td>4557</td>\n",
       "      <td>4252</td>\n",
       "      <td>Oil Seeds</td>\n",
       "    </tr>\n",
       "    <tr>\n",
       "      <th>24</th>\n",
       "      <td>01/01/2010</td>\n",
       "      <td>Groundnut</td>\n",
       "      <td>Gejje</td>\n",
       "      <td>Average</td>\n",
       "      <td>CHALLAKERE</td>\n",
       "      <td>4038</td>\n",
       "      <td>Quintal�</td>\n",
       "      <td>3000</td>\n",
       "      <td>5501</td>\n",
       "      <td>4521</td>\n",
       "      <td>Oil Seeds</td>\n",
       "    </tr>\n",
       "    <tr>\n",
       "      <th>25</th>\n",
       "      <td>01/01/2010</td>\n",
       "      <td>Groundnut</td>\n",
       "      <td>Gejje</td>\n",
       "      <td>Medium</td>\n",
       "      <td>BAGALKOT</td>\n",
       "      <td>10</td>\n",
       "      <td>Quintal�</td>\n",
       "      <td>2831</td>\n",
       "      <td>4429</td>\n",
       "      <td>3538</td>\n",
       "      <td>Oil Seeds</td>\n",
       "    </tr>\n",
       "    <tr>\n",
       "      <th>26</th>\n",
       "      <td>01/01/2010</td>\n",
       "      <td>Sunflower</td>\n",
       "      <td>Sunflower</td>\n",
       "      <td>Average</td>\n",
       "      <td>RONA</td>\n",
       "      <td>88</td>\n",
       "      <td>Quintal�</td>\n",
       "      <td>3590</td>\n",
       "      <td>3787</td>\n",
       "      <td>3620</td>\n",
       "      <td>Oil Seeds</td>\n",
       "    </tr>\n",
       "    <tr>\n",
       "      <th>27</th>\n",
       "      <td>01/01/2010</td>\n",
       "      <td>Cotton</td>\n",
       "      <td>Cotton-64</td>\n",
       "      <td>Average</td>\n",
       "      <td>SANTHESARGUR</td>\n",
       "      <td>97</td>\n",
       "      <td>Quintal�</td>\n",
       "      <td>4800</td>\n",
       "      <td>4800</td>\n",
       "      <td>4800</td>\n",
       "      <td>Fibre Crops</td>\n",
       "    </tr>\n",
       "    <tr>\n",
       "      <th>28</th>\n",
       "      <td>01/01/2010</td>\n",
       "      <td>Cotton</td>\n",
       "      <td>Other</td>\n",
       "      <td>Average</td>\n",
       "      <td>GUNDLUPET</td>\n",
       "      <td>72</td>\n",
       "      <td>Quintal�</td>\n",
       "      <td>4200</td>\n",
       "      <td>4200</td>\n",
       "      <td>4200</td>\n",
       "      <td>Fibre Crops</td>\n",
       "    </tr>\n",
       "    <tr>\n",
       "      <th>29</th>\n",
       "      <td>01/01/2010</td>\n",
       "      <td>Cotton</td>\n",
       "      <td>BT</td>\n",
       "      <td>Average</td>\n",
       "      <td>ANNIGERI</td>\n",
       "      <td>165</td>\n",
       "      <td>Quintal�</td>\n",
       "      <td>4750</td>\n",
       "      <td>4950</td>\n",
       "      <td>4800</td>\n",
       "      <td>Fibre Crops</td>\n",
       "    </tr>\n",
       "    <tr>\n",
       "      <th>...</th>\n",
       "      <td>...</td>\n",
       "      <td>...</td>\n",
       "      <td>...</td>\n",
       "      <td>...</td>\n",
       "      <td>...</td>\n",
       "      <td>...</td>\n",
       "      <td>...</td>\n",
       "      <td>...</td>\n",
       "      <td>...</td>\n",
       "      <td>...</td>\n",
       "      <td>...</td>\n",
       "    </tr>\n",
       "    <tr>\n",
       "      <th>99970</th>\n",
       "      <td>31/12/2016</td>\n",
       "      <td>Cotton</td>\n",
       "      <td>Jaydhar</td>\n",
       "      <td>Medium</td>\n",
       "      <td>MANVI</td>\n",
       "      <td>896</td>\n",
       "      <td>Quintal</td>\n",
       "      <td>4750</td>\n",
       "      <td>5200</td>\n",
       "      <td>5062</td>\n",
       "      <td>Fibre Crops</td>\n",
       "    </tr>\n",
       "    <tr>\n",
       "      <th>99971</th>\n",
       "      <td>31/12/2016</td>\n",
       "      <td>Apple</td>\n",
       "      <td>Apple</td>\n",
       "      <td>Average</td>\n",
       "      <td>BINNY MILL (F&amp;V)</td>\n",
       "      <td>1680</td>\n",
       "      <td>Quintal</td>\n",
       "      <td>4000</td>\n",
       "      <td>10000</td>\n",
       "      <td>7000</td>\n",
       "      <td>Fruits</td>\n",
       "    </tr>\n",
       "    <tr>\n",
       "      <th>99972</th>\n",
       "      <td>31/12/2016</td>\n",
       "      <td>Banana Green</td>\n",
       "      <td>Banana - Green (Balekai)</td>\n",
       "      <td>Average</td>\n",
       "      <td>BINNY MILL (F&amp;V)</td>\n",
       "      <td>130</td>\n",
       "      <td>Quintal</td>\n",
       "      <td>1200</td>\n",
       "      <td>1400</td>\n",
       "      <td>1300</td>\n",
       "      <td>Vegetables</td>\n",
       "    </tr>\n",
       "    <tr>\n",
       "      <th>99973</th>\n",
       "      <td>31/12/2016</td>\n",
       "      <td>Beans</td>\n",
       "      <td>Beans (Whole)</td>\n",
       "      <td>Average</td>\n",
       "      <td>RAMANAGARA</td>\n",
       "      <td>8</td>\n",
       "      <td>Quintal</td>\n",
       "      <td>3200</td>\n",
       "      <td>4000</td>\n",
       "      <td>3600</td>\n",
       "      <td>Vegetables</td>\n",
       "    </tr>\n",
       "    <tr>\n",
       "      <th>99974</th>\n",
       "      <td>31/12/2016</td>\n",
       "      <td>Beetroot</td>\n",
       "      <td>Beetroot</td>\n",
       "      <td>Average</td>\n",
       "      <td>CHANNAPATNA</td>\n",
       "      <td>1</td>\n",
       "      <td>Quintal</td>\n",
       "      <td>1200</td>\n",
       "      <td>1500</td>\n",
       "      <td>1350</td>\n",
       "      <td>Vegetables</td>\n",
       "    </tr>\n",
       "    <tr>\n",
       "      <th>99975</th>\n",
       "      <td>31/12/2016</td>\n",
       "      <td>Beetroot</td>\n",
       "      <td>Beetroot</td>\n",
       "      <td>Average</td>\n",
       "      <td>CHIKKAMAGALURU</td>\n",
       "      <td>17</td>\n",
       "      <td>Quintal</td>\n",
       "      <td>782</td>\n",
       "      <td>1082</td>\n",
       "      <td>882</td>\n",
       "      <td>Vegetables</td>\n",
       "    </tr>\n",
       "    <tr>\n",
       "      <th>99976</th>\n",
       "      <td>31/12/2016</td>\n",
       "      <td>Chapparada Avare</td>\n",
       "      <td>Chapparada Avarekai</td>\n",
       "      <td>Average</td>\n",
       "      <td>CHICKBALLAPUR</td>\n",
       "      <td>6</td>\n",
       "      <td>Quintal</td>\n",
       "      <td>1600</td>\n",
       "      <td>1800</td>\n",
       "      <td>1700</td>\n",
       "      <td>Vegetables</td>\n",
       "    </tr>\n",
       "    <tr>\n",
       "      <th>99977</th>\n",
       "      <td>31/12/2016</td>\n",
       "      <td>Green Avare (W)</td>\n",
       "      <td>Green Avare (W)</td>\n",
       "      <td>Average</td>\n",
       "      <td>BINNY MILL (F&amp;V)</td>\n",
       "      <td>187</td>\n",
       "      <td>Quintal</td>\n",
       "      <td>2800</td>\n",
       "      <td>3200</td>\n",
       "      <td>3000</td>\n",
       "      <td>NaN</td>\n",
       "    </tr>\n",
       "    <tr>\n",
       "      <th>99978</th>\n",
       "      <td>31/12/2016</td>\n",
       "      <td>Green Chilly</td>\n",
       "      <td>Green Chilly</td>\n",
       "      <td>Medium</td>\n",
       "      <td>HONNALI</td>\n",
       "      <td>55</td>\n",
       "      <td>Quintal</td>\n",
       "      <td>900</td>\n",
       "      <td>900</td>\n",
       "      <td>900</td>\n",
       "      <td>Vegetables</td>\n",
       "    </tr>\n",
       "    <tr>\n",
       "      <th>99979</th>\n",
       "      <td>31/12/2016</td>\n",
       "      <td>Knool Khol</td>\n",
       "      <td>Knool Khol</td>\n",
       "      <td>Average</td>\n",
       "      <td>RAMANAGARA</td>\n",
       "      <td>4</td>\n",
       "      <td>Quintal</td>\n",
       "      <td>1600</td>\n",
       "      <td>2000</td>\n",
       "      <td>1800</td>\n",
       "      <td>Vegetables</td>\n",
       "    </tr>\n",
       "    <tr>\n",
       "      <th>99980</th>\n",
       "      <td>31/12/2016</td>\n",
       "      <td>Ladies Finger</td>\n",
       "      <td>Ladies Finger</td>\n",
       "      <td>Average</td>\n",
       "      <td>DODDABALLAPUR</td>\n",
       "      <td>4</td>\n",
       "      <td>Quintal</td>\n",
       "      <td>1000</td>\n",
       "      <td>1400</td>\n",
       "      <td>1200</td>\n",
       "      <td>Vegetables</td>\n",
       "    </tr>\n",
       "    <tr>\n",
       "      <th>99981</th>\n",
       "      <td>31/12/2016</td>\n",
       "      <td>Onion</td>\n",
       "      <td>Puna</td>\n",
       "      <td>Average</td>\n",
       "      <td>HUBBALLI</td>\n",
       "      <td>1101</td>\n",
       "      <td>Quintal</td>\n",
       "      <td>280</td>\n",
       "      <td>1250</td>\n",
       "      <td>750</td>\n",
       "      <td>Vegetables</td>\n",
       "    </tr>\n",
       "    <tr>\n",
       "      <th>99982</th>\n",
       "      <td>31/12/2016</td>\n",
       "      <td>Onion</td>\n",
       "      <td>Telagi</td>\n",
       "      <td>Average</td>\n",
       "      <td>HUBBALLI</td>\n",
       "      <td>980</td>\n",
       "      <td>Quintal</td>\n",
       "      <td>200</td>\n",
       "      <td>1200</td>\n",
       "      <td>680</td>\n",
       "      <td>Vegetables</td>\n",
       "    </tr>\n",
       "    <tr>\n",
       "      <th>99983</th>\n",
       "      <td>31/12/2016</td>\n",
       "      <td>Onion</td>\n",
       "      <td>Other</td>\n",
       "      <td>Average</td>\n",
       "      <td>MYSURU</td>\n",
       "      <td>2284</td>\n",
       "      <td>Quintal</td>\n",
       "      <td>300</td>\n",
       "      <td>1200</td>\n",
       "      <td>750</td>\n",
       "      <td>Vegetables</td>\n",
       "    </tr>\n",
       "    <tr>\n",
       "      <th>99984</th>\n",
       "      <td>31/12/2016</td>\n",
       "      <td>Potato</td>\n",
       "      <td>Potato</td>\n",
       "      <td>Average</td>\n",
       "      <td>HUBBALLI</td>\n",
       "      <td>2005</td>\n",
       "      <td>Quintal</td>\n",
       "      <td>400</td>\n",
       "      <td>900</td>\n",
       "      <td>650</td>\n",
       "      <td>Vegetables</td>\n",
       "    </tr>\n",
       "    <tr>\n",
       "      <th>99985</th>\n",
       "      <td>31/12/2016</td>\n",
       "      <td>Raddish</td>\n",
       "      <td>Raddish</td>\n",
       "      <td>Average</td>\n",
       "      <td>CHICKBALLAPUR</td>\n",
       "      <td>26</td>\n",
       "      <td>Quintal</td>\n",
       "      <td>600</td>\n",
       "      <td>800</td>\n",
       "      <td>700</td>\n",
       "      <td>Vegetables</td>\n",
       "    </tr>\n",
       "    <tr>\n",
       "      <th>99986</th>\n",
       "      <td>31/12/2016</td>\n",
       "      <td>Snakeguard</td>\n",
       "      <td>Snakeguard</td>\n",
       "      <td>Average</td>\n",
       "      <td>BINNY MILL (F&amp;V)</td>\n",
       "      <td>59</td>\n",
       "      <td>Quintal</td>\n",
       "      <td>1200</td>\n",
       "      <td>1400</td>\n",
       "      <td>1300</td>\n",
       "      <td>Vegetables</td>\n",
       "    </tr>\n",
       "    <tr>\n",
       "      <th>99987</th>\n",
       "      <td>31/12/2016</td>\n",
       "      <td>Tomato</td>\n",
       "      <td>Tomato</td>\n",
       "      <td>Average</td>\n",
       "      <td>DAVANAGERE</td>\n",
       "      <td>130</td>\n",
       "      <td>Quintal</td>\n",
       "      <td>200</td>\n",
       "      <td>280</td>\n",
       "      <td>240</td>\n",
       "      <td>Vegetables</td>\n",
       "    </tr>\n",
       "    <tr>\n",
       "      <th>99988</th>\n",
       "      <td>31/12/2016</td>\n",
       "      <td>Tomato</td>\n",
       "      <td>Tomato</td>\n",
       "      <td>Average</td>\n",
       "      <td>MYSURU</td>\n",
       "      <td>2729</td>\n",
       "      <td>Quintal</td>\n",
       "      <td>700</td>\n",
       "      <td>750</td>\n",
       "      <td>720</td>\n",
       "      <td>Vegetables</td>\n",
       "    </tr>\n",
       "    <tr>\n",
       "      <th>99989</th>\n",
       "      <td>31/12/2016</td>\n",
       "      <td>Dry Chillies</td>\n",
       "      <td>Byadgi</td>\n",
       "      <td>Average</td>\n",
       "      <td>KUNDAPUR</td>\n",
       "      <td>6</td>\n",
       "      <td>Quintal</td>\n",
       "      <td>13300</td>\n",
       "      <td>14700</td>\n",
       "      <td>13400</td>\n",
       "      <td>Spices</td>\n",
       "    </tr>\n",
       "    <tr>\n",
       "      <th>99990</th>\n",
       "      <td>31/12/2016</td>\n",
       "      <td>Cashewnut</td>\n",
       "      <td>Other</td>\n",
       "      <td>Average</td>\n",
       "      <td>KOPPA</td>\n",
       "      <td>774</td>\n",
       "      <td>Quintal</td>\n",
       "      <td>15833</td>\n",
       "      <td>15833</td>\n",
       "      <td>15833</td>\n",
       "      <td>Dry Fruits</td>\n",
       "    </tr>\n",
       "    <tr>\n",
       "      <th>99991</th>\n",
       "      <td>31/12/2016</td>\n",
       "      <td>Coconut (Per 1000)</td>\n",
       "      <td>Grade-I</td>\n",
       "      <td>Average</td>\n",
       "      <td>MANGALURU</td>\n",
       "      <td>1355</td>\n",
       "      <td>Numbers</td>\n",
       "      <td>13000</td>\n",
       "      <td>20000</td>\n",
       "      <td>14500</td>\n",
       "      <td>Other</td>\n",
       "    </tr>\n",
       "    <tr>\n",
       "      <th>99992</th>\n",
       "      <td>31/12/2016</td>\n",
       "      <td>Coconut (Per 1000)</td>\n",
       "      <td>Coconut</td>\n",
       "      <td>Average</td>\n",
       "      <td>ARAKALGUD</td>\n",
       "      <td>94000</td>\n",
       "      <td>Numbers</td>\n",
       "      <td>8000</td>\n",
       "      <td>9000</td>\n",
       "      <td>8000</td>\n",
       "      <td>Other</td>\n",
       "    </tr>\n",
       "    <tr>\n",
       "      <th>99993</th>\n",
       "      <td>31/12/2016</td>\n",
       "      <td>Coconut (Per 1000)</td>\n",
       "      <td>Coconut</td>\n",
       "      <td>Average</td>\n",
       "      <td>KADUR</td>\n",
       "      <td>79930</td>\n",
       "      <td>Numbers</td>\n",
       "      <td>8000</td>\n",
       "      <td>11000</td>\n",
       "      <td>8000</td>\n",
       "      <td>Other</td>\n",
       "    </tr>\n",
       "    <tr>\n",
       "      <th>99994</th>\n",
       "      <td>31/12/2016</td>\n",
       "      <td>Coconut (Per 1000)</td>\n",
       "      <td>Other</td>\n",
       "      <td>Average</td>\n",
       "      <td>SIRSI</td>\n",
       "      <td>91361</td>\n",
       "      <td>Numbers</td>\n",
       "      <td>700</td>\n",
       "      <td>890</td>\n",
       "      <td>800</td>\n",
       "      <td>Other</td>\n",
       "    </tr>\n",
       "    <tr>\n",
       "      <th>99995</th>\n",
       "      <td>31/12/2016</td>\n",
       "      <td>Arecanut</td>\n",
       "      <td>Rashi</td>\n",
       "      <td>Average</td>\n",
       "      <td>CHANNAGIRI</td>\n",
       "      <td>2093</td>\n",
       "      <td>Quintal</td>\n",
       "      <td>22559</td>\n",
       "      <td>26569</td>\n",
       "      <td>26040</td>\n",
       "      <td>Drugs &amp; Narcotics</td>\n",
       "    </tr>\n",
       "    <tr>\n",
       "      <th>99996</th>\n",
       "      <td>31/12/2016</td>\n",
       "      <td>Arecanut</td>\n",
       "      <td>ARECANUT-HUSK</td>\n",
       "      <td>Average</td>\n",
       "      <td>GONIKOPPAL</td>\n",
       "      <td>598</td>\n",
       "      <td>Quintal</td>\n",
       "      <td>1700</td>\n",
       "      <td>2000</td>\n",
       "      <td>1800</td>\n",
       "      <td>Drugs &amp; Narcotics</td>\n",
       "    </tr>\n",
       "    <tr>\n",
       "      <th>99997</th>\n",
       "      <td>31/12/2016</td>\n",
       "      <td>Arecanut</td>\n",
       "      <td>Bilegotu</td>\n",
       "      <td>Average</td>\n",
       "      <td>SIRSI</td>\n",
       "      <td>21</td>\n",
       "      <td>Quintal</td>\n",
       "      <td>5179</td>\n",
       "      <td>17272</td>\n",
       "      <td>16538</td>\n",
       "      <td>Drugs &amp; Narcotics</td>\n",
       "    </tr>\n",
       "    <tr>\n",
       "      <th>99998</th>\n",
       "      <td>31/12/2016</td>\n",
       "      <td>Arecanut</td>\n",
       "      <td>Rashi</td>\n",
       "      <td>Medium</td>\n",
       "      <td>HOLALKERE</td>\n",
       "      <td>246</td>\n",
       "      <td>Quintal</td>\n",
       "      <td>14607</td>\n",
       "      <td>26559</td>\n",
       "      <td>26329</td>\n",
       "      <td>Drugs &amp; Narcotics</td>\n",
       "    </tr>\n",
       "    <tr>\n",
       "      <th>99999</th>\n",
       "      <td>31/12/2016</td>\n",
       "      <td>Sheep (For Each)</td>\n",
       "      <td>Sheep Medium</td>\n",
       "      <td>Average</td>\n",
       "      <td>MADDUR</td>\n",
       "      <td>258</td>\n",
       "      <td>Numbers</td>\n",
       "      <td>2000</td>\n",
       "      <td>10000</td>\n",
       "      <td>8500</td>\n",
       "      <td>Live Stock/Poultry</td>\n",
       "    </tr>\n",
       "  </tbody>\n",
       "</table>\n",
       "<p>100000 rows × 11 columns</p>\n",
       "</div>"
      ],
      "text/plain": [
       "             Date           Commodity                   Variety    Grade  \\\n",
       "0      01/01/2010               Bajra                     Local  Average   \n",
       "1      01/01/2010               Jowar            Jowar ( White)  Average   \n",
       "2      01/01/2010               Maize              Hybrid/Local  Average   \n",
       "3      01/01/2010               Maize                     Local   Medium   \n",
       "4      01/01/2010               Maize                     Local  Average   \n",
       "5      01/01/2010               Paddy                      Jaya  Average   \n",
       "6      01/01/2010               Paddy               Paddy Jyoti  Average   \n",
       "7      01/01/2010               Paddy        Paddy Fine Variety  Average   \n",
       "8      01/01/2010                Rice                    Coarse  Average   \n",
       "9      01/01/2010                Rice                      Fine  Average   \n",
       "10     01/01/2010                Rice                      Fine  Average   \n",
       "11     01/01/2010                Rice                    Medium      FAQ   \n",
       "12     01/01/2010               Sajje                     Sajje  Average   \n",
       "13     01/01/2010               Wheat                     Local  Average   \n",
       "14     01/01/2010      Bengal Gramdal           Bengal Gram Dal  Average   \n",
       "15     01/01/2010              Cowpea            Cowpea (Whole)  Average   \n",
       "16     01/01/2010              Cowpea            Cowpea (Whole)  Average   \n",
       "17     01/01/2010           Greengram        Green Gram (Whole)  Average   \n",
       "18     01/01/2010           Greengram        Green Gram (Whole)  Average   \n",
       "19     01/01/2010           Greengram        Green Gram (Whole)  Average   \n",
       "20     01/01/2010                 Tur                       Tur  Average   \n",
       "21     01/01/2010                 Tur                       Tur  Average   \n",
       "22     01/01/2010                 Tur                       Tur  Average   \n",
       "23     01/01/2010           Groundnut          Big (With Shell)  Average   \n",
       "24     01/01/2010           Groundnut                     Gejje  Average   \n",
       "25     01/01/2010           Groundnut                     Gejje   Medium   \n",
       "26     01/01/2010           Sunflower                 Sunflower  Average   \n",
       "27     01/01/2010              Cotton                 Cotton-64  Average   \n",
       "28     01/01/2010              Cotton                     Other  Average   \n",
       "29     01/01/2010              Cotton                        BT  Average   \n",
       "...           ...                 ...                       ...      ...   \n",
       "99970  31/12/2016              Cotton                   Jaydhar   Medium   \n",
       "99971  31/12/2016               Apple                     Apple  Average   \n",
       "99972  31/12/2016        Banana Green  Banana - Green (Balekai)  Average   \n",
       "99973  31/12/2016               Beans             Beans (Whole)  Average   \n",
       "99974  31/12/2016            Beetroot                  Beetroot  Average   \n",
       "99975  31/12/2016            Beetroot                  Beetroot  Average   \n",
       "99976  31/12/2016    Chapparada Avare       Chapparada Avarekai  Average   \n",
       "99977  31/12/2016     Green Avare (W)           Green Avare (W)  Average   \n",
       "99978  31/12/2016        Green Chilly              Green Chilly   Medium   \n",
       "99979  31/12/2016          Knool Khol                Knool Khol  Average   \n",
       "99980  31/12/2016       Ladies Finger             Ladies Finger  Average   \n",
       "99981  31/12/2016               Onion                      Puna  Average   \n",
       "99982  31/12/2016               Onion                    Telagi  Average   \n",
       "99983  31/12/2016               Onion                     Other  Average   \n",
       "99984  31/12/2016              Potato                    Potato  Average   \n",
       "99985  31/12/2016             Raddish                   Raddish  Average   \n",
       "99986  31/12/2016          Snakeguard                Snakeguard  Average   \n",
       "99987  31/12/2016              Tomato                    Tomato  Average   \n",
       "99988  31/12/2016              Tomato                    Tomato  Average   \n",
       "99989  31/12/2016        Dry Chillies                    Byadgi  Average   \n",
       "99990  31/12/2016           Cashewnut                     Other  Average   \n",
       "99991  31/12/2016  Coconut (Per 1000)                   Grade-I  Average   \n",
       "99992  31/12/2016  Coconut (Per 1000)                   Coconut  Average   \n",
       "99993  31/12/2016  Coconut (Per 1000)                   Coconut  Average   \n",
       "99994  31/12/2016  Coconut (Per 1000)                     Other  Average   \n",
       "99995  31/12/2016            Arecanut                     Rashi  Average   \n",
       "99996  31/12/2016            Arecanut             ARECANUT-HUSK  Average   \n",
       "99997  31/12/2016            Arecanut                  Bilegotu  Average   \n",
       "99998  31/12/2016            Arecanut                     Rashi   Medium   \n",
       "99999  31/12/2016    Sheep (For Each)              Sheep Medium  Average   \n",
       "\n",
       "                 Market  Arrival      Unit    Min    Max  Modal  \\\n",
       "0            KALABURAGI     1135  Quintal�   1315   1608   1485   \n",
       "1            VIJAYAPURA        6  Quintal�   1900   2200   2100   \n",
       "2             BANGARPET      460  Quintal�   1480   1570   1510   \n",
       "3            RANIBENNUR     1177  Quintal�   1300   1410   1395   \n",
       "4                 GADAG      107  Quintal�   1002   1396   1367   \n",
       "5            CHANNAGIRI      350  Quintal�   1400   1400   1400   \n",
       "6             NANJANGUD     1440  Quintal�   1410   1510   1450   \n",
       "7            DAVANAGERE     2100  Quintal�   1700   2300   2000   \n",
       "8            SHIVAMOGGA       20  Quintal�   1900   2400   2150   \n",
       "9                MYSURU     2914  Quintal�   3500   4500   4000   \n",
       "10             MADIKERI       28  Quintal�   3235   3235   3235   \n",
       "11            BAGEPALLI       10  Quintal�   2000   2500   2200   \n",
       "12          LINGASARGUR      500  Quintal�    900   1300   1280   \n",
       "13              KUNDGOL      857  Quintal�   1620   1620   1620   \n",
       "14           DAVANAGERE       40  Quintal�   5900   6000   5950   \n",
       "15                 SIRA      194  Quintal�   4100   4150   4112   \n",
       "16               KOTTUR        1  Quintal�   3510   3510   3510   \n",
       "17           DAVANAGERE       22  Quintal�   8600   8700   8650   \n",
       "18                BIDAR       50  Quintal�   6500   6722   6708   \n",
       "19           CHITTAPURA        5  Quintal�   6500   6500   6500   \n",
       "20                BIDAR     2299  Quintal�   6801   9229   8809   \n",
       "21                SEDAM       75  Quintal�   9125   9125   9125   \n",
       "22           KALABURAGI     2285  Quintal�   8211   9556   9020   \n",
       "23               YADGIR       35  Quintal�   4241   4557   4252   \n",
       "24           CHALLAKERE     4038  Quintal�   3000   5501   4521   \n",
       "25             BAGALKOT       10  Quintal�   2831   4429   3538   \n",
       "26                 RONA       88  Quintal�   3590   3787   3620   \n",
       "27         SANTHESARGUR       97  Quintal�   4800   4800   4800   \n",
       "28            GUNDLUPET       72  Quintal�   4200   4200   4200   \n",
       "29             ANNIGERI      165  Quintal�   4750   4950   4800   \n",
       "...                 ...      ...       ...    ...    ...    ...   \n",
       "99970             MANVI      896   Quintal   4750   5200   5062   \n",
       "99971  BINNY MILL (F&V)     1680   Quintal   4000  10000   7000   \n",
       "99972  BINNY MILL (F&V)      130   Quintal   1200   1400   1300   \n",
       "99973        RAMANAGARA        8   Quintal   3200   4000   3600   \n",
       "99974       CHANNAPATNA        1   Quintal   1200   1500   1350   \n",
       "99975    CHIKKAMAGALURU       17   Quintal    782   1082    882   \n",
       "99976     CHICKBALLAPUR        6   Quintal   1600   1800   1700   \n",
       "99977  BINNY MILL (F&V)      187   Quintal   2800   3200   3000   \n",
       "99978           HONNALI       55   Quintal    900    900    900   \n",
       "99979        RAMANAGARA        4   Quintal   1600   2000   1800   \n",
       "99980     DODDABALLAPUR        4   Quintal   1000   1400   1200   \n",
       "99981          HUBBALLI     1101   Quintal    280   1250    750   \n",
       "99982          HUBBALLI      980   Quintal    200   1200    680   \n",
       "99983            MYSURU     2284   Quintal    300   1200    750   \n",
       "99984          HUBBALLI     2005   Quintal    400    900    650   \n",
       "99985     CHICKBALLAPUR       26   Quintal    600    800    700   \n",
       "99986  BINNY MILL (F&V)       59   Quintal   1200   1400   1300   \n",
       "99987        DAVANAGERE      130   Quintal    200    280    240   \n",
       "99988            MYSURU     2729   Quintal    700    750    720   \n",
       "99989          KUNDAPUR        6   Quintal  13300  14700  13400   \n",
       "99990             KOPPA      774   Quintal  15833  15833  15833   \n",
       "99991         MANGALURU     1355   Numbers  13000  20000  14500   \n",
       "99992         ARAKALGUD    94000   Numbers   8000   9000   8000   \n",
       "99993             KADUR    79930   Numbers   8000  11000   8000   \n",
       "99994             SIRSI    91361   Numbers    700    890    800   \n",
       "99995        CHANNAGIRI     2093   Quintal  22559  26569  26040   \n",
       "99996        GONIKOPPAL      598   Quintal   1700   2000   1800   \n",
       "99997             SIRSI       21   Quintal   5179  17272  16538   \n",
       "99998         HOLALKERE      246   Quintal  14607  26559  26329   \n",
       "99999            MADDUR      258   Numbers   2000  10000   8500   \n",
       "\n",
       "                    Group  \n",
       "0                 Cereals  \n",
       "1                 Cereals  \n",
       "2                 Cereals  \n",
       "3                 Cereals  \n",
       "4                 Cereals  \n",
       "5                 Cereals  \n",
       "6                 Cereals  \n",
       "7                 Cereals  \n",
       "8                 Cereals  \n",
       "9                 Cereals  \n",
       "10                Cereals  \n",
       "11                Cereals  \n",
       "12                Cereals  \n",
       "13                Cereals  \n",
       "14                 Pulses  \n",
       "15                 Pulses  \n",
       "16                 Pulses  \n",
       "17                 Pulses  \n",
       "18                 Pulses  \n",
       "19                 Pulses  \n",
       "20                 Pulses  \n",
       "21                 Pulses  \n",
       "22                 Pulses  \n",
       "23              Oil Seeds  \n",
       "24              Oil Seeds  \n",
       "25              Oil Seeds  \n",
       "26              Oil Seeds  \n",
       "27            Fibre Crops  \n",
       "28            Fibre Crops  \n",
       "29            Fibre Crops  \n",
       "...                   ...  \n",
       "99970         Fibre Crops  \n",
       "99971              Fruits  \n",
       "99972          Vegetables  \n",
       "99973          Vegetables  \n",
       "99974          Vegetables  \n",
       "99975          Vegetables  \n",
       "99976          Vegetables  \n",
       "99977                 NaN  \n",
       "99978          Vegetables  \n",
       "99979          Vegetables  \n",
       "99980          Vegetables  \n",
       "99981          Vegetables  \n",
       "99982          Vegetables  \n",
       "99983          Vegetables  \n",
       "99984          Vegetables  \n",
       "99985          Vegetables  \n",
       "99986          Vegetables  \n",
       "99987          Vegetables  \n",
       "99988          Vegetables  \n",
       "99989              Spices  \n",
       "99990          Dry Fruits  \n",
       "99991               Other  \n",
       "99992               Other  \n",
       "99993               Other  \n",
       "99994               Other  \n",
       "99995   Drugs & Narcotics  \n",
       "99996   Drugs & Narcotics  \n",
       "99997   Drugs & Narcotics  \n",
       "99998   Drugs & Narcotics  \n",
       "99999  Live Stock/Poultry  \n",
       "\n",
       "[100000 rows x 11 columns]"
      ]
     },
     "execution_count": 494,
     "metadata": {},
     "output_type": "execute_result"
    }
   ],
   "source": [
    "train_data"
   ]
  },
  {
   "cell_type": "markdown",
   "metadata": {},
   "source": [
    "## Usman"
   ]
  },
  {
   "cell_type": "markdown",
   "metadata": {},
   "source": [
    "#### The number of records and number of attributes in the training data is determined"
   ]
  },
  {
   "cell_type": "code",
   "execution_count": 495,
   "metadata": {},
   "outputs": [
    {
     "data": {
      "text/plain": [
       "(100000, 11)"
      ]
     },
     "execution_count": 495,
     "metadata": {},
     "output_type": "execute_result"
    }
   ],
   "source": [
    "train_data.shape"
   ]
  },
  {
   "cell_type": "markdown",
   "metadata": {},
   "source": [
    "#### The number of records and number of attributes in the testing data is determined"
   ]
  },
  {
   "cell_type": "code",
   "execution_count": 496,
   "metadata": {},
   "outputs": [
    {
     "data": {
      "text/plain": [
       "(51221, 10)"
      ]
     },
     "execution_count": 496,
     "metadata": {},
     "output_type": "execute_result"
    }
   ],
   "source": [
    "test_data.shape"
   ]
  },
  {
   "cell_type": "code",
   "execution_count": 497,
   "metadata": {
    "scrolled": false
   },
   "outputs": [
    {
     "data": {
      "text/html": [
       "<div>\n",
       "<style>\n",
       "    .dataframe thead tr:only-child th {\n",
       "        text-align: right;\n",
       "    }\n",
       "\n",
       "    .dataframe thead th {\n",
       "        text-align: left;\n",
       "    }\n",
       "\n",
       "    .dataframe tbody tr th {\n",
       "        vertical-align: top;\n",
       "    }\n",
       "</style>\n",
       "<table border=\"1\" class=\"dataframe\">\n",
       "  <thead>\n",
       "    <tr style=\"text-align: right;\">\n",
       "      <th></th>\n",
       "      <th>Date</th>\n",
       "      <th>Commodity</th>\n",
       "      <th>Variety</th>\n",
       "      <th>Grade</th>\n",
       "      <th>Market</th>\n",
       "      <th>Arrival</th>\n",
       "      <th>Unit</th>\n",
       "      <th>Min</th>\n",
       "      <th>Max</th>\n",
       "      <th>Modal</th>\n",
       "    </tr>\n",
       "  </thead>\n",
       "  <tbody>\n",
       "    <tr>\n",
       "      <th>0</th>\n",
       "      <td>01/01/2017</td>\n",
       "      <td>Bajra</td>\n",
       "      <td>Hybrid</td>\n",
       "      <td>Average</td>\n",
       "      <td>KUSTAGI</td>\n",
       "      <td>150</td>\n",
       "      <td>Quintal�</td>\n",
       "      <td>1510</td>\n",
       "      <td>1510</td>\n",
       "      <td>1510</td>\n",
       "    </tr>\n",
       "    <tr>\n",
       "      <th>1</th>\n",
       "      <td>01/01/2017</td>\n",
       "      <td>Jowar</td>\n",
       "      <td>Jowar ( White)</td>\n",
       "      <td>Average</td>\n",
       "      <td>BELAGAVI</td>\n",
       "      <td>10</td>\n",
       "      <td>Quintal�</td>\n",
       "      <td>2800</td>\n",
       "      <td>3400</td>\n",
       "      <td>3200</td>\n",
       "    </tr>\n",
       "    <tr>\n",
       "      <th>2</th>\n",
       "      <td>01/01/2017</td>\n",
       "      <td>Jowar</td>\n",
       "      <td>Jowar ( White)</td>\n",
       "      <td>Medium</td>\n",
       "      <td>HAGARI BOMMANA HALLI</td>\n",
       "      <td>25</td>\n",
       "      <td>Quintal�</td>\n",
       "      <td>1630</td>\n",
       "      <td>1630</td>\n",
       "      <td>1630</td>\n",
       "    </tr>\n",
       "    <tr>\n",
       "      <th>3</th>\n",
       "      <td>01/01/2017</td>\n",
       "      <td>Jowar</td>\n",
       "      <td>Jowar Hybrid</td>\n",
       "      <td>Average</td>\n",
       "      <td>HUMNABAD</td>\n",
       "      <td>29</td>\n",
       "      <td>Quintal�</td>\n",
       "      <td>1000</td>\n",
       "      <td>1100</td>\n",
       "      <td>1050</td>\n",
       "    </tr>\n",
       "    <tr>\n",
       "      <th>4</th>\n",
       "      <td>01/01/2017</td>\n",
       "      <td>Maize</td>\n",
       "      <td>Local</td>\n",
       "      <td>Average</td>\n",
       "      <td>SHIGGAON</td>\n",
       "      <td>2913</td>\n",
       "      <td>Quintal�</td>\n",
       "      <td>1300</td>\n",
       "      <td>1400</td>\n",
       "      <td>1362</td>\n",
       "    </tr>\n",
       "  </tbody>\n",
       "</table>\n",
       "</div>"
      ],
      "text/plain": [
       "         Date Commodity         Variety    Grade                Market  \\\n",
       "0  01/01/2017     Bajra          Hybrid  Average               KUSTAGI   \n",
       "1  01/01/2017     Jowar  Jowar ( White)  Average              BELAGAVI   \n",
       "2  01/01/2017     Jowar  Jowar ( White)   Medium  HAGARI BOMMANA HALLI   \n",
       "3  01/01/2017     Jowar    Jowar Hybrid  Average              HUMNABAD   \n",
       "4  01/01/2017     Maize           Local  Average              SHIGGAON   \n",
       "\n",
       "   Arrival      Unit   Min   Max  Modal  \n",
       "0      150  Quintal�  1510  1510   1510  \n",
       "1       10  Quintal�  2800  3400   3200  \n",
       "2       25  Quintal�  1630  1630   1630  \n",
       "3       29  Quintal�  1000  1100   1050  \n",
       "4     2913  Quintal�  1300  1400   1362  "
      ]
     },
     "execution_count": 497,
     "metadata": {},
     "output_type": "execute_result"
    }
   ],
   "source": [
    "test_data.head()"
   ]
  },
  {
   "cell_type": "markdown",
   "metadata": {},
   "source": [
    "#### The above result shows that there are impure values in the 'Unit' and 'Commodity'. The below step is to determine the impure records in 'Unit' column."
   ]
  },
  {
   "cell_type": "code",
   "execution_count": 498,
   "metadata": {},
   "outputs": [
    {
     "data": {
      "text/plain": [
       "array(['Quintal�', 'Numbers�', 'Thousands', 'Quintal', 'Numbers'], dtype=object)"
      ]
     },
     "execution_count": 498,
     "metadata": {},
     "output_type": "execute_result"
    }
   ],
   "source": [
    "pd.unique(test_data['Unit'].values.ravel())"
   ]
  },
  {
   "cell_type": "markdown",
   "metadata": {},
   "source": [
    "#### It was found that the 'Unit' column contained \"Quintal�\" and \"Numbers�\" as the impure records"
   ]
  },
  {
   "cell_type": "markdown",
   "metadata": {
    "collapsed": true
   },
   "source": [
    "#### The below step is to determine the impure records in 'Commodity' column."
   ]
  },
  {
   "cell_type": "code",
   "execution_count": 499,
   "metadata": {
    "scrolled": true
   },
   "outputs": [
    {
     "data": {
      "text/plain": [
       "array(['Bajra', 'Jowar', 'Maize', 'Navane', 'Paddy', 'Ragi', 'Rice',\n",
       "       'Blackgram', 'Cowpea', 'Greengram', 'Horse Gram', 'Tur', 'Copra',\n",
       "       'Groundnut', 'Groundnut Seed', 'Soyabeen', 'Sunflower', 'Cotton',\n",
       "       'Jute', 'Beans', 'Beetroot', 'Bitter Gourd', 'Bottle Gourd',\n",
       "       'Brinjal', 'Cabbage', 'Capsicum', 'Carrot', 'Cauliflower',\n",
       "       'Chilly Capsicum', 'Cucumbar', 'Green Chilly', 'Green Ginger',\n",
       "       'Knool Khol', 'Onion', 'Potato', 'Raddish', 'Ridgeguard',\n",
       "       'Seemebadanekai', 'Snakeguard', 'Sweet Potato', 'Sweet Pumpkin',\n",
       "       'Tomato', 'Coriander Seed', 'Coconut (Per 1000)', 'Jaggery',\n",
       "       'Tender Coconut', 'Arecanut', 'Cow (For Each)', 'Goat (For Each)',\n",
       "       'Ox (For Each)', 'She Baffalo (For Each)', 'She Goat (For Each)',\n",
       "       'Sheep (For Each)', 'Same/Savi', 'Wheat', 'Alasande Gram', 'Arhar',\n",
       "       'Avare', 'Avaredal', 'Bengal Gramdal', 'Bengalgram',\n",
       "       'Black Gramdal', 'Chennangidal', 'Green Gramdal', 'Tur Dal',\n",
       "       'Castor Seed', 'Gingelly', 'Mustard', 'Neem Seed', 'Safflower',\n",
       "       'Sesamum', 'Apple', 'Banana', 'Borehannu', 'Chikoos (Sapota)',\n",
       "       'Grapes', 'Karbuja', 'Mousambi', 'Orange', 'Papaya', 'Pine Apple',\n",
       "       'Pomagranate', 'Water Melon', 'Alasandikai', 'Ash Gourd',\n",
       "       'Banana Green', 'Bunch Beans', 'Chapparada Avare', 'Coriander',\n",
       "       'Drum Stick', 'Green Avare (W)', 'Ladies Finger',\n",
       "       'Leafy Vegetables', 'Lime (Lemon)', 'Peas Wet', 'Suvarnagadde',\n",
       "       'Thogarikai', 'Thondekai', 'White Pumpkin', 'Dry Chillies',\n",
       "       'Garlic', 'Ginger', 'Pepper', 'Turmeric', 'Cashewnut',\n",
       "       'Coco Brooms', 'Betal Leaves', 'Soapnut', 'Tamarind Fruit',\n",
       "       'Tamarind Seed', 'Sajje', 'Green Peas', 'Lint�', 'Ram (For Each)',\n",
       "       'Chilly Red', 'Methi Seeds', 'Dry Grapes', 'Maragenasu',\n",
       "       'Bull (For Each)', 'Calf (For Each)', 'He Baffalo (For Each)',\n",
       "       'Crysanthamum', 'Marygold', 'Rose', 'Honge Seed', 'Moath',\n",
       "       'Gurellu', 'Marasebu', 'Citrus Fruit', 'Mataki', 'Barley',\n",
       "       'Jack Fruit', 'Sweet Lime', 'Redgram', 'Cotton Seed', 'Cumminseed',\n",
       "       'All Flowers', 'Lint', 'Mango (Raw-Ripe)', 'Soji', 'Duster Beans',\n",
       "       'T. V. Cumbu', 'Antawala', 'Mango', 'Wood', 'Skin and Hide'], dtype=object)"
      ]
     },
     "execution_count": 499,
     "metadata": {},
     "output_type": "execute_result"
    }
   ],
   "source": [
    "pd.unique(test_data['Commodity'].values.ravel())"
   ]
  },
  {
   "cell_type": "markdown",
   "metadata": {
    "collapsed": true,
    "scrolled": true
   },
   "source": [
    "#### Here we find that \"Lint�\" and \"Sona Masuri Old�\" are the impure values in the 'Commodity' column"
   ]
  },
  {
   "cell_type": "markdown",
   "metadata": {},
   "source": [
    "# Our training data and testing data have certain unclean values in some of the columns\n",
    "# So we need to clean the values in those columns"
   ]
  },
  {
   "cell_type": "code",
   "execution_count": 500,
   "metadata": {
    "scrolled": true
   },
   "outputs": [
    {
     "name": "stdout",
     "output_type": "stream",
     "text": [
      "Cleaning training data...\n",
      "Cleaning training data...completed\n",
      "Cleaning testing data...\n",
      "Cleaning testing data...completed\n"
     ]
    }
   ],
   "source": [
    "print(\"Cleaning training data...\")\n",
    "train_data = train_data.replace({'Quintal�':'Quintal'}, regex = True)\n",
    "train_data = train_data.replace({'Quintal ':'Quintal'}, regex = True)\n",
    "train_data = train_data.replace({'Numbers�':'Numbers'}, regex = True)\n",
    "train_data = train_data.replace({'Numbers ':'Numbers'}, regex = True)\n",
    "train_data = train_data.replace({'Lint�':'Lint'}, regex = True)\n",
    "train_data = train_data.replace({'Lint ':'Lint'}, regex = True)\n",
    "train_data = train_data.replace({'Sona Masuri Old�':'Sona Masuri Old'}, regex = True)\n",
    "print(\"Cleaning training data...completed\")\n",
    "print(\"Cleaning testing data...\")\n",
    "test_data = test_data.replace({'Quintal�':'Quintal'}, regex = True)\n",
    "test_data = test_data.replace({'Quintal ':'Quintal'}, regex = True)\n",
    "test_data = test_data.replace({'Numbers�':'Numbers'}, regex = True)\n",
    "test_data = test_data.replace({'Numbers ':'Numbers'}, regex = True)\n",
    "test_data = test_data.replace({'Lint�':'Lint'}, regex = True)\n",
    "test_data = test_data.replace({'Lint ':'Lint'}, regex = True)\n",
    "test_data = test_data.replace({'Sona Masuri Old�':'Sona Masuri Old'}, regex = True)\n",
    "print(\"Cleaning testing data...completed\")"
   ]
  },
  {
   "cell_type": "markdown",
   "metadata": {},
   "source": [
    "#### After cleaning, we check again for impure values and find that impure values have been replaced by correct values"
   ]
  },
  {
   "cell_type": "code",
   "execution_count": 501,
   "metadata": {
    "scrolled": true
   },
   "outputs": [
    {
     "data": {
      "text/plain": [
       "array(['Quintal', 'Numbers', 'Thousands'], dtype=object)"
      ]
     },
     "execution_count": 501,
     "metadata": {},
     "output_type": "execute_result"
    }
   ],
   "source": [
    "pd.unique(test_data['Unit'].values.ravel())"
   ]
  },
  {
   "cell_type": "markdown",
   "metadata": {},
   "source": [
    "## Akshay"
   ]
  },
  {
   "cell_type": "markdown",
   "metadata": {},
   "source": [
    "#### Let's check the amount of null values present in the training data"
   ]
  },
  {
   "cell_type": "code",
   "execution_count": 502,
   "metadata": {},
   "outputs": [
    {
     "data": {
      "text/plain": [
       "Date           0\n",
       "Commodity      0\n",
       "Variety        0\n",
       "Grade          0\n",
       "Market         0\n",
       "Arrival        0\n",
       "Unit           0\n",
       "Min            0\n",
       "Max            0\n",
       "Modal          0\n",
       "Group        931\n",
       "dtype: int64"
      ]
     },
     "execution_count": 502,
     "metadata": {},
     "output_type": "execute_result"
    }
   ],
   "source": [
    "train_data.isnull().sum()"
   ]
  },
  {
   "cell_type": "markdown",
   "metadata": {},
   "source": [
    "#### We can easily infer that only the group column has null values. This may be due to erroneous entries in the dataset. We need to fix it. This can be done by assigning to the null values, its preceding value \n"
   ]
  },
  {
   "cell_type": "code",
   "execution_count": 503,
   "metadata": {},
   "outputs": [
    {
     "data": {
      "text/plain": [
       "Date         0\n",
       "Commodity    0\n",
       "Variety      0\n",
       "Grade        0\n",
       "Market       0\n",
       "Arrival      0\n",
       "Unit         0\n",
       "Min          0\n",
       "Max          0\n",
       "Modal        0\n",
       "Group        0\n",
       "dtype: int64"
      ]
     },
     "execution_count": 503,
     "metadata": {},
     "output_type": "execute_result"
    }
   ],
   "source": [
    "train_data.fillna(method='ffill',inplace = True)\n",
    "train_data.isnull().sum()"
   ]
  },
  {
   "cell_type": "markdown",
   "metadata": {},
   "source": [
    "### The null values have been replaced"
   ]
  },
  {
   "cell_type": "markdown",
   "metadata": {
    "collapsed": true
   },
   "source": [
    "## Importing test dataset"
   ]
  },
  {
   "cell_type": "code",
   "execution_count": null,
   "metadata": {
    "collapsed": true
   },
   "outputs": [],
   "source": []
  },
  {
   "cell_type": "code",
   "execution_count": 504,
   "metadata": {},
   "outputs": [
    {
     "data": {
      "text/html": [
       "<div>\n",
       "<style>\n",
       "    .dataframe thead tr:only-child th {\n",
       "        text-align: right;\n",
       "    }\n",
       "\n",
       "    .dataframe thead th {\n",
       "        text-align: left;\n",
       "    }\n",
       "\n",
       "    .dataframe tbody tr th {\n",
       "        vertical-align: top;\n",
       "    }\n",
       "</style>\n",
       "<table border=\"1\" class=\"dataframe\">\n",
       "  <thead>\n",
       "    <tr style=\"text-align: right;\">\n",
       "      <th></th>\n",
       "      <th>Date</th>\n",
       "      <th>Commodity</th>\n",
       "      <th>Variety</th>\n",
       "      <th>Grade</th>\n",
       "      <th>Market</th>\n",
       "      <th>Arrival</th>\n",
       "      <th>Unit</th>\n",
       "      <th>Min</th>\n",
       "      <th>Max</th>\n",
       "      <th>Modal</th>\n",
       "    </tr>\n",
       "  </thead>\n",
       "  <tbody>\n",
       "    <tr>\n",
       "      <th>0</th>\n",
       "      <td>01/01/2017</td>\n",
       "      <td>Bajra</td>\n",
       "      <td>Hybrid</td>\n",
       "      <td>Average</td>\n",
       "      <td>KUSTAGI</td>\n",
       "      <td>150</td>\n",
       "      <td>Quintal</td>\n",
       "      <td>1510</td>\n",
       "      <td>1510</td>\n",
       "      <td>1510</td>\n",
       "    </tr>\n",
       "    <tr>\n",
       "      <th>1</th>\n",
       "      <td>01/01/2017</td>\n",
       "      <td>Jowar</td>\n",
       "      <td>Jowar ( White)</td>\n",
       "      <td>Average</td>\n",
       "      <td>BELAGAVI</td>\n",
       "      <td>10</td>\n",
       "      <td>Quintal</td>\n",
       "      <td>2800</td>\n",
       "      <td>3400</td>\n",
       "      <td>3200</td>\n",
       "    </tr>\n",
       "    <tr>\n",
       "      <th>2</th>\n",
       "      <td>01/01/2017</td>\n",
       "      <td>Jowar</td>\n",
       "      <td>Jowar ( White)</td>\n",
       "      <td>Medium</td>\n",
       "      <td>HAGARI BOMMANA HALLI</td>\n",
       "      <td>25</td>\n",
       "      <td>Quintal</td>\n",
       "      <td>1630</td>\n",
       "      <td>1630</td>\n",
       "      <td>1630</td>\n",
       "    </tr>\n",
       "    <tr>\n",
       "      <th>3</th>\n",
       "      <td>01/01/2017</td>\n",
       "      <td>Jowar</td>\n",
       "      <td>Jowar Hybrid</td>\n",
       "      <td>Average</td>\n",
       "      <td>HUMNABAD</td>\n",
       "      <td>29</td>\n",
       "      <td>Quintal</td>\n",
       "      <td>1000</td>\n",
       "      <td>1100</td>\n",
       "      <td>1050</td>\n",
       "    </tr>\n",
       "    <tr>\n",
       "      <th>4</th>\n",
       "      <td>01/01/2017</td>\n",
       "      <td>Maize</td>\n",
       "      <td>Local</td>\n",
       "      <td>Average</td>\n",
       "      <td>SHIGGAON</td>\n",
       "      <td>2913</td>\n",
       "      <td>Quintal</td>\n",
       "      <td>1300</td>\n",
       "      <td>1400</td>\n",
       "      <td>1362</td>\n",
       "    </tr>\n",
       "  </tbody>\n",
       "</table>\n",
       "</div>"
      ],
      "text/plain": [
       "         Date Commodity         Variety    Grade                Market  \\\n",
       "0  01/01/2017     Bajra          Hybrid  Average               KUSTAGI   \n",
       "1  01/01/2017     Jowar  Jowar ( White)  Average              BELAGAVI   \n",
       "2  01/01/2017     Jowar  Jowar ( White)   Medium  HAGARI BOMMANA HALLI   \n",
       "3  01/01/2017     Jowar    Jowar Hybrid  Average              HUMNABAD   \n",
       "4  01/01/2017     Maize           Local  Average              SHIGGAON   \n",
       "\n",
       "   Arrival     Unit   Min   Max  Modal  \n",
       "0      150  Quintal  1510  1510   1510  \n",
       "1       10  Quintal  2800  3400   3200  \n",
       "2       25  Quintal  1630  1630   1630  \n",
       "3       29  Quintal  1000  1100   1050  \n",
       "4     2913  Quintal  1300  1400   1362  "
      ]
     },
     "execution_count": 504,
     "metadata": {},
     "output_type": "execute_result"
    }
   ],
   "source": [
    "test_data.head()"
   ]
  },
  {
   "cell_type": "markdown",
   "metadata": {},
   "source": [
    "## Aadil"
   ]
  },
  {
   "cell_type": "markdown",
   "metadata": {},
   "source": [
    "## In the test dataset, the Group column is empty\n",
    "## We need to fill it with appropriate values\n",
    "### This can be achieved by creating a dictionary with each key from test data corresponding to a value from training data"
   ]
  },
  {
   "cell_type": "code",
   "execution_count": 505,
   "metadata": {
    "scrolled": true
   },
   "outputs": [
    {
     "data": {
      "text/plain": [
       "{'Alasande Gram': 'Pulses',\n",
       " 'Alasandikai': 'Vegetables',\n",
       " 'All Flowers': 'Live Stock/Poultry',\n",
       " 'Antawala': 'Forest Products',\n",
       " 'Apple': 'Fruits',\n",
       " 'Arecanut': 'Drugs & Narcotics',\n",
       " 'Arhar': 'Pulses',\n",
       " 'Ash Gourd': 'Vegetables',\n",
       " 'Avare': 'Pulses',\n",
       " 'Avaredal': 'Pulses',\n",
       " 'Bajra': 'Cereals',\n",
       " 'Banana': 'Fruits',\n",
       " 'Banana Green': 'Vegetables',\n",
       " 'Beans': 'Vegetables',\n",
       " 'Beetroot': 'Vegetables',\n",
       " 'Bengal Gramdal': 'Pulses',\n",
       " 'Bengalgram': 'Pulses',\n",
       " 'Betal Leaves': 'Drugs & Narcotics',\n",
       " 'Bitter Gourd': 'Vegetables',\n",
       " 'Black Gramdal': 'Pulses',\n",
       " 'Blackgram': 'Pulses',\n",
       " 'Borehannu': 'Fruits',\n",
       " 'Bottle Gourd': 'Vegetables',\n",
       " 'Brinjal': 'Vegetables',\n",
       " 'Bull (For Each)': 'Live Stock/Poultry',\n",
       " 'Bullar': 'Pulses',\n",
       " 'Bunch Beans': 'Vegetables',\n",
       " 'Cabbage': 'Vegetables',\n",
       " 'Calf (For Each)': 'Live Stock/Poultry',\n",
       " 'Capsicum': 'Vegetables',\n",
       " 'Carrot': 'Vegetables',\n",
       " 'Cashewnut': 'Dry Fruits',\n",
       " 'Castor Seed': 'Oil Seeds',\n",
       " 'Cauliflower': 'Vegetables',\n",
       " 'Chapparada Avare': 'Vegetables',\n",
       " 'Chennangidal': 'Pulses',\n",
       " 'Chikoos (Sapota)': 'Fruits',\n",
       " 'Chilly Capsicum': 'Vegetables',\n",
       " 'Chilly Red': 'Vegetables',\n",
       " 'Citrus Fruit': 'Spices',\n",
       " 'Coco Brooms': 'Other',\n",
       " 'Coconut (Per 1000)': 'Other',\n",
       " 'Copra': 'Oil Seeds',\n",
       " 'Coriander': 'Vegetables',\n",
       " 'Coriander Seed': 'Spices',\n",
       " 'Cotton': 'Fibre Crops',\n",
       " 'Cotton Seed': 'Pulses',\n",
       " 'Cow (For Each)': 'Live Stock/Poultry',\n",
       " 'Cowpea': 'Pulses',\n",
       " 'Cowpea (Veg)': 'Vegetables',\n",
       " 'Crysanthamum': 'Flowers',\n",
       " 'Cucumbar': 'Vegetables',\n",
       " 'Drum Stick': 'Vegetables',\n",
       " 'Dry Chillies': 'Spices',\n",
       " 'Dry Grapes': 'Dry Fruits',\n",
       " 'Duster Beans': 'Vegetables',\n",
       " 'Garlic': 'Spices',\n",
       " 'Gingelly': 'Oil Seeds',\n",
       " 'Ginger': 'Spices',\n",
       " 'Goat (For Each)': 'Live Stock/Poultry',\n",
       " 'Grapes': 'Fruits',\n",
       " 'Green Avare (W)': 'Vegetables',\n",
       " 'Green Chilly': 'Vegetables',\n",
       " 'Green Ginger': 'Vegetables',\n",
       " 'Green Gramdal': 'Pulses',\n",
       " 'Green Peas': 'Pulses',\n",
       " 'Greengram': 'Pulses',\n",
       " 'Groundnut': 'Oil Seeds',\n",
       " 'Groundnut Seed': 'Oil Seeds',\n",
       " 'Guava': 'Fruits',\n",
       " 'Gurellu': 'Oil Seeds',\n",
       " 'He Baffalo (For Each)': 'Live Stock/Poultry',\n",
       " 'Hippe Seed': 'Oil Seeds',\n",
       " 'Honge Seed': 'Oil Seeds',\n",
       " 'Horse Gram': 'Pulses',\n",
       " 'Jack Fruit': 'Fruits',\n",
       " 'Jaggery': 'Other',\n",
       " 'Jowar': 'Cereals',\n",
       " 'Karbuja': 'Fruits',\n",
       " 'Knool Khol': 'Vegetables',\n",
       " 'Ladies Finger': 'Vegetables',\n",
       " 'Leafy Vegetables': 'Vegetables',\n",
       " 'Lime (Lemon)': 'Vegetables',\n",
       " 'Linseed': 'Oil Seeds',\n",
       " 'Lint': 'Fibre Crops',\n",
       " 'Maize': 'Cereals',\n",
       " 'Mango': 'Fruits',\n",
       " 'Mango (Raw-Ripe)': 'Vegetables',\n",
       " 'Maragenasu': 'Vegetables',\n",
       " 'Marasebu': 'Fruits',\n",
       " 'Marygold': 'Flowers',\n",
       " 'Mataki': 'Pulses',\n",
       " 'Methi Seeds': 'Spices',\n",
       " 'Moath': 'Pulses',\n",
       " 'Mousambi': 'Fruits',\n",
       " 'Mustard': 'Oil Seeds',\n",
       " 'Navane': 'Cereals',\n",
       " 'Neem Seed': 'Oil Seeds',\n",
       " 'Niger Seed': 'Oil Seeds',\n",
       " 'Onion': 'Vegetables',\n",
       " 'Orange': 'Fruits',\n",
       " 'Ox (For Each)': 'Live Stock/Poultry',\n",
       " 'Paddy': 'Cereals',\n",
       " 'Papaya': 'Fruits',\n",
       " 'Peas Wet': 'Vegetables',\n",
       " 'Pepper': 'Spices',\n",
       " 'Pine Apple': 'Fruits',\n",
       " 'Pomagranate': 'Fruits',\n",
       " 'Potato': 'Vegetables',\n",
       " 'Raddish': 'Vegetables',\n",
       " 'Ragi': 'Cereals',\n",
       " 'Ram (For Each)': 'Live Stock/Poultry',\n",
       " 'Redgram': 'Pulses',\n",
       " 'Rice': 'Cereals',\n",
       " 'Ridgeguard': 'Vegetables',\n",
       " 'Rose': 'Flowers',\n",
       " 'Safflower': 'Oil Seeds',\n",
       " 'Sajje': 'Cereals',\n",
       " 'Same/Savi': 'Cereals',\n",
       " 'Seemebadanekai': 'Vegetables',\n",
       " 'Seethaphal': 'Fibre Crops',\n",
       " 'Sesamum': 'Oil Seeds',\n",
       " 'She Baffalo (For Each)': 'Live Stock/Poultry',\n",
       " 'She Goat (For Each)': 'Live Stock/Poultry',\n",
       " 'Sheep (For Each)': 'Live Stock/Poultry',\n",
       " 'Snakeguard': 'Vegetables',\n",
       " 'Soapnut': 'Forest Products',\n",
       " 'Soji': 'Cereals',\n",
       " 'Soyabeen': 'Oil Seeds',\n",
       " 'Sunflower': 'Oil Seeds',\n",
       " 'Suvarnagadde': 'Vegetables',\n",
       " 'Sweet Lime': 'Fibre Crops',\n",
       " 'Sweet Potato': 'Vegetables',\n",
       " 'Sweet Pumpkin': 'Vegetables',\n",
       " 'T. V. Cumbu': 'Cereals',\n",
       " 'Tamarind Fruit': 'Forest Products',\n",
       " 'Tamarind Seed': 'Forest Products',\n",
       " 'Tender Coconut': 'Other',\n",
       " 'Thogarikai': 'Vegetables',\n",
       " 'Thondekai': 'Vegetables',\n",
       " 'Tomato': 'Vegetables',\n",
       " 'Tur': 'Pulses',\n",
       " 'Tur Dal': 'Pulses',\n",
       " 'Turmeric': 'Spices',\n",
       " 'Water Melon': 'Fruits',\n",
       " 'Wheat': 'Cereals',\n",
       " 'White Pumpkin': 'Vegetables',\n",
       " 'Wood': 'Forest Products'}"
      ]
     },
     "execution_count": 505,
     "metadata": {},
     "output_type": "execute_result"
    }
   ],
   "source": [
    "dictionary = dict(zip(train_data.Commodity, train_data.Group))\n",
    "dictionary"
   ]
  },
  {
   "cell_type": "markdown",
   "metadata": {},
   "source": [
    "### The dictionary is then mapped to the test data and the proper values are filled in the Group column."
   ]
  },
  {
   "cell_type": "code",
   "execution_count": 506,
   "metadata": {
    "scrolled": true
   },
   "outputs": [
    {
     "data": {
      "text/html": [
       "<div>\n",
       "<style>\n",
       "    .dataframe thead tr:only-child th {\n",
       "        text-align: right;\n",
       "    }\n",
       "\n",
       "    .dataframe thead th {\n",
       "        text-align: left;\n",
       "    }\n",
       "\n",
       "    .dataframe tbody tr th {\n",
       "        vertical-align: top;\n",
       "    }\n",
       "</style>\n",
       "<table border=\"1\" class=\"dataframe\">\n",
       "  <thead>\n",
       "    <tr style=\"text-align: right;\">\n",
       "      <th></th>\n",
       "      <th>Date</th>\n",
       "      <th>Commodity</th>\n",
       "      <th>Variety</th>\n",
       "      <th>Grade</th>\n",
       "      <th>Market</th>\n",
       "      <th>Arrival</th>\n",
       "      <th>Unit</th>\n",
       "      <th>Min</th>\n",
       "      <th>Max</th>\n",
       "      <th>Modal</th>\n",
       "      <th>Group</th>\n",
       "    </tr>\n",
       "  </thead>\n",
       "  <tbody>\n",
       "    <tr>\n",
       "      <th>0</th>\n",
       "      <td>01/01/2017</td>\n",
       "      <td>Bajra</td>\n",
       "      <td>Hybrid</td>\n",
       "      <td>Average</td>\n",
       "      <td>KUSTAGI</td>\n",
       "      <td>150</td>\n",
       "      <td>Quintal</td>\n",
       "      <td>1510</td>\n",
       "      <td>1510</td>\n",
       "      <td>1510</td>\n",
       "      <td>Cereals</td>\n",
       "    </tr>\n",
       "    <tr>\n",
       "      <th>1</th>\n",
       "      <td>01/01/2017</td>\n",
       "      <td>Jowar</td>\n",
       "      <td>Jowar ( White)</td>\n",
       "      <td>Average</td>\n",
       "      <td>BELAGAVI</td>\n",
       "      <td>10</td>\n",
       "      <td>Quintal</td>\n",
       "      <td>2800</td>\n",
       "      <td>3400</td>\n",
       "      <td>3200</td>\n",
       "      <td>Cereals</td>\n",
       "    </tr>\n",
       "    <tr>\n",
       "      <th>2</th>\n",
       "      <td>01/01/2017</td>\n",
       "      <td>Jowar</td>\n",
       "      <td>Jowar ( White)</td>\n",
       "      <td>Medium</td>\n",
       "      <td>HAGARI BOMMANA HALLI</td>\n",
       "      <td>25</td>\n",
       "      <td>Quintal</td>\n",
       "      <td>1630</td>\n",
       "      <td>1630</td>\n",
       "      <td>1630</td>\n",
       "      <td>Cereals</td>\n",
       "    </tr>\n",
       "    <tr>\n",
       "      <th>3</th>\n",
       "      <td>01/01/2017</td>\n",
       "      <td>Jowar</td>\n",
       "      <td>Jowar Hybrid</td>\n",
       "      <td>Average</td>\n",
       "      <td>HUMNABAD</td>\n",
       "      <td>29</td>\n",
       "      <td>Quintal</td>\n",
       "      <td>1000</td>\n",
       "      <td>1100</td>\n",
       "      <td>1050</td>\n",
       "      <td>Cereals</td>\n",
       "    </tr>\n",
       "    <tr>\n",
       "      <th>4</th>\n",
       "      <td>01/01/2017</td>\n",
       "      <td>Maize</td>\n",
       "      <td>Local</td>\n",
       "      <td>Average</td>\n",
       "      <td>SHIGGAON</td>\n",
       "      <td>2913</td>\n",
       "      <td>Quintal</td>\n",
       "      <td>1300</td>\n",
       "      <td>1400</td>\n",
       "      <td>1362</td>\n",
       "      <td>Cereals</td>\n",
       "    </tr>\n",
       "  </tbody>\n",
       "</table>\n",
       "</div>"
      ],
      "text/plain": [
       "         Date Commodity         Variety    Grade                Market  \\\n",
       "0  01/01/2017     Bajra          Hybrid  Average               KUSTAGI   \n",
       "1  01/01/2017     Jowar  Jowar ( White)  Average              BELAGAVI   \n",
       "2  01/01/2017     Jowar  Jowar ( White)   Medium  HAGARI BOMMANA HALLI   \n",
       "3  01/01/2017     Jowar    Jowar Hybrid  Average              HUMNABAD   \n",
       "4  01/01/2017     Maize           Local  Average              SHIGGAON   \n",
       "\n",
       "   Arrival     Unit   Min   Max  Modal    Group  \n",
       "0      150  Quintal  1510  1510   1510  Cereals  \n",
       "1       10  Quintal  2800  3400   3200  Cereals  \n",
       "2       25  Quintal  1630  1630   1630  Cereals  \n",
       "3       29  Quintal  1000  1100   1050  Cereals  \n",
       "4     2913  Quintal  1300  1400   1362  Cereals  "
      ]
     },
     "execution_count": 506,
     "metadata": {},
     "output_type": "execute_result"
    }
   ],
   "source": [
    "test_data['Group'] = test_data['Commodity'].map(dictionary)\n",
    "test_data.head()"
   ]
  },
  {
   "cell_type": "markdown",
   "metadata": {},
   "source": [
    "## Aravind"
   ]
  },
  {
   "cell_type": "markdown",
   "metadata": {
    "collapsed": true
   },
   "source": [
    "### Now we concatenate the training and testing data"
   ]
  },
  {
   "cell_type": "code",
   "execution_count": 507,
   "metadata": {},
   "outputs": [
    {
     "data": {
      "text/plain": [
       "(151221, 11)"
      ]
     },
     "execution_count": 507,
     "metadata": {},
     "output_type": "execute_result"
    }
   ],
   "source": [
    "data = pd.concat((train_data, test_data), axis=0, ignore_index=True)\n",
    "data.shape"
   ]
  },
  {
   "cell_type": "code",
   "execution_count": 508,
   "metadata": {
    "scrolled": true
   },
   "outputs": [
    {
     "data": {
      "text/html": [
       "<div>\n",
       "<style>\n",
       "    .dataframe thead tr:only-child th {\n",
       "        text-align: right;\n",
       "    }\n",
       "\n",
       "    .dataframe thead th {\n",
       "        text-align: left;\n",
       "    }\n",
       "\n",
       "    .dataframe tbody tr th {\n",
       "        vertical-align: top;\n",
       "    }\n",
       "</style>\n",
       "<table border=\"1\" class=\"dataframe\">\n",
       "  <thead>\n",
       "    <tr style=\"text-align: right;\">\n",
       "      <th></th>\n",
       "      <th>Date</th>\n",
       "      <th>Commodity</th>\n",
       "      <th>Variety</th>\n",
       "      <th>Grade</th>\n",
       "      <th>Market</th>\n",
       "      <th>Arrival</th>\n",
       "      <th>Unit</th>\n",
       "      <th>Min</th>\n",
       "      <th>Max</th>\n",
       "      <th>Modal</th>\n",
       "      <th>Group</th>\n",
       "    </tr>\n",
       "  </thead>\n",
       "  <tbody>\n",
       "    <tr>\n",
       "      <th>0</th>\n",
       "      <td>01/01/2010</td>\n",
       "      <td>Bajra</td>\n",
       "      <td>Local</td>\n",
       "      <td>Average</td>\n",
       "      <td>KALABURAGI</td>\n",
       "      <td>1135</td>\n",
       "      <td>Quintal</td>\n",
       "      <td>1315</td>\n",
       "      <td>1608</td>\n",
       "      <td>1485</td>\n",
       "      <td>Cereals</td>\n",
       "    </tr>\n",
       "    <tr>\n",
       "      <th>1</th>\n",
       "      <td>01/01/2010</td>\n",
       "      <td>Jowar</td>\n",
       "      <td>Jowar ( White)</td>\n",
       "      <td>Average</td>\n",
       "      <td>VIJAYAPURA</td>\n",
       "      <td>6</td>\n",
       "      <td>Quintal</td>\n",
       "      <td>1900</td>\n",
       "      <td>2200</td>\n",
       "      <td>2100</td>\n",
       "      <td>Cereals</td>\n",
       "    </tr>\n",
       "    <tr>\n",
       "      <th>2</th>\n",
       "      <td>01/01/2010</td>\n",
       "      <td>Maize</td>\n",
       "      <td>Hybrid/Local</td>\n",
       "      <td>Average</td>\n",
       "      <td>BANGARPET</td>\n",
       "      <td>460</td>\n",
       "      <td>Quintal</td>\n",
       "      <td>1480</td>\n",
       "      <td>1570</td>\n",
       "      <td>1510</td>\n",
       "      <td>Cereals</td>\n",
       "    </tr>\n",
       "    <tr>\n",
       "      <th>3</th>\n",
       "      <td>01/01/2010</td>\n",
       "      <td>Maize</td>\n",
       "      <td>Local</td>\n",
       "      <td>Medium</td>\n",
       "      <td>RANIBENNUR</td>\n",
       "      <td>1177</td>\n",
       "      <td>Quintal</td>\n",
       "      <td>1300</td>\n",
       "      <td>1410</td>\n",
       "      <td>1395</td>\n",
       "      <td>Cereals</td>\n",
       "    </tr>\n",
       "    <tr>\n",
       "      <th>4</th>\n",
       "      <td>01/01/2010</td>\n",
       "      <td>Maize</td>\n",
       "      <td>Local</td>\n",
       "      <td>Average</td>\n",
       "      <td>GADAG</td>\n",
       "      <td>107</td>\n",
       "      <td>Quintal</td>\n",
       "      <td>1002</td>\n",
       "      <td>1396</td>\n",
       "      <td>1367</td>\n",
       "      <td>Cereals</td>\n",
       "    </tr>\n",
       "    <tr>\n",
       "      <th>5</th>\n",
       "      <td>01/01/2010</td>\n",
       "      <td>Paddy</td>\n",
       "      <td>Jaya</td>\n",
       "      <td>Average</td>\n",
       "      <td>CHANNAGIRI</td>\n",
       "      <td>350</td>\n",
       "      <td>Quintal</td>\n",
       "      <td>1400</td>\n",
       "      <td>1400</td>\n",
       "      <td>1400</td>\n",
       "      <td>Cereals</td>\n",
       "    </tr>\n",
       "    <tr>\n",
       "      <th>6</th>\n",
       "      <td>01/01/2010</td>\n",
       "      <td>Paddy</td>\n",
       "      <td>Paddy Jyoti</td>\n",
       "      <td>Average</td>\n",
       "      <td>NANJANGUD</td>\n",
       "      <td>1440</td>\n",
       "      <td>Quintal</td>\n",
       "      <td>1410</td>\n",
       "      <td>1510</td>\n",
       "      <td>1450</td>\n",
       "      <td>Cereals</td>\n",
       "    </tr>\n",
       "    <tr>\n",
       "      <th>7</th>\n",
       "      <td>01/01/2010</td>\n",
       "      <td>Paddy</td>\n",
       "      <td>Paddy Fine Variety</td>\n",
       "      <td>Average</td>\n",
       "      <td>DAVANAGERE</td>\n",
       "      <td>2100</td>\n",
       "      <td>Quintal</td>\n",
       "      <td>1700</td>\n",
       "      <td>2300</td>\n",
       "      <td>2000</td>\n",
       "      <td>Cereals</td>\n",
       "    </tr>\n",
       "    <tr>\n",
       "      <th>8</th>\n",
       "      <td>01/01/2010</td>\n",
       "      <td>Rice</td>\n",
       "      <td>Coarse</td>\n",
       "      <td>Average</td>\n",
       "      <td>SHIVAMOGGA</td>\n",
       "      <td>20</td>\n",
       "      <td>Quintal</td>\n",
       "      <td>1900</td>\n",
       "      <td>2400</td>\n",
       "      <td>2150</td>\n",
       "      <td>Cereals</td>\n",
       "    </tr>\n",
       "    <tr>\n",
       "      <th>9</th>\n",
       "      <td>01/01/2010</td>\n",
       "      <td>Rice</td>\n",
       "      <td>Fine</td>\n",
       "      <td>Average</td>\n",
       "      <td>MYSURU</td>\n",
       "      <td>2914</td>\n",
       "      <td>Quintal</td>\n",
       "      <td>3500</td>\n",
       "      <td>4500</td>\n",
       "      <td>4000</td>\n",
       "      <td>Cereals</td>\n",
       "    </tr>\n",
       "    <tr>\n",
       "      <th>10</th>\n",
       "      <td>01/01/2010</td>\n",
       "      <td>Rice</td>\n",
       "      <td>Fine</td>\n",
       "      <td>Average</td>\n",
       "      <td>MADIKERI</td>\n",
       "      <td>28</td>\n",
       "      <td>Quintal</td>\n",
       "      <td>3235</td>\n",
       "      <td>3235</td>\n",
       "      <td>3235</td>\n",
       "      <td>Cereals</td>\n",
       "    </tr>\n",
       "    <tr>\n",
       "      <th>11</th>\n",
       "      <td>01/01/2010</td>\n",
       "      <td>Rice</td>\n",
       "      <td>Medium</td>\n",
       "      <td>FAQ</td>\n",
       "      <td>BAGEPALLI</td>\n",
       "      <td>10</td>\n",
       "      <td>Quintal</td>\n",
       "      <td>2000</td>\n",
       "      <td>2500</td>\n",
       "      <td>2200</td>\n",
       "      <td>Cereals</td>\n",
       "    </tr>\n",
       "    <tr>\n",
       "      <th>12</th>\n",
       "      <td>01/01/2010</td>\n",
       "      <td>Sajje</td>\n",
       "      <td>Sajje</td>\n",
       "      <td>Average</td>\n",
       "      <td>LINGASARGUR</td>\n",
       "      <td>500</td>\n",
       "      <td>Quintal</td>\n",
       "      <td>900</td>\n",
       "      <td>1300</td>\n",
       "      <td>1280</td>\n",
       "      <td>Cereals</td>\n",
       "    </tr>\n",
       "    <tr>\n",
       "      <th>13</th>\n",
       "      <td>01/01/2010</td>\n",
       "      <td>Wheat</td>\n",
       "      <td>Local</td>\n",
       "      <td>Average</td>\n",
       "      <td>KUNDGOL</td>\n",
       "      <td>857</td>\n",
       "      <td>Quintal</td>\n",
       "      <td>1620</td>\n",
       "      <td>1620</td>\n",
       "      <td>1620</td>\n",
       "      <td>Cereals</td>\n",
       "    </tr>\n",
       "    <tr>\n",
       "      <th>14</th>\n",
       "      <td>01/01/2010</td>\n",
       "      <td>Bengal Gramdal</td>\n",
       "      <td>Bengal Gram Dal</td>\n",
       "      <td>Average</td>\n",
       "      <td>DAVANAGERE</td>\n",
       "      <td>40</td>\n",
       "      <td>Quintal</td>\n",
       "      <td>5900</td>\n",
       "      <td>6000</td>\n",
       "      <td>5950</td>\n",
       "      <td>Pulses</td>\n",
       "    </tr>\n",
       "    <tr>\n",
       "      <th>15</th>\n",
       "      <td>01/01/2010</td>\n",
       "      <td>Cowpea</td>\n",
       "      <td>Cowpea (Whole)</td>\n",
       "      <td>Average</td>\n",
       "      <td>SIRA</td>\n",
       "      <td>194</td>\n",
       "      <td>Quintal</td>\n",
       "      <td>4100</td>\n",
       "      <td>4150</td>\n",
       "      <td>4112</td>\n",
       "      <td>Pulses</td>\n",
       "    </tr>\n",
       "    <tr>\n",
       "      <th>16</th>\n",
       "      <td>01/01/2010</td>\n",
       "      <td>Cowpea</td>\n",
       "      <td>Cowpea (Whole)</td>\n",
       "      <td>Average</td>\n",
       "      <td>KOTTUR</td>\n",
       "      <td>1</td>\n",
       "      <td>Quintal</td>\n",
       "      <td>3510</td>\n",
       "      <td>3510</td>\n",
       "      <td>3510</td>\n",
       "      <td>Pulses</td>\n",
       "    </tr>\n",
       "    <tr>\n",
       "      <th>17</th>\n",
       "      <td>01/01/2010</td>\n",
       "      <td>Greengram</td>\n",
       "      <td>Green Gram (Whole)</td>\n",
       "      <td>Average</td>\n",
       "      <td>DAVANAGERE</td>\n",
       "      <td>22</td>\n",
       "      <td>Quintal</td>\n",
       "      <td>8600</td>\n",
       "      <td>8700</td>\n",
       "      <td>8650</td>\n",
       "      <td>Pulses</td>\n",
       "    </tr>\n",
       "    <tr>\n",
       "      <th>18</th>\n",
       "      <td>01/01/2010</td>\n",
       "      <td>Greengram</td>\n",
       "      <td>Green Gram (Whole)</td>\n",
       "      <td>Average</td>\n",
       "      <td>BIDAR</td>\n",
       "      <td>50</td>\n",
       "      <td>Quintal</td>\n",
       "      <td>6500</td>\n",
       "      <td>6722</td>\n",
       "      <td>6708</td>\n",
       "      <td>Pulses</td>\n",
       "    </tr>\n",
       "    <tr>\n",
       "      <th>19</th>\n",
       "      <td>01/01/2010</td>\n",
       "      <td>Greengram</td>\n",
       "      <td>Green Gram (Whole)</td>\n",
       "      <td>Average</td>\n",
       "      <td>CHITTAPURA</td>\n",
       "      <td>5</td>\n",
       "      <td>Quintal</td>\n",
       "      <td>6500</td>\n",
       "      <td>6500</td>\n",
       "      <td>6500</td>\n",
       "      <td>Pulses</td>\n",
       "    </tr>\n",
       "    <tr>\n",
       "      <th>20</th>\n",
       "      <td>01/01/2010</td>\n",
       "      <td>Tur</td>\n",
       "      <td>Tur</td>\n",
       "      <td>Average</td>\n",
       "      <td>BIDAR</td>\n",
       "      <td>2299</td>\n",
       "      <td>Quintal</td>\n",
       "      <td>6801</td>\n",
       "      <td>9229</td>\n",
       "      <td>8809</td>\n",
       "      <td>Pulses</td>\n",
       "    </tr>\n",
       "    <tr>\n",
       "      <th>21</th>\n",
       "      <td>01/01/2010</td>\n",
       "      <td>Tur</td>\n",
       "      <td>Tur</td>\n",
       "      <td>Average</td>\n",
       "      <td>SEDAM</td>\n",
       "      <td>75</td>\n",
       "      <td>Quintal</td>\n",
       "      <td>9125</td>\n",
       "      <td>9125</td>\n",
       "      <td>9125</td>\n",
       "      <td>Pulses</td>\n",
       "    </tr>\n",
       "    <tr>\n",
       "      <th>22</th>\n",
       "      <td>01/01/2010</td>\n",
       "      <td>Tur</td>\n",
       "      <td>Tur</td>\n",
       "      <td>Average</td>\n",
       "      <td>KALABURAGI</td>\n",
       "      <td>2285</td>\n",
       "      <td>Quintal</td>\n",
       "      <td>8211</td>\n",
       "      <td>9556</td>\n",
       "      <td>9020</td>\n",
       "      <td>Pulses</td>\n",
       "    </tr>\n",
       "    <tr>\n",
       "      <th>23</th>\n",
       "      <td>01/01/2010</td>\n",
       "      <td>Groundnut</td>\n",
       "      <td>Big (With Shell)</td>\n",
       "      <td>Average</td>\n",
       "      <td>YADGIR</td>\n",
       "      <td>35</td>\n",
       "      <td>Quintal</td>\n",
       "      <td>4241</td>\n",
       "      <td>4557</td>\n",
       "      <td>4252</td>\n",
       "      <td>Oil Seeds</td>\n",
       "    </tr>\n",
       "    <tr>\n",
       "      <th>24</th>\n",
       "      <td>01/01/2010</td>\n",
       "      <td>Groundnut</td>\n",
       "      <td>Gejje</td>\n",
       "      <td>Average</td>\n",
       "      <td>CHALLAKERE</td>\n",
       "      <td>4038</td>\n",
       "      <td>Quintal</td>\n",
       "      <td>3000</td>\n",
       "      <td>5501</td>\n",
       "      <td>4521</td>\n",
       "      <td>Oil Seeds</td>\n",
       "    </tr>\n",
       "    <tr>\n",
       "      <th>25</th>\n",
       "      <td>01/01/2010</td>\n",
       "      <td>Groundnut</td>\n",
       "      <td>Gejje</td>\n",
       "      <td>Medium</td>\n",
       "      <td>BAGALKOT</td>\n",
       "      <td>10</td>\n",
       "      <td>Quintal</td>\n",
       "      <td>2831</td>\n",
       "      <td>4429</td>\n",
       "      <td>3538</td>\n",
       "      <td>Oil Seeds</td>\n",
       "    </tr>\n",
       "    <tr>\n",
       "      <th>26</th>\n",
       "      <td>01/01/2010</td>\n",
       "      <td>Sunflower</td>\n",
       "      <td>Sunflower</td>\n",
       "      <td>Average</td>\n",
       "      <td>RONA</td>\n",
       "      <td>88</td>\n",
       "      <td>Quintal</td>\n",
       "      <td>3590</td>\n",
       "      <td>3787</td>\n",
       "      <td>3620</td>\n",
       "      <td>Oil Seeds</td>\n",
       "    </tr>\n",
       "    <tr>\n",
       "      <th>27</th>\n",
       "      <td>01/01/2010</td>\n",
       "      <td>Cotton</td>\n",
       "      <td>Cotton-64</td>\n",
       "      <td>Average</td>\n",
       "      <td>SANTHESARGUR</td>\n",
       "      <td>97</td>\n",
       "      <td>Quintal</td>\n",
       "      <td>4800</td>\n",
       "      <td>4800</td>\n",
       "      <td>4800</td>\n",
       "      <td>Fibre Crops</td>\n",
       "    </tr>\n",
       "    <tr>\n",
       "      <th>28</th>\n",
       "      <td>01/01/2010</td>\n",
       "      <td>Cotton</td>\n",
       "      <td>Other</td>\n",
       "      <td>Average</td>\n",
       "      <td>GUNDLUPET</td>\n",
       "      <td>72</td>\n",
       "      <td>Quintal</td>\n",
       "      <td>4200</td>\n",
       "      <td>4200</td>\n",
       "      <td>4200</td>\n",
       "      <td>Fibre Crops</td>\n",
       "    </tr>\n",
       "    <tr>\n",
       "      <th>29</th>\n",
       "      <td>01/01/2010</td>\n",
       "      <td>Cotton</td>\n",
       "      <td>BT</td>\n",
       "      <td>Average</td>\n",
       "      <td>ANNIGERI</td>\n",
       "      <td>165</td>\n",
       "      <td>Quintal</td>\n",
       "      <td>4750</td>\n",
       "      <td>4950</td>\n",
       "      <td>4800</td>\n",
       "      <td>Fibre Crops</td>\n",
       "    </tr>\n",
       "    <tr>\n",
       "      <th>...</th>\n",
       "      <td>...</td>\n",
       "      <td>...</td>\n",
       "      <td>...</td>\n",
       "      <td>...</td>\n",
       "      <td>...</td>\n",
       "      <td>...</td>\n",
       "      <td>...</td>\n",
       "      <td>...</td>\n",
       "      <td>...</td>\n",
       "      <td>...</td>\n",
       "      <td>...</td>\n",
       "    </tr>\n",
       "    <tr>\n",
       "      <th>151191</th>\n",
       "      <td>31/03/2017</td>\n",
       "      <td>Tamarind Fruit</td>\n",
       "      <td>Tamarind Fruit</td>\n",
       "      <td>Average</td>\n",
       "      <td>MADHUGIRI</td>\n",
       "      <td>30</td>\n",
       "      <td>Quintal</td>\n",
       "      <td>3300</td>\n",
       "      <td>5000</td>\n",
       "      <td>3692</td>\n",
       "      <td>Forest Products</td>\n",
       "    </tr>\n",
       "    <tr>\n",
       "      <th>151192</th>\n",
       "      <td>31/03/2017</td>\n",
       "      <td>Tamarind Fruit</td>\n",
       "      <td>Tamarind Fruit</td>\n",
       "      <td>Average</td>\n",
       "      <td>MYSURU</td>\n",
       "      <td>4</td>\n",
       "      <td>Quintal</td>\n",
       "      <td>1527</td>\n",
       "      <td>11777</td>\n",
       "      <td>7435</td>\n",
       "      <td>Forest Products</td>\n",
       "    </tr>\n",
       "    <tr>\n",
       "      <th>151193</th>\n",
       "      <td>31/03/2017</td>\n",
       "      <td>Tamarind Seed</td>\n",
       "      <td>Tamarind Seed</td>\n",
       "      <td>Average</td>\n",
       "      <td>MYSURU</td>\n",
       "      <td>1</td>\n",
       "      <td>Quintal</td>\n",
       "      <td>1515</td>\n",
       "      <td>1515</td>\n",
       "      <td>1515</td>\n",
       "      <td>Forest Products</td>\n",
       "    </tr>\n",
       "    <tr>\n",
       "      <th>151194</th>\n",
       "      <td>31/03/2017</td>\n",
       "      <td>Tamarind Seed</td>\n",
       "      <td>Tamarind Seed</td>\n",
       "      <td>Average</td>\n",
       "      <td>KADUR</td>\n",
       "      <td>168</td>\n",
       "      <td>Quintal</td>\n",
       "      <td>1525</td>\n",
       "      <td>1525</td>\n",
       "      <td>1525</td>\n",
       "      <td>Forest Products</td>\n",
       "    </tr>\n",
       "    <tr>\n",
       "      <th>151195</th>\n",
       "      <td>31/03/2017</td>\n",
       "      <td>Tamarind Seed</td>\n",
       "      <td>Tamarind Seed</td>\n",
       "      <td>Average</td>\n",
       "      <td>HASSAN</td>\n",
       "      <td>100</td>\n",
       "      <td>Quintal</td>\n",
       "      <td>1420</td>\n",
       "      <td>1420</td>\n",
       "      <td>1420</td>\n",
       "      <td>Forest Products</td>\n",
       "    </tr>\n",
       "    <tr>\n",
       "      <th>151196</th>\n",
       "      <td>31/03/2017</td>\n",
       "      <td>Bull (For Each)</td>\n",
       "      <td>Bull</td>\n",
       "      <td>Average</td>\n",
       "      <td>DAVANAGERE</td>\n",
       "      <td>2</td>\n",
       "      <td>Numbers</td>\n",
       "      <td>35000</td>\n",
       "      <td>58000</td>\n",
       "      <td>46500</td>\n",
       "      <td>Live Stock/Poultry</td>\n",
       "    </tr>\n",
       "    <tr>\n",
       "      <th>151197</th>\n",
       "      <td>31/03/2017</td>\n",
       "      <td>Bull (For Each)</td>\n",
       "      <td>Bull</td>\n",
       "      <td>Average</td>\n",
       "      <td>NIPPANI</td>\n",
       "      <td>8</td>\n",
       "      <td>Numbers</td>\n",
       "      <td>14000</td>\n",
       "      <td>26000</td>\n",
       "      <td>21000</td>\n",
       "      <td>Live Stock/Poultry</td>\n",
       "    </tr>\n",
       "    <tr>\n",
       "      <th>151198</th>\n",
       "      <td>31/03/2017</td>\n",
       "      <td>Bull (For Each)</td>\n",
       "      <td>Bull</td>\n",
       "      <td>Average</td>\n",
       "      <td>BADAMI</td>\n",
       "      <td>19</td>\n",
       "      <td>Numbers</td>\n",
       "      <td>18000</td>\n",
       "      <td>26000</td>\n",
       "      <td>21000</td>\n",
       "      <td>Live Stock/Poultry</td>\n",
       "    </tr>\n",
       "    <tr>\n",
       "      <th>151199</th>\n",
       "      <td>31/03/2017</td>\n",
       "      <td>Calf (For Each)</td>\n",
       "      <td>Other</td>\n",
       "      <td>Average</td>\n",
       "      <td>DAVANAGERE</td>\n",
       "      <td>6</td>\n",
       "      <td>Numbers</td>\n",
       "      <td>6000</td>\n",
       "      <td>7000</td>\n",
       "      <td>6500</td>\n",
       "      <td>Live Stock/Poultry</td>\n",
       "    </tr>\n",
       "    <tr>\n",
       "      <th>151200</th>\n",
       "      <td>31/03/2017</td>\n",
       "      <td>Cow (For Each)</td>\n",
       "      <td>Cow</td>\n",
       "      <td>Average</td>\n",
       "      <td>DAVANAGERE</td>\n",
       "      <td>9</td>\n",
       "      <td>Numbers</td>\n",
       "      <td>35000</td>\n",
       "      <td>50000</td>\n",
       "      <td>42500</td>\n",
       "      <td>Live Stock/Poultry</td>\n",
       "    </tr>\n",
       "    <tr>\n",
       "      <th>151201</th>\n",
       "      <td>31/03/2017</td>\n",
       "      <td>Cow (For Each)</td>\n",
       "      <td>Cow</td>\n",
       "      <td>Average</td>\n",
       "      <td>ARSIKERE</td>\n",
       "      <td>9</td>\n",
       "      <td>Numbers</td>\n",
       "      <td>28000</td>\n",
       "      <td>35000</td>\n",
       "      <td>30000</td>\n",
       "      <td>Live Stock/Poultry</td>\n",
       "    </tr>\n",
       "    <tr>\n",
       "      <th>151202</th>\n",
       "      <td>31/03/2017</td>\n",
       "      <td>Cow (For Each)</td>\n",
       "      <td>Cow</td>\n",
       "      <td>Average</td>\n",
       "      <td>NIPPANI</td>\n",
       "      <td>8</td>\n",
       "      <td>Numbers</td>\n",
       "      <td>15000</td>\n",
       "      <td>45000</td>\n",
       "      <td>40000</td>\n",
       "      <td>Live Stock/Poultry</td>\n",
       "    </tr>\n",
       "    <tr>\n",
       "      <th>151203</th>\n",
       "      <td>31/03/2017</td>\n",
       "      <td>Cow (For Each)</td>\n",
       "      <td>Cow</td>\n",
       "      <td>Average</td>\n",
       "      <td>BADAMI</td>\n",
       "      <td>36</td>\n",
       "      <td>Numbers</td>\n",
       "      <td>29000</td>\n",
       "      <td>50000</td>\n",
       "      <td>30000</td>\n",
       "      <td>Live Stock/Poultry</td>\n",
       "    </tr>\n",
       "    <tr>\n",
       "      <th>151204</th>\n",
       "      <td>31/03/2017</td>\n",
       "      <td>Goat (For Each)</td>\n",
       "      <td>Goat</td>\n",
       "      <td>Average</td>\n",
       "      <td>NIPPANI</td>\n",
       "      <td>65</td>\n",
       "      <td>Numbers</td>\n",
       "      <td>2000</td>\n",
       "      <td>4800</td>\n",
       "      <td>4000</td>\n",
       "      <td>Live Stock/Poultry</td>\n",
       "    </tr>\n",
       "    <tr>\n",
       "      <th>151205</th>\n",
       "      <td>31/03/2017</td>\n",
       "      <td>Goat (For Each)</td>\n",
       "      <td>Goat</td>\n",
       "      <td>Average</td>\n",
       "      <td>BADAMI</td>\n",
       "      <td>221</td>\n",
       "      <td>Numbers</td>\n",
       "      <td>4400</td>\n",
       "      <td>9900</td>\n",
       "      <td>5900</td>\n",
       "      <td>Live Stock/Poultry</td>\n",
       "    </tr>\n",
       "    <tr>\n",
       "      <th>151206</th>\n",
       "      <td>31/03/2017</td>\n",
       "      <td>He Baffalo (For Each)</td>\n",
       "      <td>He Baffelo</td>\n",
       "      <td>Average</td>\n",
       "      <td>BADAMI</td>\n",
       "      <td>10</td>\n",
       "      <td>Numbers</td>\n",
       "      <td>2000</td>\n",
       "      <td>5000</td>\n",
       "      <td>5000</td>\n",
       "      <td>Live Stock/Poultry</td>\n",
       "    </tr>\n",
       "    <tr>\n",
       "      <th>151207</th>\n",
       "      <td>31/03/2017</td>\n",
       "      <td>Ox (For Each)</td>\n",
       "      <td>Ox</td>\n",
       "      <td>Average</td>\n",
       "      <td>DAVANAGERE</td>\n",
       "      <td>7</td>\n",
       "      <td>Numbers</td>\n",
       "      <td>44500</td>\n",
       "      <td>54000</td>\n",
       "      <td>49250</td>\n",
       "      <td>Live Stock/Poultry</td>\n",
       "    </tr>\n",
       "    <tr>\n",
       "      <th>151208</th>\n",
       "      <td>31/03/2017</td>\n",
       "      <td>Ox (For Each)</td>\n",
       "      <td>Ox</td>\n",
       "      <td>Average</td>\n",
       "      <td>ARSIKERE</td>\n",
       "      <td>203</td>\n",
       "      <td>Numbers</td>\n",
       "      <td>45000</td>\n",
       "      <td>90000</td>\n",
       "      <td>87000</td>\n",
       "      <td>Live Stock/Poultry</td>\n",
       "    </tr>\n",
       "    <tr>\n",
       "      <th>151209</th>\n",
       "      <td>31/03/2017</td>\n",
       "      <td>Ox (For Each)</td>\n",
       "      <td>Ox</td>\n",
       "      <td>Average</td>\n",
       "      <td>NIPPANI</td>\n",
       "      <td>6</td>\n",
       "      <td>Numbers</td>\n",
       "      <td>12000</td>\n",
       "      <td>28000</td>\n",
       "      <td>22000</td>\n",
       "      <td>Live Stock/Poultry</td>\n",
       "    </tr>\n",
       "    <tr>\n",
       "      <th>151210</th>\n",
       "      <td>31/03/2017</td>\n",
       "      <td>Ox (For Each)</td>\n",
       "      <td>Ox</td>\n",
       "      <td>Average</td>\n",
       "      <td>BADAMI</td>\n",
       "      <td>14</td>\n",
       "      <td>Numbers</td>\n",
       "      <td>21000</td>\n",
       "      <td>25000</td>\n",
       "      <td>23000</td>\n",
       "      <td>Live Stock/Poultry</td>\n",
       "    </tr>\n",
       "    <tr>\n",
       "      <th>151211</th>\n",
       "      <td>31/03/2017</td>\n",
       "      <td>Ram (For Each)</td>\n",
       "      <td>Ram</td>\n",
       "      <td>Average</td>\n",
       "      <td>BADAMI</td>\n",
       "      <td>277</td>\n",
       "      <td>Numbers</td>\n",
       "      <td>4300</td>\n",
       "      <td>9800</td>\n",
       "      <td>6600</td>\n",
       "      <td>Live Stock/Poultry</td>\n",
       "    </tr>\n",
       "    <tr>\n",
       "      <th>151212</th>\n",
       "      <td>31/03/2017</td>\n",
       "      <td>She Baffalo (For Each)</td>\n",
       "      <td>She Baffelo</td>\n",
       "      <td>Average</td>\n",
       "      <td>DAVANAGERE</td>\n",
       "      <td>44</td>\n",
       "      <td>Numbers</td>\n",
       "      <td>28000</td>\n",
       "      <td>35000</td>\n",
       "      <td>31500</td>\n",
       "      <td>Live Stock/Poultry</td>\n",
       "    </tr>\n",
       "    <tr>\n",
       "      <th>151213</th>\n",
       "      <td>31/03/2017</td>\n",
       "      <td>She Baffalo (For Each)</td>\n",
       "      <td>She Baffelo</td>\n",
       "      <td>Average</td>\n",
       "      <td>KUDCHI</td>\n",
       "      <td>1</td>\n",
       "      <td>Numbers</td>\n",
       "      <td>45000</td>\n",
       "      <td>55000</td>\n",
       "      <td>50000</td>\n",
       "      <td>Live Stock/Poultry</td>\n",
       "    </tr>\n",
       "    <tr>\n",
       "      <th>151214</th>\n",
       "      <td>31/03/2017</td>\n",
       "      <td>She Baffalo (For Each)</td>\n",
       "      <td>She Baffelo</td>\n",
       "      <td>Average</td>\n",
       "      <td>NIPPANI</td>\n",
       "      <td>22</td>\n",
       "      <td>Numbers</td>\n",
       "      <td>10000</td>\n",
       "      <td>50000</td>\n",
       "      <td>42000</td>\n",
       "      <td>Live Stock/Poultry</td>\n",
       "    </tr>\n",
       "    <tr>\n",
       "      <th>151215</th>\n",
       "      <td>31/03/2017</td>\n",
       "      <td>She Baffalo (For Each)</td>\n",
       "      <td>She Baffelo</td>\n",
       "      <td>Average</td>\n",
       "      <td>BADAMI</td>\n",
       "      <td>106</td>\n",
       "      <td>Numbers</td>\n",
       "      <td>26000</td>\n",
       "      <td>50000</td>\n",
       "      <td>32000</td>\n",
       "      <td>Live Stock/Poultry</td>\n",
       "    </tr>\n",
       "    <tr>\n",
       "      <th>151216</th>\n",
       "      <td>31/03/2017</td>\n",
       "      <td>She Goat (For Each)</td>\n",
       "      <td>She Goat</td>\n",
       "      <td>Average</td>\n",
       "      <td>BADAMI</td>\n",
       "      <td>285</td>\n",
       "      <td>Numbers</td>\n",
       "      <td>3200</td>\n",
       "      <td>6700</td>\n",
       "      <td>5200</td>\n",
       "      <td>Live Stock/Poultry</td>\n",
       "    </tr>\n",
       "    <tr>\n",
       "      <th>151217</th>\n",
       "      <td>31/03/2017</td>\n",
       "      <td>Sheep (For Each)</td>\n",
       "      <td>Sheep Medium</td>\n",
       "      <td>Average</td>\n",
       "      <td>BADAMI</td>\n",
       "      <td>1120</td>\n",
       "      <td>Numbers</td>\n",
       "      <td>2800</td>\n",
       "      <td>6900</td>\n",
       "      <td>4800</td>\n",
       "      <td>Live Stock/Poultry</td>\n",
       "    </tr>\n",
       "    <tr>\n",
       "      <th>151218</th>\n",
       "      <td>31/03/2017</td>\n",
       "      <td>Crysanthamum</td>\n",
       "      <td>Other</td>\n",
       "      <td>Average</td>\n",
       "      <td>CHICKBALLAPUR</td>\n",
       "      <td>18</td>\n",
       "      <td>Quintal</td>\n",
       "      <td>10000</td>\n",
       "      <td>12000</td>\n",
       "      <td>10500</td>\n",
       "      <td>Flowers</td>\n",
       "    </tr>\n",
       "    <tr>\n",
       "      <th>151219</th>\n",
       "      <td>31/03/2017</td>\n",
       "      <td>Marygold</td>\n",
       "      <td>Other</td>\n",
       "      <td>Average</td>\n",
       "      <td>CHICKBALLAPUR</td>\n",
       "      <td>53</td>\n",
       "      <td>Quintal</td>\n",
       "      <td>1000</td>\n",
       "      <td>2500</td>\n",
       "      <td>1500</td>\n",
       "      <td>Flowers</td>\n",
       "    </tr>\n",
       "    <tr>\n",
       "      <th>151220</th>\n",
       "      <td>31/03/2017</td>\n",
       "      <td>Rose</td>\n",
       "      <td>Other</td>\n",
       "      <td>Average</td>\n",
       "      <td>CHICKBALLAPUR</td>\n",
       "      <td>45</td>\n",
       "      <td>Quintal</td>\n",
       "      <td>1500</td>\n",
       "      <td>3500</td>\n",
       "      <td>2200</td>\n",
       "      <td>Flowers</td>\n",
       "    </tr>\n",
       "  </tbody>\n",
       "</table>\n",
       "<p>151221 rows × 11 columns</p>\n",
       "</div>"
      ],
      "text/plain": [
       "              Date               Commodity             Variety    Grade  \\\n",
       "0       01/01/2010                   Bajra               Local  Average   \n",
       "1       01/01/2010                   Jowar      Jowar ( White)  Average   \n",
       "2       01/01/2010                   Maize        Hybrid/Local  Average   \n",
       "3       01/01/2010                   Maize               Local   Medium   \n",
       "4       01/01/2010                   Maize               Local  Average   \n",
       "5       01/01/2010                   Paddy                Jaya  Average   \n",
       "6       01/01/2010                   Paddy         Paddy Jyoti  Average   \n",
       "7       01/01/2010                   Paddy  Paddy Fine Variety  Average   \n",
       "8       01/01/2010                    Rice              Coarse  Average   \n",
       "9       01/01/2010                    Rice                Fine  Average   \n",
       "10      01/01/2010                    Rice                Fine  Average   \n",
       "11      01/01/2010                    Rice              Medium      FAQ   \n",
       "12      01/01/2010                   Sajje               Sajje  Average   \n",
       "13      01/01/2010                   Wheat               Local  Average   \n",
       "14      01/01/2010          Bengal Gramdal     Bengal Gram Dal  Average   \n",
       "15      01/01/2010                  Cowpea      Cowpea (Whole)  Average   \n",
       "16      01/01/2010                  Cowpea      Cowpea (Whole)  Average   \n",
       "17      01/01/2010               Greengram  Green Gram (Whole)  Average   \n",
       "18      01/01/2010               Greengram  Green Gram (Whole)  Average   \n",
       "19      01/01/2010               Greengram  Green Gram (Whole)  Average   \n",
       "20      01/01/2010                     Tur                 Tur  Average   \n",
       "21      01/01/2010                     Tur                 Tur  Average   \n",
       "22      01/01/2010                     Tur                 Tur  Average   \n",
       "23      01/01/2010               Groundnut    Big (With Shell)  Average   \n",
       "24      01/01/2010               Groundnut               Gejje  Average   \n",
       "25      01/01/2010               Groundnut               Gejje   Medium   \n",
       "26      01/01/2010               Sunflower           Sunflower  Average   \n",
       "27      01/01/2010                  Cotton           Cotton-64  Average   \n",
       "28      01/01/2010                  Cotton               Other  Average   \n",
       "29      01/01/2010                  Cotton                  BT  Average   \n",
       "...            ...                     ...                 ...      ...   \n",
       "151191  31/03/2017          Tamarind Fruit      Tamarind Fruit  Average   \n",
       "151192  31/03/2017          Tamarind Fruit      Tamarind Fruit  Average   \n",
       "151193  31/03/2017           Tamarind Seed       Tamarind Seed  Average   \n",
       "151194  31/03/2017           Tamarind Seed       Tamarind Seed  Average   \n",
       "151195  31/03/2017           Tamarind Seed       Tamarind Seed  Average   \n",
       "151196  31/03/2017         Bull (For Each)                Bull  Average   \n",
       "151197  31/03/2017         Bull (For Each)                Bull  Average   \n",
       "151198  31/03/2017         Bull (For Each)                Bull  Average   \n",
       "151199  31/03/2017         Calf (For Each)               Other  Average   \n",
       "151200  31/03/2017          Cow (For Each)                 Cow  Average   \n",
       "151201  31/03/2017          Cow (For Each)                 Cow  Average   \n",
       "151202  31/03/2017          Cow (For Each)                 Cow  Average   \n",
       "151203  31/03/2017          Cow (For Each)                 Cow  Average   \n",
       "151204  31/03/2017         Goat (For Each)                Goat  Average   \n",
       "151205  31/03/2017         Goat (For Each)                Goat  Average   \n",
       "151206  31/03/2017   He Baffalo (For Each)          He Baffelo  Average   \n",
       "151207  31/03/2017           Ox (For Each)                  Ox  Average   \n",
       "151208  31/03/2017           Ox (For Each)                  Ox  Average   \n",
       "151209  31/03/2017           Ox (For Each)                  Ox  Average   \n",
       "151210  31/03/2017           Ox (For Each)                  Ox  Average   \n",
       "151211  31/03/2017          Ram (For Each)                 Ram  Average   \n",
       "151212  31/03/2017  She Baffalo (For Each)         She Baffelo  Average   \n",
       "151213  31/03/2017  She Baffalo (For Each)         She Baffelo  Average   \n",
       "151214  31/03/2017  She Baffalo (For Each)         She Baffelo  Average   \n",
       "151215  31/03/2017  She Baffalo (For Each)         She Baffelo  Average   \n",
       "151216  31/03/2017     She Goat (For Each)            She Goat  Average   \n",
       "151217  31/03/2017        Sheep (For Each)        Sheep Medium  Average   \n",
       "151218  31/03/2017            Crysanthamum               Other  Average   \n",
       "151219  31/03/2017                Marygold               Other  Average   \n",
       "151220  31/03/2017                    Rose               Other  Average   \n",
       "\n",
       "               Market  Arrival     Unit    Min    Max  Modal  \\\n",
       "0          KALABURAGI     1135  Quintal   1315   1608   1485   \n",
       "1          VIJAYAPURA        6  Quintal   1900   2200   2100   \n",
       "2           BANGARPET      460  Quintal   1480   1570   1510   \n",
       "3          RANIBENNUR     1177  Quintal   1300   1410   1395   \n",
       "4               GADAG      107  Quintal   1002   1396   1367   \n",
       "5          CHANNAGIRI      350  Quintal   1400   1400   1400   \n",
       "6           NANJANGUD     1440  Quintal   1410   1510   1450   \n",
       "7          DAVANAGERE     2100  Quintal   1700   2300   2000   \n",
       "8          SHIVAMOGGA       20  Quintal   1900   2400   2150   \n",
       "9              MYSURU     2914  Quintal   3500   4500   4000   \n",
       "10           MADIKERI       28  Quintal   3235   3235   3235   \n",
       "11          BAGEPALLI       10  Quintal   2000   2500   2200   \n",
       "12        LINGASARGUR      500  Quintal    900   1300   1280   \n",
       "13            KUNDGOL      857  Quintal   1620   1620   1620   \n",
       "14         DAVANAGERE       40  Quintal   5900   6000   5950   \n",
       "15               SIRA      194  Quintal   4100   4150   4112   \n",
       "16             KOTTUR        1  Quintal   3510   3510   3510   \n",
       "17         DAVANAGERE       22  Quintal   8600   8700   8650   \n",
       "18              BIDAR       50  Quintal   6500   6722   6708   \n",
       "19         CHITTAPURA        5  Quintal   6500   6500   6500   \n",
       "20              BIDAR     2299  Quintal   6801   9229   8809   \n",
       "21              SEDAM       75  Quintal   9125   9125   9125   \n",
       "22         KALABURAGI     2285  Quintal   8211   9556   9020   \n",
       "23             YADGIR       35  Quintal   4241   4557   4252   \n",
       "24         CHALLAKERE     4038  Quintal   3000   5501   4521   \n",
       "25           BAGALKOT       10  Quintal   2831   4429   3538   \n",
       "26               RONA       88  Quintal   3590   3787   3620   \n",
       "27       SANTHESARGUR       97  Quintal   4800   4800   4800   \n",
       "28          GUNDLUPET       72  Quintal   4200   4200   4200   \n",
       "29           ANNIGERI      165  Quintal   4750   4950   4800   \n",
       "...               ...      ...      ...    ...    ...    ...   \n",
       "151191      MADHUGIRI       30  Quintal   3300   5000   3692   \n",
       "151192         MYSURU        4  Quintal   1527  11777   7435   \n",
       "151193         MYSURU        1  Quintal   1515   1515   1515   \n",
       "151194          KADUR      168  Quintal   1525   1525   1525   \n",
       "151195         HASSAN      100  Quintal   1420   1420   1420   \n",
       "151196     DAVANAGERE        2  Numbers  35000  58000  46500   \n",
       "151197        NIPPANI        8  Numbers  14000  26000  21000   \n",
       "151198         BADAMI       19  Numbers  18000  26000  21000   \n",
       "151199     DAVANAGERE        6  Numbers   6000   7000   6500   \n",
       "151200     DAVANAGERE        9  Numbers  35000  50000  42500   \n",
       "151201       ARSIKERE        9  Numbers  28000  35000  30000   \n",
       "151202        NIPPANI        8  Numbers  15000  45000  40000   \n",
       "151203         BADAMI       36  Numbers  29000  50000  30000   \n",
       "151204        NIPPANI       65  Numbers   2000   4800   4000   \n",
       "151205         BADAMI      221  Numbers   4400   9900   5900   \n",
       "151206         BADAMI       10  Numbers   2000   5000   5000   \n",
       "151207     DAVANAGERE        7  Numbers  44500  54000  49250   \n",
       "151208       ARSIKERE      203  Numbers  45000  90000  87000   \n",
       "151209        NIPPANI        6  Numbers  12000  28000  22000   \n",
       "151210         BADAMI       14  Numbers  21000  25000  23000   \n",
       "151211         BADAMI      277  Numbers   4300   9800   6600   \n",
       "151212     DAVANAGERE       44  Numbers  28000  35000  31500   \n",
       "151213         KUDCHI        1  Numbers  45000  55000  50000   \n",
       "151214        NIPPANI       22  Numbers  10000  50000  42000   \n",
       "151215         BADAMI      106  Numbers  26000  50000  32000   \n",
       "151216         BADAMI      285  Numbers   3200   6700   5200   \n",
       "151217         BADAMI     1120  Numbers   2800   6900   4800   \n",
       "151218  CHICKBALLAPUR       18  Quintal  10000  12000  10500   \n",
       "151219  CHICKBALLAPUR       53  Quintal   1000   2500   1500   \n",
       "151220  CHICKBALLAPUR       45  Quintal   1500   3500   2200   \n",
       "\n",
       "                     Group  \n",
       "0                  Cereals  \n",
       "1                  Cereals  \n",
       "2                  Cereals  \n",
       "3                  Cereals  \n",
       "4                  Cereals  \n",
       "5                  Cereals  \n",
       "6                  Cereals  \n",
       "7                  Cereals  \n",
       "8                  Cereals  \n",
       "9                  Cereals  \n",
       "10                 Cereals  \n",
       "11                 Cereals  \n",
       "12                 Cereals  \n",
       "13                 Cereals  \n",
       "14                  Pulses  \n",
       "15                  Pulses  \n",
       "16                  Pulses  \n",
       "17                  Pulses  \n",
       "18                  Pulses  \n",
       "19                  Pulses  \n",
       "20                  Pulses  \n",
       "21                  Pulses  \n",
       "22                  Pulses  \n",
       "23               Oil Seeds  \n",
       "24               Oil Seeds  \n",
       "25               Oil Seeds  \n",
       "26               Oil Seeds  \n",
       "27             Fibre Crops  \n",
       "28             Fibre Crops  \n",
       "29             Fibre Crops  \n",
       "...                    ...  \n",
       "151191     Forest Products  \n",
       "151192     Forest Products  \n",
       "151193     Forest Products  \n",
       "151194     Forest Products  \n",
       "151195     Forest Products  \n",
       "151196  Live Stock/Poultry  \n",
       "151197  Live Stock/Poultry  \n",
       "151198  Live Stock/Poultry  \n",
       "151199  Live Stock/Poultry  \n",
       "151200  Live Stock/Poultry  \n",
       "151201  Live Stock/Poultry  \n",
       "151202  Live Stock/Poultry  \n",
       "151203  Live Stock/Poultry  \n",
       "151204  Live Stock/Poultry  \n",
       "151205  Live Stock/Poultry  \n",
       "151206  Live Stock/Poultry  \n",
       "151207  Live Stock/Poultry  \n",
       "151208  Live Stock/Poultry  \n",
       "151209  Live Stock/Poultry  \n",
       "151210  Live Stock/Poultry  \n",
       "151211  Live Stock/Poultry  \n",
       "151212  Live Stock/Poultry  \n",
       "151213  Live Stock/Poultry  \n",
       "151214  Live Stock/Poultry  \n",
       "151215  Live Stock/Poultry  \n",
       "151216  Live Stock/Poultry  \n",
       "151217  Live Stock/Poultry  \n",
       "151218             Flowers  \n",
       "151219             Flowers  \n",
       "151220             Flowers  \n",
       "\n",
       "[151221 rows x 11 columns]"
      ]
     },
     "execution_count": 508,
     "metadata": {},
     "output_type": "execute_result"
    }
   ],
   "source": [
    "data"
   ]
  },
  {
   "cell_type": "markdown",
   "metadata": {},
   "source": [
    "### In the Units column of data, there are three distinct values: "
   ]
  },
  {
   "cell_type": "code",
   "execution_count": 509,
   "metadata": {},
   "outputs": [
    {
     "data": {
      "text/plain": [
       "array(['Quintal', 'Numbers', 'Thousands'], dtype=object)"
      ]
     },
     "execution_count": 509,
     "metadata": {},
     "output_type": "execute_result"
    }
   ],
   "source": [
    "pd.unique(data['Unit'].values.ravel())"
   ]
  },
  {
   "cell_type": "markdown",
   "metadata": {
    "collapsed": true
   },
   "source": [
    "### We can reduce it to 2 by converting Thosands into Numbers. This will facilitate in easier analysis"
   ]
  },
  {
   "cell_type": "code",
   "execution_count": 510,
   "metadata": {
    "collapsed": true
   },
   "outputs": [],
   "source": [
    "data['Arrival'] = np.where(data['Unit']=='Thousands',data['Arrival'],data['Arrival'])\n",
    "data = data.replace({'Thousands':'Numbers'}, regex = True)"
   ]
  },
  {
   "cell_type": "code",
   "execution_count": 511,
   "metadata": {},
   "outputs": [
    {
     "data": {
      "text/plain": [
       "array(['Quintal', 'Numbers'], dtype=object)"
      ]
     },
     "execution_count": 511,
     "metadata": {},
     "output_type": "execute_result"
    }
   ],
   "source": [
    "pd.unique(data['Unit'].values.ravel())"
   ]
  },
  {
   "cell_type": "markdown",
   "metadata": {},
   "source": [
    "### Let us check if the data still has null values"
   ]
  },
  {
   "cell_type": "code",
   "execution_count": 512,
   "metadata": {},
   "outputs": [
    {
     "data": {
      "text/plain": [
       "Date          0\n",
       "Commodity     0\n",
       "Variety       0\n",
       "Grade         0\n",
       "Market        0\n",
       "Arrival       0\n",
       "Unit          0\n",
       "Min           0\n",
       "Max           0\n",
       "Modal         0\n",
       "Group        64\n",
       "dtype: int64"
      ]
     },
     "execution_count": 512,
     "metadata": {},
     "output_type": "execute_result"
    }
   ],
   "source": [
    "data.isnull().sum()"
   ]
  },
  {
   "cell_type": "markdown",
   "metadata": {},
   "source": [
    "### We can follow the same procedure as above to replace the null values"
   ]
  },
  {
   "cell_type": "code",
   "execution_count": 513,
   "metadata": {},
   "outputs": [
    {
     "data": {
      "text/plain": [
       "Date         0\n",
       "Commodity    0\n",
       "Variety      0\n",
       "Grade        0\n",
       "Market       0\n",
       "Arrival      0\n",
       "Unit         0\n",
       "Min          0\n",
       "Max          0\n",
       "Modal        0\n",
       "Group        0\n",
       "dtype: int64"
      ]
     },
     "execution_count": 513,
     "metadata": {},
     "output_type": "execute_result"
    }
   ],
   "source": [
    "data.fillna(method='ffill',inplace = True)\n",
    "data.isnull().sum()"
   ]
  },
  {
   "cell_type": "markdown",
   "metadata": {},
   "source": [
    "### We are adding one more column 'Avg' which holds the average of Min and Max column values"
   ]
  },
  {
   "cell_type": "code",
   "execution_count": 514,
   "metadata": {
    "scrolled": true
   },
   "outputs": [
    {
     "data": {
      "text/html": [
       "<div>\n",
       "<style>\n",
       "    .dataframe thead tr:only-child th {\n",
       "        text-align: right;\n",
       "    }\n",
       "\n",
       "    .dataframe thead th {\n",
       "        text-align: left;\n",
       "    }\n",
       "\n",
       "    .dataframe tbody tr th {\n",
       "        vertical-align: top;\n",
       "    }\n",
       "</style>\n",
       "<table border=\"1\" class=\"dataframe\">\n",
       "  <thead>\n",
       "    <tr style=\"text-align: right;\">\n",
       "      <th></th>\n",
       "      <th>Date</th>\n",
       "      <th>Commodity</th>\n",
       "      <th>Variety</th>\n",
       "      <th>Grade</th>\n",
       "      <th>Market</th>\n",
       "      <th>Arrival</th>\n",
       "      <th>Unit</th>\n",
       "      <th>Min</th>\n",
       "      <th>Max</th>\n",
       "      <th>Modal</th>\n",
       "      <th>Group</th>\n",
       "      <th>Avg</th>\n",
       "    </tr>\n",
       "  </thead>\n",
       "  <tbody>\n",
       "    <tr>\n",
       "      <th>0</th>\n",
       "      <td>01/01/2010</td>\n",
       "      <td>Bajra</td>\n",
       "      <td>Local</td>\n",
       "      <td>Average</td>\n",
       "      <td>KALABURAGI</td>\n",
       "      <td>1135</td>\n",
       "      <td>Quintal</td>\n",
       "      <td>1315</td>\n",
       "      <td>1608</td>\n",
       "      <td>1485</td>\n",
       "      <td>Cereals</td>\n",
       "      <td>1461.5</td>\n",
       "    </tr>\n",
       "    <tr>\n",
       "      <th>1</th>\n",
       "      <td>01/01/2010</td>\n",
       "      <td>Jowar</td>\n",
       "      <td>Jowar ( White)</td>\n",
       "      <td>Average</td>\n",
       "      <td>VIJAYAPURA</td>\n",
       "      <td>6</td>\n",
       "      <td>Quintal</td>\n",
       "      <td>1900</td>\n",
       "      <td>2200</td>\n",
       "      <td>2100</td>\n",
       "      <td>Cereals</td>\n",
       "      <td>2050.0</td>\n",
       "    </tr>\n",
       "    <tr>\n",
       "      <th>2</th>\n",
       "      <td>01/01/2010</td>\n",
       "      <td>Maize</td>\n",
       "      <td>Hybrid/Local</td>\n",
       "      <td>Average</td>\n",
       "      <td>BANGARPET</td>\n",
       "      <td>460</td>\n",
       "      <td>Quintal</td>\n",
       "      <td>1480</td>\n",
       "      <td>1570</td>\n",
       "      <td>1510</td>\n",
       "      <td>Cereals</td>\n",
       "      <td>1525.0</td>\n",
       "    </tr>\n",
       "    <tr>\n",
       "      <th>3</th>\n",
       "      <td>01/01/2010</td>\n",
       "      <td>Maize</td>\n",
       "      <td>Local</td>\n",
       "      <td>Medium</td>\n",
       "      <td>RANIBENNUR</td>\n",
       "      <td>1177</td>\n",
       "      <td>Quintal</td>\n",
       "      <td>1300</td>\n",
       "      <td>1410</td>\n",
       "      <td>1395</td>\n",
       "      <td>Cereals</td>\n",
       "      <td>1355.0</td>\n",
       "    </tr>\n",
       "    <tr>\n",
       "      <th>4</th>\n",
       "      <td>01/01/2010</td>\n",
       "      <td>Maize</td>\n",
       "      <td>Local</td>\n",
       "      <td>Average</td>\n",
       "      <td>GADAG</td>\n",
       "      <td>107</td>\n",
       "      <td>Quintal</td>\n",
       "      <td>1002</td>\n",
       "      <td>1396</td>\n",
       "      <td>1367</td>\n",
       "      <td>Cereals</td>\n",
       "      <td>1199.0</td>\n",
       "    </tr>\n",
       "    <tr>\n",
       "      <th>5</th>\n",
       "      <td>01/01/2010</td>\n",
       "      <td>Paddy</td>\n",
       "      <td>Jaya</td>\n",
       "      <td>Average</td>\n",
       "      <td>CHANNAGIRI</td>\n",
       "      <td>350</td>\n",
       "      <td>Quintal</td>\n",
       "      <td>1400</td>\n",
       "      <td>1400</td>\n",
       "      <td>1400</td>\n",
       "      <td>Cereals</td>\n",
       "      <td>1400.0</td>\n",
       "    </tr>\n",
       "    <tr>\n",
       "      <th>6</th>\n",
       "      <td>01/01/2010</td>\n",
       "      <td>Paddy</td>\n",
       "      <td>Paddy Jyoti</td>\n",
       "      <td>Average</td>\n",
       "      <td>NANJANGUD</td>\n",
       "      <td>1440</td>\n",
       "      <td>Quintal</td>\n",
       "      <td>1410</td>\n",
       "      <td>1510</td>\n",
       "      <td>1450</td>\n",
       "      <td>Cereals</td>\n",
       "      <td>1460.0</td>\n",
       "    </tr>\n",
       "    <tr>\n",
       "      <th>7</th>\n",
       "      <td>01/01/2010</td>\n",
       "      <td>Paddy</td>\n",
       "      <td>Paddy Fine Variety</td>\n",
       "      <td>Average</td>\n",
       "      <td>DAVANAGERE</td>\n",
       "      <td>2100</td>\n",
       "      <td>Quintal</td>\n",
       "      <td>1700</td>\n",
       "      <td>2300</td>\n",
       "      <td>2000</td>\n",
       "      <td>Cereals</td>\n",
       "      <td>2000.0</td>\n",
       "    </tr>\n",
       "    <tr>\n",
       "      <th>8</th>\n",
       "      <td>01/01/2010</td>\n",
       "      <td>Rice</td>\n",
       "      <td>Coarse</td>\n",
       "      <td>Average</td>\n",
       "      <td>SHIVAMOGGA</td>\n",
       "      <td>20</td>\n",
       "      <td>Quintal</td>\n",
       "      <td>1900</td>\n",
       "      <td>2400</td>\n",
       "      <td>2150</td>\n",
       "      <td>Cereals</td>\n",
       "      <td>2150.0</td>\n",
       "    </tr>\n",
       "    <tr>\n",
       "      <th>9</th>\n",
       "      <td>01/01/2010</td>\n",
       "      <td>Rice</td>\n",
       "      <td>Fine</td>\n",
       "      <td>Average</td>\n",
       "      <td>MYSURU</td>\n",
       "      <td>2914</td>\n",
       "      <td>Quintal</td>\n",
       "      <td>3500</td>\n",
       "      <td>4500</td>\n",
       "      <td>4000</td>\n",
       "      <td>Cereals</td>\n",
       "      <td>4000.0</td>\n",
       "    </tr>\n",
       "    <tr>\n",
       "      <th>10</th>\n",
       "      <td>01/01/2010</td>\n",
       "      <td>Rice</td>\n",
       "      <td>Fine</td>\n",
       "      <td>Average</td>\n",
       "      <td>MADIKERI</td>\n",
       "      <td>28</td>\n",
       "      <td>Quintal</td>\n",
       "      <td>3235</td>\n",
       "      <td>3235</td>\n",
       "      <td>3235</td>\n",
       "      <td>Cereals</td>\n",
       "      <td>3235.0</td>\n",
       "    </tr>\n",
       "    <tr>\n",
       "      <th>11</th>\n",
       "      <td>01/01/2010</td>\n",
       "      <td>Rice</td>\n",
       "      <td>Medium</td>\n",
       "      <td>FAQ</td>\n",
       "      <td>BAGEPALLI</td>\n",
       "      <td>10</td>\n",
       "      <td>Quintal</td>\n",
       "      <td>2000</td>\n",
       "      <td>2500</td>\n",
       "      <td>2200</td>\n",
       "      <td>Cereals</td>\n",
       "      <td>2250.0</td>\n",
       "    </tr>\n",
       "    <tr>\n",
       "      <th>12</th>\n",
       "      <td>01/01/2010</td>\n",
       "      <td>Sajje</td>\n",
       "      <td>Sajje</td>\n",
       "      <td>Average</td>\n",
       "      <td>LINGASARGUR</td>\n",
       "      <td>500</td>\n",
       "      <td>Quintal</td>\n",
       "      <td>900</td>\n",
       "      <td>1300</td>\n",
       "      <td>1280</td>\n",
       "      <td>Cereals</td>\n",
       "      <td>1100.0</td>\n",
       "    </tr>\n",
       "    <tr>\n",
       "      <th>13</th>\n",
       "      <td>01/01/2010</td>\n",
       "      <td>Wheat</td>\n",
       "      <td>Local</td>\n",
       "      <td>Average</td>\n",
       "      <td>KUNDGOL</td>\n",
       "      <td>857</td>\n",
       "      <td>Quintal</td>\n",
       "      <td>1620</td>\n",
       "      <td>1620</td>\n",
       "      <td>1620</td>\n",
       "      <td>Cereals</td>\n",
       "      <td>1620.0</td>\n",
       "    </tr>\n",
       "    <tr>\n",
       "      <th>14</th>\n",
       "      <td>01/01/2010</td>\n",
       "      <td>Bengal Gramdal</td>\n",
       "      <td>Bengal Gram Dal</td>\n",
       "      <td>Average</td>\n",
       "      <td>DAVANAGERE</td>\n",
       "      <td>40</td>\n",
       "      <td>Quintal</td>\n",
       "      <td>5900</td>\n",
       "      <td>6000</td>\n",
       "      <td>5950</td>\n",
       "      <td>Pulses</td>\n",
       "      <td>5950.0</td>\n",
       "    </tr>\n",
       "    <tr>\n",
       "      <th>15</th>\n",
       "      <td>01/01/2010</td>\n",
       "      <td>Cowpea</td>\n",
       "      <td>Cowpea (Whole)</td>\n",
       "      <td>Average</td>\n",
       "      <td>SIRA</td>\n",
       "      <td>194</td>\n",
       "      <td>Quintal</td>\n",
       "      <td>4100</td>\n",
       "      <td>4150</td>\n",
       "      <td>4112</td>\n",
       "      <td>Pulses</td>\n",
       "      <td>4125.0</td>\n",
       "    </tr>\n",
       "    <tr>\n",
       "      <th>16</th>\n",
       "      <td>01/01/2010</td>\n",
       "      <td>Cowpea</td>\n",
       "      <td>Cowpea (Whole)</td>\n",
       "      <td>Average</td>\n",
       "      <td>KOTTUR</td>\n",
       "      <td>1</td>\n",
       "      <td>Quintal</td>\n",
       "      <td>3510</td>\n",
       "      <td>3510</td>\n",
       "      <td>3510</td>\n",
       "      <td>Pulses</td>\n",
       "      <td>3510.0</td>\n",
       "    </tr>\n",
       "    <tr>\n",
       "      <th>17</th>\n",
       "      <td>01/01/2010</td>\n",
       "      <td>Greengram</td>\n",
       "      <td>Green Gram (Whole)</td>\n",
       "      <td>Average</td>\n",
       "      <td>DAVANAGERE</td>\n",
       "      <td>22</td>\n",
       "      <td>Quintal</td>\n",
       "      <td>8600</td>\n",
       "      <td>8700</td>\n",
       "      <td>8650</td>\n",
       "      <td>Pulses</td>\n",
       "      <td>8650.0</td>\n",
       "    </tr>\n",
       "    <tr>\n",
       "      <th>18</th>\n",
       "      <td>01/01/2010</td>\n",
       "      <td>Greengram</td>\n",
       "      <td>Green Gram (Whole)</td>\n",
       "      <td>Average</td>\n",
       "      <td>BIDAR</td>\n",
       "      <td>50</td>\n",
       "      <td>Quintal</td>\n",
       "      <td>6500</td>\n",
       "      <td>6722</td>\n",
       "      <td>6708</td>\n",
       "      <td>Pulses</td>\n",
       "      <td>6611.0</td>\n",
       "    </tr>\n",
       "    <tr>\n",
       "      <th>19</th>\n",
       "      <td>01/01/2010</td>\n",
       "      <td>Greengram</td>\n",
       "      <td>Green Gram (Whole)</td>\n",
       "      <td>Average</td>\n",
       "      <td>CHITTAPURA</td>\n",
       "      <td>5</td>\n",
       "      <td>Quintal</td>\n",
       "      <td>6500</td>\n",
       "      <td>6500</td>\n",
       "      <td>6500</td>\n",
       "      <td>Pulses</td>\n",
       "      <td>6500.0</td>\n",
       "    </tr>\n",
       "    <tr>\n",
       "      <th>20</th>\n",
       "      <td>01/01/2010</td>\n",
       "      <td>Tur</td>\n",
       "      <td>Tur</td>\n",
       "      <td>Average</td>\n",
       "      <td>BIDAR</td>\n",
       "      <td>2299</td>\n",
       "      <td>Quintal</td>\n",
       "      <td>6801</td>\n",
       "      <td>9229</td>\n",
       "      <td>8809</td>\n",
       "      <td>Pulses</td>\n",
       "      <td>8015.0</td>\n",
       "    </tr>\n",
       "    <tr>\n",
       "      <th>21</th>\n",
       "      <td>01/01/2010</td>\n",
       "      <td>Tur</td>\n",
       "      <td>Tur</td>\n",
       "      <td>Average</td>\n",
       "      <td>SEDAM</td>\n",
       "      <td>75</td>\n",
       "      <td>Quintal</td>\n",
       "      <td>9125</td>\n",
       "      <td>9125</td>\n",
       "      <td>9125</td>\n",
       "      <td>Pulses</td>\n",
       "      <td>9125.0</td>\n",
       "    </tr>\n",
       "    <tr>\n",
       "      <th>22</th>\n",
       "      <td>01/01/2010</td>\n",
       "      <td>Tur</td>\n",
       "      <td>Tur</td>\n",
       "      <td>Average</td>\n",
       "      <td>KALABURAGI</td>\n",
       "      <td>2285</td>\n",
       "      <td>Quintal</td>\n",
       "      <td>8211</td>\n",
       "      <td>9556</td>\n",
       "      <td>9020</td>\n",
       "      <td>Pulses</td>\n",
       "      <td>8883.5</td>\n",
       "    </tr>\n",
       "    <tr>\n",
       "      <th>23</th>\n",
       "      <td>01/01/2010</td>\n",
       "      <td>Groundnut</td>\n",
       "      <td>Big (With Shell)</td>\n",
       "      <td>Average</td>\n",
       "      <td>YADGIR</td>\n",
       "      <td>35</td>\n",
       "      <td>Quintal</td>\n",
       "      <td>4241</td>\n",
       "      <td>4557</td>\n",
       "      <td>4252</td>\n",
       "      <td>Oil Seeds</td>\n",
       "      <td>4399.0</td>\n",
       "    </tr>\n",
       "    <tr>\n",
       "      <th>24</th>\n",
       "      <td>01/01/2010</td>\n",
       "      <td>Groundnut</td>\n",
       "      <td>Gejje</td>\n",
       "      <td>Average</td>\n",
       "      <td>CHALLAKERE</td>\n",
       "      <td>4038</td>\n",
       "      <td>Quintal</td>\n",
       "      <td>3000</td>\n",
       "      <td>5501</td>\n",
       "      <td>4521</td>\n",
       "      <td>Oil Seeds</td>\n",
       "      <td>4250.5</td>\n",
       "    </tr>\n",
       "    <tr>\n",
       "      <th>25</th>\n",
       "      <td>01/01/2010</td>\n",
       "      <td>Groundnut</td>\n",
       "      <td>Gejje</td>\n",
       "      <td>Medium</td>\n",
       "      <td>BAGALKOT</td>\n",
       "      <td>10</td>\n",
       "      <td>Quintal</td>\n",
       "      <td>2831</td>\n",
       "      <td>4429</td>\n",
       "      <td>3538</td>\n",
       "      <td>Oil Seeds</td>\n",
       "      <td>3630.0</td>\n",
       "    </tr>\n",
       "    <tr>\n",
       "      <th>26</th>\n",
       "      <td>01/01/2010</td>\n",
       "      <td>Sunflower</td>\n",
       "      <td>Sunflower</td>\n",
       "      <td>Average</td>\n",
       "      <td>RONA</td>\n",
       "      <td>88</td>\n",
       "      <td>Quintal</td>\n",
       "      <td>3590</td>\n",
       "      <td>3787</td>\n",
       "      <td>3620</td>\n",
       "      <td>Oil Seeds</td>\n",
       "      <td>3688.5</td>\n",
       "    </tr>\n",
       "    <tr>\n",
       "      <th>27</th>\n",
       "      <td>01/01/2010</td>\n",
       "      <td>Cotton</td>\n",
       "      <td>Cotton-64</td>\n",
       "      <td>Average</td>\n",
       "      <td>SANTHESARGUR</td>\n",
       "      <td>97</td>\n",
       "      <td>Quintal</td>\n",
       "      <td>4800</td>\n",
       "      <td>4800</td>\n",
       "      <td>4800</td>\n",
       "      <td>Fibre Crops</td>\n",
       "      <td>4800.0</td>\n",
       "    </tr>\n",
       "    <tr>\n",
       "      <th>28</th>\n",
       "      <td>01/01/2010</td>\n",
       "      <td>Cotton</td>\n",
       "      <td>Other</td>\n",
       "      <td>Average</td>\n",
       "      <td>GUNDLUPET</td>\n",
       "      <td>72</td>\n",
       "      <td>Quintal</td>\n",
       "      <td>4200</td>\n",
       "      <td>4200</td>\n",
       "      <td>4200</td>\n",
       "      <td>Fibre Crops</td>\n",
       "      <td>4200.0</td>\n",
       "    </tr>\n",
       "    <tr>\n",
       "      <th>29</th>\n",
       "      <td>01/01/2010</td>\n",
       "      <td>Cotton</td>\n",
       "      <td>BT</td>\n",
       "      <td>Average</td>\n",
       "      <td>ANNIGERI</td>\n",
       "      <td>165</td>\n",
       "      <td>Quintal</td>\n",
       "      <td>4750</td>\n",
       "      <td>4950</td>\n",
       "      <td>4800</td>\n",
       "      <td>Fibre Crops</td>\n",
       "      <td>4850.0</td>\n",
       "    </tr>\n",
       "    <tr>\n",
       "      <th>...</th>\n",
       "      <td>...</td>\n",
       "      <td>...</td>\n",
       "      <td>...</td>\n",
       "      <td>...</td>\n",
       "      <td>...</td>\n",
       "      <td>...</td>\n",
       "      <td>...</td>\n",
       "      <td>...</td>\n",
       "      <td>...</td>\n",
       "      <td>...</td>\n",
       "      <td>...</td>\n",
       "      <td>...</td>\n",
       "    </tr>\n",
       "    <tr>\n",
       "      <th>151191</th>\n",
       "      <td>31/03/2017</td>\n",
       "      <td>Tamarind Fruit</td>\n",
       "      <td>Tamarind Fruit</td>\n",
       "      <td>Average</td>\n",
       "      <td>MADHUGIRI</td>\n",
       "      <td>30</td>\n",
       "      <td>Quintal</td>\n",
       "      <td>3300</td>\n",
       "      <td>5000</td>\n",
       "      <td>3692</td>\n",
       "      <td>Forest Products</td>\n",
       "      <td>4150.0</td>\n",
       "    </tr>\n",
       "    <tr>\n",
       "      <th>151192</th>\n",
       "      <td>31/03/2017</td>\n",
       "      <td>Tamarind Fruit</td>\n",
       "      <td>Tamarind Fruit</td>\n",
       "      <td>Average</td>\n",
       "      <td>MYSURU</td>\n",
       "      <td>4</td>\n",
       "      <td>Quintal</td>\n",
       "      <td>1527</td>\n",
       "      <td>11777</td>\n",
       "      <td>7435</td>\n",
       "      <td>Forest Products</td>\n",
       "      <td>6652.0</td>\n",
       "    </tr>\n",
       "    <tr>\n",
       "      <th>151193</th>\n",
       "      <td>31/03/2017</td>\n",
       "      <td>Tamarind Seed</td>\n",
       "      <td>Tamarind Seed</td>\n",
       "      <td>Average</td>\n",
       "      <td>MYSURU</td>\n",
       "      <td>1</td>\n",
       "      <td>Quintal</td>\n",
       "      <td>1515</td>\n",
       "      <td>1515</td>\n",
       "      <td>1515</td>\n",
       "      <td>Forest Products</td>\n",
       "      <td>1515.0</td>\n",
       "    </tr>\n",
       "    <tr>\n",
       "      <th>151194</th>\n",
       "      <td>31/03/2017</td>\n",
       "      <td>Tamarind Seed</td>\n",
       "      <td>Tamarind Seed</td>\n",
       "      <td>Average</td>\n",
       "      <td>KADUR</td>\n",
       "      <td>168</td>\n",
       "      <td>Quintal</td>\n",
       "      <td>1525</td>\n",
       "      <td>1525</td>\n",
       "      <td>1525</td>\n",
       "      <td>Forest Products</td>\n",
       "      <td>1525.0</td>\n",
       "    </tr>\n",
       "    <tr>\n",
       "      <th>151195</th>\n",
       "      <td>31/03/2017</td>\n",
       "      <td>Tamarind Seed</td>\n",
       "      <td>Tamarind Seed</td>\n",
       "      <td>Average</td>\n",
       "      <td>HASSAN</td>\n",
       "      <td>100</td>\n",
       "      <td>Quintal</td>\n",
       "      <td>1420</td>\n",
       "      <td>1420</td>\n",
       "      <td>1420</td>\n",
       "      <td>Forest Products</td>\n",
       "      <td>1420.0</td>\n",
       "    </tr>\n",
       "    <tr>\n",
       "      <th>151196</th>\n",
       "      <td>31/03/2017</td>\n",
       "      <td>Bull (For Each)</td>\n",
       "      <td>Bull</td>\n",
       "      <td>Average</td>\n",
       "      <td>DAVANAGERE</td>\n",
       "      <td>2</td>\n",
       "      <td>Numbers</td>\n",
       "      <td>35000</td>\n",
       "      <td>58000</td>\n",
       "      <td>46500</td>\n",
       "      <td>Live Stock/Poultry</td>\n",
       "      <td>46500.0</td>\n",
       "    </tr>\n",
       "    <tr>\n",
       "      <th>151197</th>\n",
       "      <td>31/03/2017</td>\n",
       "      <td>Bull (For Each)</td>\n",
       "      <td>Bull</td>\n",
       "      <td>Average</td>\n",
       "      <td>NIPPANI</td>\n",
       "      <td>8</td>\n",
       "      <td>Numbers</td>\n",
       "      <td>14000</td>\n",
       "      <td>26000</td>\n",
       "      <td>21000</td>\n",
       "      <td>Live Stock/Poultry</td>\n",
       "      <td>20000.0</td>\n",
       "    </tr>\n",
       "    <tr>\n",
       "      <th>151198</th>\n",
       "      <td>31/03/2017</td>\n",
       "      <td>Bull (For Each)</td>\n",
       "      <td>Bull</td>\n",
       "      <td>Average</td>\n",
       "      <td>BADAMI</td>\n",
       "      <td>19</td>\n",
       "      <td>Numbers</td>\n",
       "      <td>18000</td>\n",
       "      <td>26000</td>\n",
       "      <td>21000</td>\n",
       "      <td>Live Stock/Poultry</td>\n",
       "      <td>22000.0</td>\n",
       "    </tr>\n",
       "    <tr>\n",
       "      <th>151199</th>\n",
       "      <td>31/03/2017</td>\n",
       "      <td>Calf (For Each)</td>\n",
       "      <td>Other</td>\n",
       "      <td>Average</td>\n",
       "      <td>DAVANAGERE</td>\n",
       "      <td>6</td>\n",
       "      <td>Numbers</td>\n",
       "      <td>6000</td>\n",
       "      <td>7000</td>\n",
       "      <td>6500</td>\n",
       "      <td>Live Stock/Poultry</td>\n",
       "      <td>6500.0</td>\n",
       "    </tr>\n",
       "    <tr>\n",
       "      <th>151200</th>\n",
       "      <td>31/03/2017</td>\n",
       "      <td>Cow (For Each)</td>\n",
       "      <td>Cow</td>\n",
       "      <td>Average</td>\n",
       "      <td>DAVANAGERE</td>\n",
       "      <td>9</td>\n",
       "      <td>Numbers</td>\n",
       "      <td>35000</td>\n",
       "      <td>50000</td>\n",
       "      <td>42500</td>\n",
       "      <td>Live Stock/Poultry</td>\n",
       "      <td>42500.0</td>\n",
       "    </tr>\n",
       "    <tr>\n",
       "      <th>151201</th>\n",
       "      <td>31/03/2017</td>\n",
       "      <td>Cow (For Each)</td>\n",
       "      <td>Cow</td>\n",
       "      <td>Average</td>\n",
       "      <td>ARSIKERE</td>\n",
       "      <td>9</td>\n",
       "      <td>Numbers</td>\n",
       "      <td>28000</td>\n",
       "      <td>35000</td>\n",
       "      <td>30000</td>\n",
       "      <td>Live Stock/Poultry</td>\n",
       "      <td>31500.0</td>\n",
       "    </tr>\n",
       "    <tr>\n",
       "      <th>151202</th>\n",
       "      <td>31/03/2017</td>\n",
       "      <td>Cow (For Each)</td>\n",
       "      <td>Cow</td>\n",
       "      <td>Average</td>\n",
       "      <td>NIPPANI</td>\n",
       "      <td>8</td>\n",
       "      <td>Numbers</td>\n",
       "      <td>15000</td>\n",
       "      <td>45000</td>\n",
       "      <td>40000</td>\n",
       "      <td>Live Stock/Poultry</td>\n",
       "      <td>30000.0</td>\n",
       "    </tr>\n",
       "    <tr>\n",
       "      <th>151203</th>\n",
       "      <td>31/03/2017</td>\n",
       "      <td>Cow (For Each)</td>\n",
       "      <td>Cow</td>\n",
       "      <td>Average</td>\n",
       "      <td>BADAMI</td>\n",
       "      <td>36</td>\n",
       "      <td>Numbers</td>\n",
       "      <td>29000</td>\n",
       "      <td>50000</td>\n",
       "      <td>30000</td>\n",
       "      <td>Live Stock/Poultry</td>\n",
       "      <td>39500.0</td>\n",
       "    </tr>\n",
       "    <tr>\n",
       "      <th>151204</th>\n",
       "      <td>31/03/2017</td>\n",
       "      <td>Goat (For Each)</td>\n",
       "      <td>Goat</td>\n",
       "      <td>Average</td>\n",
       "      <td>NIPPANI</td>\n",
       "      <td>65</td>\n",
       "      <td>Numbers</td>\n",
       "      <td>2000</td>\n",
       "      <td>4800</td>\n",
       "      <td>4000</td>\n",
       "      <td>Live Stock/Poultry</td>\n",
       "      <td>3400.0</td>\n",
       "    </tr>\n",
       "    <tr>\n",
       "      <th>151205</th>\n",
       "      <td>31/03/2017</td>\n",
       "      <td>Goat (For Each)</td>\n",
       "      <td>Goat</td>\n",
       "      <td>Average</td>\n",
       "      <td>BADAMI</td>\n",
       "      <td>221</td>\n",
       "      <td>Numbers</td>\n",
       "      <td>4400</td>\n",
       "      <td>9900</td>\n",
       "      <td>5900</td>\n",
       "      <td>Live Stock/Poultry</td>\n",
       "      <td>7150.0</td>\n",
       "    </tr>\n",
       "    <tr>\n",
       "      <th>151206</th>\n",
       "      <td>31/03/2017</td>\n",
       "      <td>He Baffalo (For Each)</td>\n",
       "      <td>He Baffelo</td>\n",
       "      <td>Average</td>\n",
       "      <td>BADAMI</td>\n",
       "      <td>10</td>\n",
       "      <td>Numbers</td>\n",
       "      <td>2000</td>\n",
       "      <td>5000</td>\n",
       "      <td>5000</td>\n",
       "      <td>Live Stock/Poultry</td>\n",
       "      <td>3500.0</td>\n",
       "    </tr>\n",
       "    <tr>\n",
       "      <th>151207</th>\n",
       "      <td>31/03/2017</td>\n",
       "      <td>Ox (For Each)</td>\n",
       "      <td>Ox</td>\n",
       "      <td>Average</td>\n",
       "      <td>DAVANAGERE</td>\n",
       "      <td>7</td>\n",
       "      <td>Numbers</td>\n",
       "      <td>44500</td>\n",
       "      <td>54000</td>\n",
       "      <td>49250</td>\n",
       "      <td>Live Stock/Poultry</td>\n",
       "      <td>49250.0</td>\n",
       "    </tr>\n",
       "    <tr>\n",
       "      <th>151208</th>\n",
       "      <td>31/03/2017</td>\n",
       "      <td>Ox (For Each)</td>\n",
       "      <td>Ox</td>\n",
       "      <td>Average</td>\n",
       "      <td>ARSIKERE</td>\n",
       "      <td>203</td>\n",
       "      <td>Numbers</td>\n",
       "      <td>45000</td>\n",
       "      <td>90000</td>\n",
       "      <td>87000</td>\n",
       "      <td>Live Stock/Poultry</td>\n",
       "      <td>67500.0</td>\n",
       "    </tr>\n",
       "    <tr>\n",
       "      <th>151209</th>\n",
       "      <td>31/03/2017</td>\n",
       "      <td>Ox (For Each)</td>\n",
       "      <td>Ox</td>\n",
       "      <td>Average</td>\n",
       "      <td>NIPPANI</td>\n",
       "      <td>6</td>\n",
       "      <td>Numbers</td>\n",
       "      <td>12000</td>\n",
       "      <td>28000</td>\n",
       "      <td>22000</td>\n",
       "      <td>Live Stock/Poultry</td>\n",
       "      <td>20000.0</td>\n",
       "    </tr>\n",
       "    <tr>\n",
       "      <th>151210</th>\n",
       "      <td>31/03/2017</td>\n",
       "      <td>Ox (For Each)</td>\n",
       "      <td>Ox</td>\n",
       "      <td>Average</td>\n",
       "      <td>BADAMI</td>\n",
       "      <td>14</td>\n",
       "      <td>Numbers</td>\n",
       "      <td>21000</td>\n",
       "      <td>25000</td>\n",
       "      <td>23000</td>\n",
       "      <td>Live Stock/Poultry</td>\n",
       "      <td>23000.0</td>\n",
       "    </tr>\n",
       "    <tr>\n",
       "      <th>151211</th>\n",
       "      <td>31/03/2017</td>\n",
       "      <td>Ram (For Each)</td>\n",
       "      <td>Ram</td>\n",
       "      <td>Average</td>\n",
       "      <td>BADAMI</td>\n",
       "      <td>277</td>\n",
       "      <td>Numbers</td>\n",
       "      <td>4300</td>\n",
       "      <td>9800</td>\n",
       "      <td>6600</td>\n",
       "      <td>Live Stock/Poultry</td>\n",
       "      <td>7050.0</td>\n",
       "    </tr>\n",
       "    <tr>\n",
       "      <th>151212</th>\n",
       "      <td>31/03/2017</td>\n",
       "      <td>She Baffalo (For Each)</td>\n",
       "      <td>She Baffelo</td>\n",
       "      <td>Average</td>\n",
       "      <td>DAVANAGERE</td>\n",
       "      <td>44</td>\n",
       "      <td>Numbers</td>\n",
       "      <td>28000</td>\n",
       "      <td>35000</td>\n",
       "      <td>31500</td>\n",
       "      <td>Live Stock/Poultry</td>\n",
       "      <td>31500.0</td>\n",
       "    </tr>\n",
       "    <tr>\n",
       "      <th>151213</th>\n",
       "      <td>31/03/2017</td>\n",
       "      <td>She Baffalo (For Each)</td>\n",
       "      <td>She Baffelo</td>\n",
       "      <td>Average</td>\n",
       "      <td>KUDCHI</td>\n",
       "      <td>1</td>\n",
       "      <td>Numbers</td>\n",
       "      <td>45000</td>\n",
       "      <td>55000</td>\n",
       "      <td>50000</td>\n",
       "      <td>Live Stock/Poultry</td>\n",
       "      <td>50000.0</td>\n",
       "    </tr>\n",
       "    <tr>\n",
       "      <th>151214</th>\n",
       "      <td>31/03/2017</td>\n",
       "      <td>She Baffalo (For Each)</td>\n",
       "      <td>She Baffelo</td>\n",
       "      <td>Average</td>\n",
       "      <td>NIPPANI</td>\n",
       "      <td>22</td>\n",
       "      <td>Numbers</td>\n",
       "      <td>10000</td>\n",
       "      <td>50000</td>\n",
       "      <td>42000</td>\n",
       "      <td>Live Stock/Poultry</td>\n",
       "      <td>30000.0</td>\n",
       "    </tr>\n",
       "    <tr>\n",
       "      <th>151215</th>\n",
       "      <td>31/03/2017</td>\n",
       "      <td>She Baffalo (For Each)</td>\n",
       "      <td>She Baffelo</td>\n",
       "      <td>Average</td>\n",
       "      <td>BADAMI</td>\n",
       "      <td>106</td>\n",
       "      <td>Numbers</td>\n",
       "      <td>26000</td>\n",
       "      <td>50000</td>\n",
       "      <td>32000</td>\n",
       "      <td>Live Stock/Poultry</td>\n",
       "      <td>38000.0</td>\n",
       "    </tr>\n",
       "    <tr>\n",
       "      <th>151216</th>\n",
       "      <td>31/03/2017</td>\n",
       "      <td>She Goat (For Each)</td>\n",
       "      <td>She Goat</td>\n",
       "      <td>Average</td>\n",
       "      <td>BADAMI</td>\n",
       "      <td>285</td>\n",
       "      <td>Numbers</td>\n",
       "      <td>3200</td>\n",
       "      <td>6700</td>\n",
       "      <td>5200</td>\n",
       "      <td>Live Stock/Poultry</td>\n",
       "      <td>4950.0</td>\n",
       "    </tr>\n",
       "    <tr>\n",
       "      <th>151217</th>\n",
       "      <td>31/03/2017</td>\n",
       "      <td>Sheep (For Each)</td>\n",
       "      <td>Sheep Medium</td>\n",
       "      <td>Average</td>\n",
       "      <td>BADAMI</td>\n",
       "      <td>1120</td>\n",
       "      <td>Numbers</td>\n",
       "      <td>2800</td>\n",
       "      <td>6900</td>\n",
       "      <td>4800</td>\n",
       "      <td>Live Stock/Poultry</td>\n",
       "      <td>4850.0</td>\n",
       "    </tr>\n",
       "    <tr>\n",
       "      <th>151218</th>\n",
       "      <td>31/03/2017</td>\n",
       "      <td>Crysanthamum</td>\n",
       "      <td>Other</td>\n",
       "      <td>Average</td>\n",
       "      <td>CHICKBALLAPUR</td>\n",
       "      <td>18</td>\n",
       "      <td>Quintal</td>\n",
       "      <td>10000</td>\n",
       "      <td>12000</td>\n",
       "      <td>10500</td>\n",
       "      <td>Flowers</td>\n",
       "      <td>11000.0</td>\n",
       "    </tr>\n",
       "    <tr>\n",
       "      <th>151219</th>\n",
       "      <td>31/03/2017</td>\n",
       "      <td>Marygold</td>\n",
       "      <td>Other</td>\n",
       "      <td>Average</td>\n",
       "      <td>CHICKBALLAPUR</td>\n",
       "      <td>53</td>\n",
       "      <td>Quintal</td>\n",
       "      <td>1000</td>\n",
       "      <td>2500</td>\n",
       "      <td>1500</td>\n",
       "      <td>Flowers</td>\n",
       "      <td>1750.0</td>\n",
       "    </tr>\n",
       "    <tr>\n",
       "      <th>151220</th>\n",
       "      <td>31/03/2017</td>\n",
       "      <td>Rose</td>\n",
       "      <td>Other</td>\n",
       "      <td>Average</td>\n",
       "      <td>CHICKBALLAPUR</td>\n",
       "      <td>45</td>\n",
       "      <td>Quintal</td>\n",
       "      <td>1500</td>\n",
       "      <td>3500</td>\n",
       "      <td>2200</td>\n",
       "      <td>Flowers</td>\n",
       "      <td>2500.0</td>\n",
       "    </tr>\n",
       "  </tbody>\n",
       "</table>\n",
       "<p>151221 rows × 12 columns</p>\n",
       "</div>"
      ],
      "text/plain": [
       "              Date               Commodity             Variety    Grade  \\\n",
       "0       01/01/2010                   Bajra               Local  Average   \n",
       "1       01/01/2010                   Jowar      Jowar ( White)  Average   \n",
       "2       01/01/2010                   Maize        Hybrid/Local  Average   \n",
       "3       01/01/2010                   Maize               Local   Medium   \n",
       "4       01/01/2010                   Maize               Local  Average   \n",
       "5       01/01/2010                   Paddy                Jaya  Average   \n",
       "6       01/01/2010                   Paddy         Paddy Jyoti  Average   \n",
       "7       01/01/2010                   Paddy  Paddy Fine Variety  Average   \n",
       "8       01/01/2010                    Rice              Coarse  Average   \n",
       "9       01/01/2010                    Rice                Fine  Average   \n",
       "10      01/01/2010                    Rice                Fine  Average   \n",
       "11      01/01/2010                    Rice              Medium      FAQ   \n",
       "12      01/01/2010                   Sajje               Sajje  Average   \n",
       "13      01/01/2010                   Wheat               Local  Average   \n",
       "14      01/01/2010          Bengal Gramdal     Bengal Gram Dal  Average   \n",
       "15      01/01/2010                  Cowpea      Cowpea (Whole)  Average   \n",
       "16      01/01/2010                  Cowpea      Cowpea (Whole)  Average   \n",
       "17      01/01/2010               Greengram  Green Gram (Whole)  Average   \n",
       "18      01/01/2010               Greengram  Green Gram (Whole)  Average   \n",
       "19      01/01/2010               Greengram  Green Gram (Whole)  Average   \n",
       "20      01/01/2010                     Tur                 Tur  Average   \n",
       "21      01/01/2010                     Tur                 Tur  Average   \n",
       "22      01/01/2010                     Tur                 Tur  Average   \n",
       "23      01/01/2010               Groundnut    Big (With Shell)  Average   \n",
       "24      01/01/2010               Groundnut               Gejje  Average   \n",
       "25      01/01/2010               Groundnut               Gejje   Medium   \n",
       "26      01/01/2010               Sunflower           Sunflower  Average   \n",
       "27      01/01/2010                  Cotton           Cotton-64  Average   \n",
       "28      01/01/2010                  Cotton               Other  Average   \n",
       "29      01/01/2010                  Cotton                  BT  Average   \n",
       "...            ...                     ...                 ...      ...   \n",
       "151191  31/03/2017          Tamarind Fruit      Tamarind Fruit  Average   \n",
       "151192  31/03/2017          Tamarind Fruit      Tamarind Fruit  Average   \n",
       "151193  31/03/2017           Tamarind Seed       Tamarind Seed  Average   \n",
       "151194  31/03/2017           Tamarind Seed       Tamarind Seed  Average   \n",
       "151195  31/03/2017           Tamarind Seed       Tamarind Seed  Average   \n",
       "151196  31/03/2017         Bull (For Each)                Bull  Average   \n",
       "151197  31/03/2017         Bull (For Each)                Bull  Average   \n",
       "151198  31/03/2017         Bull (For Each)                Bull  Average   \n",
       "151199  31/03/2017         Calf (For Each)               Other  Average   \n",
       "151200  31/03/2017          Cow (For Each)                 Cow  Average   \n",
       "151201  31/03/2017          Cow (For Each)                 Cow  Average   \n",
       "151202  31/03/2017          Cow (For Each)                 Cow  Average   \n",
       "151203  31/03/2017          Cow (For Each)                 Cow  Average   \n",
       "151204  31/03/2017         Goat (For Each)                Goat  Average   \n",
       "151205  31/03/2017         Goat (For Each)                Goat  Average   \n",
       "151206  31/03/2017   He Baffalo (For Each)          He Baffelo  Average   \n",
       "151207  31/03/2017           Ox (For Each)                  Ox  Average   \n",
       "151208  31/03/2017           Ox (For Each)                  Ox  Average   \n",
       "151209  31/03/2017           Ox (For Each)                  Ox  Average   \n",
       "151210  31/03/2017           Ox (For Each)                  Ox  Average   \n",
       "151211  31/03/2017          Ram (For Each)                 Ram  Average   \n",
       "151212  31/03/2017  She Baffalo (For Each)         She Baffelo  Average   \n",
       "151213  31/03/2017  She Baffalo (For Each)         She Baffelo  Average   \n",
       "151214  31/03/2017  She Baffalo (For Each)         She Baffelo  Average   \n",
       "151215  31/03/2017  She Baffalo (For Each)         She Baffelo  Average   \n",
       "151216  31/03/2017     She Goat (For Each)            She Goat  Average   \n",
       "151217  31/03/2017        Sheep (For Each)        Sheep Medium  Average   \n",
       "151218  31/03/2017            Crysanthamum               Other  Average   \n",
       "151219  31/03/2017                Marygold               Other  Average   \n",
       "151220  31/03/2017                    Rose               Other  Average   \n",
       "\n",
       "               Market  Arrival     Unit    Min    Max  Modal  \\\n",
       "0          KALABURAGI     1135  Quintal   1315   1608   1485   \n",
       "1          VIJAYAPURA        6  Quintal   1900   2200   2100   \n",
       "2           BANGARPET      460  Quintal   1480   1570   1510   \n",
       "3          RANIBENNUR     1177  Quintal   1300   1410   1395   \n",
       "4               GADAG      107  Quintal   1002   1396   1367   \n",
       "5          CHANNAGIRI      350  Quintal   1400   1400   1400   \n",
       "6           NANJANGUD     1440  Quintal   1410   1510   1450   \n",
       "7          DAVANAGERE     2100  Quintal   1700   2300   2000   \n",
       "8          SHIVAMOGGA       20  Quintal   1900   2400   2150   \n",
       "9              MYSURU     2914  Quintal   3500   4500   4000   \n",
       "10           MADIKERI       28  Quintal   3235   3235   3235   \n",
       "11          BAGEPALLI       10  Quintal   2000   2500   2200   \n",
       "12        LINGASARGUR      500  Quintal    900   1300   1280   \n",
       "13            KUNDGOL      857  Quintal   1620   1620   1620   \n",
       "14         DAVANAGERE       40  Quintal   5900   6000   5950   \n",
       "15               SIRA      194  Quintal   4100   4150   4112   \n",
       "16             KOTTUR        1  Quintal   3510   3510   3510   \n",
       "17         DAVANAGERE       22  Quintal   8600   8700   8650   \n",
       "18              BIDAR       50  Quintal   6500   6722   6708   \n",
       "19         CHITTAPURA        5  Quintal   6500   6500   6500   \n",
       "20              BIDAR     2299  Quintal   6801   9229   8809   \n",
       "21              SEDAM       75  Quintal   9125   9125   9125   \n",
       "22         KALABURAGI     2285  Quintal   8211   9556   9020   \n",
       "23             YADGIR       35  Quintal   4241   4557   4252   \n",
       "24         CHALLAKERE     4038  Quintal   3000   5501   4521   \n",
       "25           BAGALKOT       10  Quintal   2831   4429   3538   \n",
       "26               RONA       88  Quintal   3590   3787   3620   \n",
       "27       SANTHESARGUR       97  Quintal   4800   4800   4800   \n",
       "28          GUNDLUPET       72  Quintal   4200   4200   4200   \n",
       "29           ANNIGERI      165  Quintal   4750   4950   4800   \n",
       "...               ...      ...      ...    ...    ...    ...   \n",
       "151191      MADHUGIRI       30  Quintal   3300   5000   3692   \n",
       "151192         MYSURU        4  Quintal   1527  11777   7435   \n",
       "151193         MYSURU        1  Quintal   1515   1515   1515   \n",
       "151194          KADUR      168  Quintal   1525   1525   1525   \n",
       "151195         HASSAN      100  Quintal   1420   1420   1420   \n",
       "151196     DAVANAGERE        2  Numbers  35000  58000  46500   \n",
       "151197        NIPPANI        8  Numbers  14000  26000  21000   \n",
       "151198         BADAMI       19  Numbers  18000  26000  21000   \n",
       "151199     DAVANAGERE        6  Numbers   6000   7000   6500   \n",
       "151200     DAVANAGERE        9  Numbers  35000  50000  42500   \n",
       "151201       ARSIKERE        9  Numbers  28000  35000  30000   \n",
       "151202        NIPPANI        8  Numbers  15000  45000  40000   \n",
       "151203         BADAMI       36  Numbers  29000  50000  30000   \n",
       "151204        NIPPANI       65  Numbers   2000   4800   4000   \n",
       "151205         BADAMI      221  Numbers   4400   9900   5900   \n",
       "151206         BADAMI       10  Numbers   2000   5000   5000   \n",
       "151207     DAVANAGERE        7  Numbers  44500  54000  49250   \n",
       "151208       ARSIKERE      203  Numbers  45000  90000  87000   \n",
       "151209        NIPPANI        6  Numbers  12000  28000  22000   \n",
       "151210         BADAMI       14  Numbers  21000  25000  23000   \n",
       "151211         BADAMI      277  Numbers   4300   9800   6600   \n",
       "151212     DAVANAGERE       44  Numbers  28000  35000  31500   \n",
       "151213         KUDCHI        1  Numbers  45000  55000  50000   \n",
       "151214        NIPPANI       22  Numbers  10000  50000  42000   \n",
       "151215         BADAMI      106  Numbers  26000  50000  32000   \n",
       "151216         BADAMI      285  Numbers   3200   6700   5200   \n",
       "151217         BADAMI     1120  Numbers   2800   6900   4800   \n",
       "151218  CHICKBALLAPUR       18  Quintal  10000  12000  10500   \n",
       "151219  CHICKBALLAPUR       53  Quintal   1000   2500   1500   \n",
       "151220  CHICKBALLAPUR       45  Quintal   1500   3500   2200   \n",
       "\n",
       "                     Group      Avg  \n",
       "0                  Cereals   1461.5  \n",
       "1                  Cereals   2050.0  \n",
       "2                  Cereals   1525.0  \n",
       "3                  Cereals   1355.0  \n",
       "4                  Cereals   1199.0  \n",
       "5                  Cereals   1400.0  \n",
       "6                  Cereals   1460.0  \n",
       "7                  Cereals   2000.0  \n",
       "8                  Cereals   2150.0  \n",
       "9                  Cereals   4000.0  \n",
       "10                 Cereals   3235.0  \n",
       "11                 Cereals   2250.0  \n",
       "12                 Cereals   1100.0  \n",
       "13                 Cereals   1620.0  \n",
       "14                  Pulses   5950.0  \n",
       "15                  Pulses   4125.0  \n",
       "16                  Pulses   3510.0  \n",
       "17                  Pulses   8650.0  \n",
       "18                  Pulses   6611.0  \n",
       "19                  Pulses   6500.0  \n",
       "20                  Pulses   8015.0  \n",
       "21                  Pulses   9125.0  \n",
       "22                  Pulses   8883.5  \n",
       "23               Oil Seeds   4399.0  \n",
       "24               Oil Seeds   4250.5  \n",
       "25               Oil Seeds   3630.0  \n",
       "26               Oil Seeds   3688.5  \n",
       "27             Fibre Crops   4800.0  \n",
       "28             Fibre Crops   4200.0  \n",
       "29             Fibre Crops   4850.0  \n",
       "...                    ...      ...  \n",
       "151191     Forest Products   4150.0  \n",
       "151192     Forest Products   6652.0  \n",
       "151193     Forest Products   1515.0  \n",
       "151194     Forest Products   1525.0  \n",
       "151195     Forest Products   1420.0  \n",
       "151196  Live Stock/Poultry  46500.0  \n",
       "151197  Live Stock/Poultry  20000.0  \n",
       "151198  Live Stock/Poultry  22000.0  \n",
       "151199  Live Stock/Poultry   6500.0  \n",
       "151200  Live Stock/Poultry  42500.0  \n",
       "151201  Live Stock/Poultry  31500.0  \n",
       "151202  Live Stock/Poultry  30000.0  \n",
       "151203  Live Stock/Poultry  39500.0  \n",
       "151204  Live Stock/Poultry   3400.0  \n",
       "151205  Live Stock/Poultry   7150.0  \n",
       "151206  Live Stock/Poultry   3500.0  \n",
       "151207  Live Stock/Poultry  49250.0  \n",
       "151208  Live Stock/Poultry  67500.0  \n",
       "151209  Live Stock/Poultry  20000.0  \n",
       "151210  Live Stock/Poultry  23000.0  \n",
       "151211  Live Stock/Poultry   7050.0  \n",
       "151212  Live Stock/Poultry  31500.0  \n",
       "151213  Live Stock/Poultry  50000.0  \n",
       "151214  Live Stock/Poultry  30000.0  \n",
       "151215  Live Stock/Poultry  38000.0  \n",
       "151216  Live Stock/Poultry   4950.0  \n",
       "151217  Live Stock/Poultry   4850.0  \n",
       "151218             Flowers  11000.0  \n",
       "151219             Flowers   1750.0  \n",
       "151220             Flowers   2500.0  \n",
       "\n",
       "[151221 rows x 12 columns]"
      ]
     },
     "execution_count": 514,
     "metadata": {},
     "output_type": "execute_result"
    }
   ],
   "source": [
    "data['Avg'] = (data['Min']+data['Max'])/2.0\n",
    "data"
   ]
  },
  {
   "cell_type": "markdown",
   "metadata": {},
   "source": []
  },
  {
   "cell_type": "markdown",
   "metadata": {},
   "source": [
    "## Usman"
   ]
  },
  {
   "cell_type": "markdown",
   "metadata": {},
   "source": [
    "### We now plot a graph to find the commodity which is being sold the most"
   ]
  },
  {
   "cell_type": "code",
   "execution_count": 515,
   "metadata": {
    "scrolled": false
   },
   "outputs": [
    {
     "data": {
      "text/plain": [
       "<matplotlib.axes._subplots.AxesSubplot at 0x7f5a06335ac8>"
      ]
     },
     "execution_count": 515,
     "metadata": {},
     "output_type": "execute_result"
    },
    {
     "data": {
      "image/png": "[encoded data removed]",
      "text/plain": [
       "<matplotlib.figure.Figure at 0x7f5a062d3e10>"
      ]
     },
     "metadata": {},
     "output_type": "display_data"
    }
   ],
   "source": [
    "data.Group.value_counts(dropna=True).plot(kind=\"bar\",color=\"red\",rot=0)"
   ]
  },
  {
   "cell_type": "markdown",
   "metadata": {},
   "source": [
    "### We find that Vegetables are being sold the most"
   ]
  },
  {
   "cell_type": "code",
   "execution_count": 516,
   "metadata": {
    "collapsed": true
   },
   "outputs": [],
   "source": [
    "veg=data.loc[data['Group']=='Vegetables','Commodity']"
   ]
  },
  {
   "cell_type": "code",
   "execution_count": 517,
   "metadata": {
    "collapsed": true
   },
   "outputs": [],
   "source": [
    "##Erroneus try"
   ]
  },
  {
   "cell_type": "code",
   "execution_count": 518,
   "metadata": {},
   "outputs": [
    {
     "data": {
      "text/plain": [
       "<matplotlib.axes._subplots.AxesSubplot at 0x7f5a0623bfd0>"
      ]
     },
     "execution_count": 518,
     "metadata": {},
     "output_type": "execute_result"
    },
    {
     "data": {
      "image/png": "[encoded data removed]",
      "text/plain": [
       "<matplotlib.figure.Figure at 0x7f5a06262c18>"
      ]
     },
     "metadata": {},
     "output_type": "display_data"
    }
   ],
   "source": [
    "veg.value_counts(dropna=True).plot(kind=\"bar\",color=\"blue\",rot=0)"
   ]
  },
  {
   "cell_type": "markdown",
   "metadata": {},
   "source": [
    "## Aadil"
   ]
  },
  {
   "cell_type": "markdown",
   "metadata": {},
   "source": [
    "#### In vegetables, we find plot a graph to find the vegetable which will be sold the most"
   ]
  },
  {
   "cell_type": "code",
   "execution_count": 519,
   "metadata": {
    "scrolled": true
   },
   "outputs": [
    {
     "data": {
      "text/plain": [
       "<matplotlib.axes._subplots.AxesSubplot at 0x7f5a06036f98>"
      ]
     },
     "execution_count": 519,
     "metadata": {},
     "output_type": "execute_result"
    },
    {
     "data": {
      "image/png": "[encoded data removed]",
      "text/plain": [
       "<matplotlib.figure.Figure at 0x7f5a05ffd240>"
      ]
     },
     "metadata": {},
     "output_type": "display_data"
    }
   ],
   "source": [
    "veg.value_counts(dropna=True).plot(kind=\"line\",color=\"blue\",rot=0)"
   ]
  },
  {
   "cell_type": "markdown",
   "metadata": {},
   "source": [
    "#### Here we find that the vegetable is being sold the most"
   ]
  },
  {
   "cell_type": "code",
   "execution_count": 520,
   "metadata": {
    "collapsed": true
   },
   "outputs": [],
   "source": [
    "\n",
    "#data.Modal.value_counts(dropna=True).plot(kind=\"bar\",color=\"Blue\",position=0,label = \"Modal\",rot=0)\n",
    "#data.Avg.value_counts(dropna=True).plot(kind=\"bar\",color=\"Green\",position =1,label = \"Average\",rot=0)\n",
    "\n",
    "\n",
    "#plt.legend()\n",
    "#plt.xlabel('Prices')\n",
    "#plt.ylabel('Count')\n",
    "\n",
    "#sns.despine()\n",
    "#plt.show()"
   ]
  },
  {
   "cell_type": "markdown",
   "metadata": {},
   "source": [
    "#### Now we plot a graph to compare the average and modal prices for the Group Vegetables"
   ]
  },
  {
   "cell_type": "code",
   "execution_count": 521,
   "metadata": {
    "scrolled": false
   },
   "outputs": [
    {
     "data": {
      "image/png": "[encoded data removed]",
      "text/plain": [
       "<matplotlib.figure.Figure at 0x7f5a06072c18>"
      ]
     },
     "metadata": {},
     "output_type": "display_data"
    }
   ],
   "source": [
    "veg_avg = data.loc[data['Group'] == 'Vegetables', 'Avg'].value_counts()\n",
    "veg_modal = data.loc[data['Group'] == 'Vegetables', 'Modal'].value_counts()\n",
    "\n",
    "\n",
    "# Bar width\n",
    "width = 0.4\n",
    "\n",
    "veg_avg.iloc[0:10].plot(kind='bar', width=width, color='skyblue', position=0, label='Average Price', rot=0)\n",
    "veg_modal.iloc[0:10].plot(kind='bar', width=width, color='orange', position=1, label='Modal Price', rot=0)\n",
    "\n",
    "plt.legend()\n",
    "plt.xlabel('Price')\n",
    "plt.ylabel('Count')\n",
    "\n",
    "sns.despine()\n",
    "plt.show()"
   ]
  },
  {
   "cell_type": "markdown",
   "metadata": {},
   "source": [
    "#### We find that except for the extremes, the average and the modal price are almost the same. This implies that most of the farmers sell their crop at a price which is the average of the minimum and maximum price of that crop"
   ]
  },
  {
   "cell_type": "markdown",
   "metadata": {},
   "source": [
    "# Model Building"
   ]
  },
  {
   "cell_type": "markdown",
   "metadata": {},
   "source": [
    "### The algorithms available for classification are:\n",
    "   #### 1. C4.5\n",
    "   #### 2. k-nearest neighbour classifier\n",
    "   #### 3. Naive Bayes\n",
    "   #### 4. Support Vector Machine (SVM)\n",
    "   #### 5. Apriori\n",
    "   #### 6. AdaBoost\n",
    "   #### 7. Random Forest\n",
    "   #### 8. Decision tree"
   ]
  },
  {
   "cell_type": "markdown",
   "metadata": {},
   "source": [
    "### The algorithms available for regression are:\n",
    "#### 1. Decision tree\n",
    "#### 2. Random Forest\n",
    "#### 3. Time-series\n",
    "#### 4. Linear regression\n",
    "#### 5. Generalised Linear Model"
   ]
  },
  {
   "cell_type": "markdown",
   "metadata": {},
   "source": [
    "### We have studied Decision tree and Random forest because our predictions involve both classification and regression. These two algorithms handle both classification and regression problems."
   ]
  },
  {
   "cell_type": "code",
   "execution_count": 522,
   "metadata": {},
   "outputs": [
    {
     "data": {
      "text/plain": [
       "120976"
      ]
     },
     "execution_count": 522,
     "metadata": {},
     "output_type": "execute_result"
    }
   ],
   "source": [
    "from sklearn.model_selection import train_test_split\n",
    "train,test = train_test_split(data, test_size = 0.2)\n",
    "X_train = train.drop(\"Arrival\",axis = 1,inplace = False)\n",
    "X_train = X_train.drop(\"Group\",axis = 1,inplace = False)\n",
    "Y_train = train[\"Arrival\"]\n",
    "X_test = test.drop(\"Arrival\",axis =1,inplace = False)\n",
    "X_test = X_test.drop(\"Group\",axis =1,inplace = False)\n",
    "Y_test = test[\"Arrival\"]\n",
    "len(X_train)"
   ]
  },
  {
   "cell_type": "code",
   "execution_count": null,
   "metadata": {
    "collapsed": true
   },
   "outputs": [],
   "source": []
  },
  {
   "cell_type": "markdown",
   "metadata": {},
   "source": [
    "#### Arrival attribute is to be predicted, so it is removed from training and testing data and put into X variable\n",
    "#### Hence arrival attribute is to be put into Y variable"
   ]
  },
  {
   "cell_type": "code",
   "execution_count": 523,
   "metadata": {
    "collapsed": true
   },
   "outputs": [],
   "source": [
    "from sklearn.preprocessing import LabelEncoder\n",
    "le=LabelEncoder()\n",
    "# Iterating over all the common columns in train and test\n",
    "for col in X_test.columns.values:\n",
    "       # Encoding only categorical variables\n",
    "       if X_test[col].dtypes=='object':\n",
    "               data=X_train[col].append(X_test[col])\n",
    "               le.fit(data.values)\n",
    "               X_train[col]=le.transform(X_train[col])\n",
    "               X_test[col]=le.transform(X_test[col])"
   ]
  },
  {
   "cell_type": "markdown",
   "metadata": {},
   "source": [
    "### Encoding methods available: \n",
    "#### Ordinal\n",
    "#### One-Hot\n",
    "#### Label\n",
    "#### Helmert Contrast\n",
    "#### Sum Contrast\n",
    "#### Polynomial Contrast\n",
    "#### Backward Difference Contrast\n",
    "#### Simple Hashing"
   ]
  },
  {
   "cell_type": "markdown",
   "metadata": {},
   "source": [
    "### We have used one-hot encoding and label encoding because one hot encoding yields faster algorithms and label encoding helps in running linear regression faster"
   ]
  },
  {
   "cell_type": "markdown",
   "metadata": {},
   "source": [
    "#### Label encoding is done so that the regression methods accept categorical data\n",
    "#### For example, our data has Commodity attribute which has values like Wheat, Jowar, Maize, Paddy etc.\n",
    "#### What label encoding does is it assigns to each record in an attribute, an integer number like Wheat=0, Jowar=1, Maize=2, Paddy=3 etc."
   ]
  },
  {
   "cell_type": "code",
   "execution_count": 490,
   "metadata": {
    "scrolled": true
   },
   "outputs": [
    {
     "data": {
      "text/plain": [
       "10000"
      ]
     },
     "execution_count": 490,
     "metadata": {},
     "output_type": "execute_result"
    }
   ],
   "source": [
    "X_train = X_train[:10000]\n",
    "X_test = X_test[:10000]\n",
    "Y_train = Y_train[:10000]\n",
    "Y_test = Y_test[:10000]\n",
    "len(X_train)\n",
    "len(X_test)"
   ]
  },
  {
   "cell_type": "markdown",
   "metadata": {},
   "source": [
    "#### We have considered the first 10000 records of the data because the first 10000 records consist of all the data needed for preprocessing"
   ]
  },
  {
   "cell_type": "code",
   "execution_count": 526,
   "metadata": {
    "scrolled": false
   },
   "outputs": [
    {
     "data": {
      "text/plain": [
       "-396065.78163098817"
      ]
     },
     "execution_count": 526,
     "metadata": {},
     "output_type": "execute_result"
    }
   ],
   "source": [
    "from sklearn.preprocessing import scale\n",
    "from sklearn import linear_model\n",
    "from sklearn.linear_model import LinearRegression\n",
    "import statsmodels.formula.api as smf\n",
    "from sklearn.metrics import accuracy_score\n",
    "X_train_scale=scale(X_train)\n",
    "X_test_scale=scale(X_test)\n",
    "# Fitting the linear regression model\n",
    "lm = linear_model.LinearRegression()\n",
    "model = lm.fit(X_train_scale,Y_train)\n",
    "predictions = lm.predict(X_test)\n",
    "# Checking the models accuracy\n",
    "lm.score(X_test,Y_test)\n"
   ]
  },
  {
   "cell_type": "markdown",
   "metadata": {},
   "source": [
    "### One hot encoding is done so that all the categorical variables are converted into a suitable format for use in the models"
   ]
  },
  {
   "cell_type": "code",
   "execution_count": 532,
   "metadata": {},
   "outputs": [],
   "source": [
    "from sklearn.preprocessing import OneHotEncoder\n",
    "enc=OneHotEncoder(sparse=False)\n",
    "X_train_1=X_train\n",
    "X_test_1=X_test\n",
    "columns=['Commodity']\n",
    "for col in columns:\n",
    "       # creating an exhaustive list of all possible categorical values\n",
    "       data=X_train[[col]].append(X_test[[col]])\n",
    "       enc.fit(data)\n",
    "       # Fitting One Hot Encoding on train data\n",
    "       temp = enc.transform(X_train[[col]])\n",
    "       # Changing the encoded features into a data frame with new column names\n",
    "       temp=pd.DataFrame(temp,columns=[(col+\"_\"+str(i)) for i in data[col].value_counts().index])\n",
    "       # In side by side concatenation index values should be same\n",
    "       # Setting the index values similar to the X_train data frame\n",
    "       temp=temp.set_index(X_train.index.values)\n",
    "       # adding the new One Hot Encoded varibales to the train data frame\n",
    "       X_train_1=pd.concat([X_train_1,temp],axis=1)\n",
    "       # fitting One Hot Encoding on test data\n",
    "       temp = enc.transform(X_test[[col]])\n",
    "       # changing it into data frame and adding column names\n",
    "       temp=pd.DataFrame(temp,columns=[(col+\"_\"+str(i)) for i in data[col]\n",
    "            .value_counts().index])\n",
    "       # Setting the index for proper concatenation\n",
    "       temp=temp.set_index(X_test.index.values)\n",
    "       # adding the new One Hot Encoded varibales to test data frame\n",
    "       X_test_1=pd.concat([X_test_1,temp],axis=1)"
   ]
  },
  {
   "cell_type": "code",
   "execution_count": null,
   "metadata": {
    "collapsed": true
   },
   "outputs": [],
   "source": []
  },
  {
   "cell_type": "markdown",
   "metadata": {},
   "source": [
    "#### One hot encoding is better that Label encoding because it assigns onlt 2 unique values 0,1 to the data. This helps in analyzing the data quickly.\n",
    "#### Label encoding was used for linear regression earlier because one hot encoding creates extra attributes which will slow down the performance of linear regression\n",
    "#### However, algorithm like Random forest performs faster with one hot encoded data \n",
    "#### The attributes 'Commodity', 'Variety', 'Grade', 'Unit' are categorical. Hence these must be one hot encoded"
   ]
  },
  {
   "cell_type": "markdown",
   "metadata": {
    "collapsed": true
   },
   "source": [
    "### Random forest"
   ]
  },
  {
   "cell_type": "code",
   "execution_count": 533,
   "metadata": {
    "collapsed": true
   },
   "outputs": [],
   "source": [
    "\n",
    "attri = ['Date','Variety','Grade','Market','Min','Max']\n",
    "for attr in attri:\n",
    "    X_train = X_train.drop(attr,axis = 1,inplace = False)\n",
    "    X_test = X_test.drop(attr,axis = 1,inplace = False)"
   ]
  },
  {
   "cell_type": "code",
   "execution_count": 43,
   "metadata": {
    "scrolled": true
   },
   "outputs": [
    {
     "data": {
      "text/plain": [
       "0.89466091297383554"
      ]
     },
     "execution_count": 43,
     "metadata": {},
     "output_type": "execute_result"
    }
   ],
   "source": [
    "from sklearn.metrics import explained_variance_score\n",
    "r2_score(Y_test, prediction1)"
   ]
  },
  {
   "cell_type": "code",
   "execution_count": 750,
   "metadata": {
    "collapsed": true
   },
   "outputs": [],
   "source": [
    "arr = []"
   ]
  },
  {
   "cell_type": "code",
   "execution_count": 751,
   "metadata": {},
   "outputs": [],
   "source": [
    "for i in range(20,31):\n",
    "    arr.append(i)"
   ]
  },
  {
   "cell_type": "code",
   "execution_count": 752,
   "metadata": {
    "collapsed": true
   },
   "outputs": [],
   "source": [
    "dep = []"
   ]
  },
  {
   "cell_type": "code",
   "execution_count": 753,
   "metadata": {
    "collapsed": true
   },
   "outputs": [],
   "source": [
    "dep = [80]"
   ]
  },
  {
   "cell_type": "code",
   "execution_count": 754,
   "metadata": {
    "collapsed": true
   },
   "outputs": [],
   "source": [
    "feat = ['auto']"
   ]
  },
  {
   "cell_type": "code",
   "execution_count": 755,
   "metadata": {
    "collapsed": true
   },
   "outputs": [],
   "source": [
    "samplesplit = []"
   ]
  },
  {
   "cell_type": "code",
   "execution_count": 758,
   "metadata": {
    "collapsed": true
   },
   "outputs": [],
   "source": [
    "samplesplit = [50,60]"
   ]
  },
  {
   "cell_type": "code",
   "execution_count": 759,
   "metadata": {
    "collapsed": true
   },
   "outputs": [],
   "source": [
    "logic = [True]"
   ]
  },
  {
   "cell_type": "markdown",
   "metadata": {},
   "source": [
    "#### The loop iterates for Random forest with the values assigned to the parameters"
   ]
  },
  {
   "cell_type": "code",
   "execution_count": 796,
   "metadata": {},
   "outputs": [],
   "source": [
    "from sklearn.model_selection import train_test_split\n",
    "#Import Library\n",
    "predarr = []\n",
    "scores = []\n",
    "model = []\n",
    "prediction2 = 0\n",
    "from sklearn.metrics import r2_score\n",
    "from sklearn.ensemble import RandomForestRegressor \n",
    "# Create Random Forest object\n",
    "for estimator in arr:\n",
    "    for d in dep:\n",
    "        for f in feat:\n",
    "            for split in samplesplit:\n",
    "                for b in logic:\n",
    "                    model= RandomForestRegressor(n_estimators=estimator,max_features = 'auto')\n",
    "# Train the model using the training sets and check score\n",
    "                    model = model.fit(X_train, Y_train)\n",
    "#Predict Output\n",
    "                    prediction2= model.predict(X_test)\n",
    "                    predarr.append(prediction2)\n",
    "                    r2 = r2_score(Y_test, prediction2)\n",
    "                    scores.append(r2)"
   ]
  },
  {
   "cell_type": "markdown",
   "metadata": {},
   "source": [
    "#### The predictions are then appended into an array so that they can be used for later for error determination"
   ]
  },
  {
   "cell_type": "code",
   "execution_count": 797,
   "metadata": {},
   "outputs": [],
   "source": [
    "fin = np.array([1,2,3,4,5,6])\n",
    "len(predarr)\n",
    "arr = []##The models are described by the numbers\n",
    "for i in range(1,len(predarr)+1):\n",
    "    arr.append(i)"
   ]
  },
  {
   "cell_type": "markdown",
   "metadata": {},
   "source": [
    "#### The training error for the predictions is calculated"
   ]
  },
  {
   "cell_type": "code",
   "execution_count": 934,
   "metadata": {},
   "outputs": [],
   "source": [
    "mse_train = []\n",
    "from sklearn.metrics import median_absolute_error\n",
    "for prediction in predarr:\n",
    "    err = np.sqrt(mean_absolute_error(Y_train[:30245],prediction))/155\n",
    "    mse_train.append(err)"
   ]
  },
  {
   "cell_type": "markdown",
   "metadata": {},
   "source": [
    "#### The testing error for the predictions is calculated"
   ]
  },
  {
   "cell_type": "code",
   "execution_count": 920,
   "metadata": {},
   "outputs": [],
   "source": [
    "mse_test = []\n",
    "from sklearn.metrics import mean_absolute_error\n",
    "for prediction in predarr:\n",
    "    err = np.sqrt(mean_absolute_error(Y_test[:30245],prediction))/100\n",
    "    mse_test.append(err)\n",
    "from numpy import median\n",
    "med = median(mse_test)"
   ]
  },
  {
   "cell_type": "code",
   "execution_count": 914,
   "metadata": {
    "scrolled": true
   },
   "outputs": [
    {
     "data": {
      "text/plain": [
       "[0.51798576855349798,\n",
       " 0.52486194175607503,\n",
       " 0.51549594272795995,\n",
       " 0.51595206625819068,\n",
       " 0.51009906205977795,\n",
       " 0.51368946655784586,\n",
       " 0.51091812484450339,\n",
       " 0.51017184889435174,\n",
       " 0.51069421711760499,\n",
       " 0.51152676193881708,\n",
       " 0.51136689206047803,\n",
       " 0.51161629568962252,\n",
       " 0.50771547717565357,\n",
       " 0.50751505523884644,\n",
       " 0.50935547304005535,\n",
       " 0.51002680613744433,\n",
       " 0.50977275447987047,\n",
       " 0.50949730192789711,\n",
       " 0.50893479356804827,\n",
       " 0.50887963216967369,\n",
       " 0.50706578306316441,\n",
       " 0.50903720649216755,\n",
       " 0.50817348850965449,\n",
       " 0.50661884888616759,\n",
       " 0.50837312950250446,\n",
       " 0.5125071083913022,\n",
       " 0.50826616726456098,\n",
       " 0.5077475324106584,\n",
       " 0.50828752308593561,\n",
       " 0.50823538566938364,\n",
       " 0.51141764156042213,\n",
       " 0.50874223197967472,\n",
       " 0.50705065049092846,\n",
       " 0.50924138069493619,\n",
       " 0.50759601860576109,\n",
       " 0.50781717437468421,\n",
       " 0.51013704410844429,\n",
       " 0.50810108316409619,\n",
       " 0.50837525480372947,\n",
       " 0.51026821606709294,\n",
       " 0.50852460943425903,\n",
       " 0.50724420775020862,\n",
       " 0.50751903844387447,\n",
       " 0.50968146203496678,\n",
       " 0.5080993745297574,\n",
       " 0.5076267833852689,\n",
       " 0.507879212700316,\n",
       " 0.50831284849106717,\n",
       " 0.50898900564009109,\n",
       " 0.50874456187198192,\n",
       " 0.50833700997152287,\n",
       " 0.50798561143972809,\n",
       " 0.50842816354683806,\n",
       " 0.50750936467406516,\n",
       " 0.50916405795559039,\n",
       " 0.50795306268936302,\n",
       " 0.50987137113357839,\n",
       " 0.50757037696564067,\n",
       " 0.50882238198573271,\n",
       " 0.50779766751956967,\n",
       " 0.5085340530582676,\n",
       " 0.50602411859544172,\n",
       " 0.50724202499832649,\n",
       " 0.50748568478669942,\n",
       " 0.50788287863040082,\n",
       " 0.50875767069053845,\n",
       " 0.507363252956745,\n",
       " 0.50831359126892028,\n",
       " 0.50807213877361812,\n",
       " 0.50814318225896837,\n",
       " 0.50751920097916203,\n",
       " 0.50771730849245511,\n",
       " 0.50925030751650102,\n",
       " 0.50896572703861653,\n",
       " 0.50726375477868024,\n",
       " 0.50837429533875234,\n",
       " 0.50723728877647067,\n",
       " 0.50757013293734066,\n",
       " 0.50791184461822869,\n",
       " 0.50736218179409631,\n",
       " 0.50818461729810516,\n",
       " 0.50772727941833817,\n",
       " 0.50654069282324787,\n",
       " 0.50845702495591882,\n",
       " 0.50845624917894983,\n",
       " 0.50653359332093895,\n",
       " 0.50760909071572757,\n",
       " 0.50594469943697717,\n",
       " 0.50757387704914325,\n",
       " 0.50775755162752245,\n",
       " 0.50824354225401247,\n",
       " 0.50722214462508541,\n",
       " 0.50671037629223414,\n",
       " 0.50863730931918505,\n",
       " 0.5068991485699017,\n",
       " 0.50780416926781424,\n",
       " 0.50736838117485084,\n",
       " 0.50683288813207983,\n",
       " 0.50853279828492182,\n",
       " 0.50749373740732751,\n",
       " 0.50680429736960408,\n",
       " 0.5078632999068996,\n",
       " 0.50733528904921266,\n",
       " 0.50846940297128496,\n",
       " 0.50850780544176422,\n",
       " 0.50725112084961932,\n",
       " 0.50678798555012494,\n",
       " 0.50736046843891414,\n",
       " 0.50755298464236187,\n",
       " 0.5077382055782016,\n",
       " 0.50765121052653572,\n",
       " 0.50658789350535116,\n",
       " 0.50838727894337365,\n",
       " 0.5077254414902389,\n",
       " 0.50825197953485957,\n",
       " 0.5066971850666121,\n",
       " 0.50721691693170046,\n",
       " 0.50699916125686639,\n",
       " 0.50837416907876443,\n",
       " 0.50768426286069868,\n",
       " 0.50828580000085244,\n",
       " 0.5073256408816339,\n",
       " 0.50850374360043871,\n",
       " 0.5072424852265156,\n",
       " 0.50770748721482262,\n",
       " 0.50660170778310665,\n",
       " 0.50777743815861431,\n",
       " 0.50742852598965216,\n",
       " 0.50792386566339942,\n",
       " 0.50785816841521347,\n",
       " 0.50719012555014387,\n",
       " 0.50707713681991518,\n",
       " 0.50822644921192284,\n",
       " 0.50713700533875261,\n",
       " 0.50734953086971524,\n",
       " 0.50669582349855014,\n",
       " 0.5077925318573967,\n",
       " 0.50724480201106581,\n",
       " 0.5072100531569208,\n",
       " 0.50696866027799703,\n",
       " 0.50673325090862575,\n",
       " 0.50669011179735302,\n",
       " 0.50768572125178724,\n",
       " 0.50795819709290169,\n",
       " 0.50872406027908545,\n",
       " 0.50727989132101681,\n",
       " 0.50792216458266448,\n",
       " 0.5075668721454305,\n",
       " 0.50661843049118682,\n",
       " 0.50719159392444291,\n",
       " 0.50747700862023559,\n",
       " 0.50811449266190156,\n",
       " 0.50698661230446473,\n",
       " 0.50747753559003994,\n",
       " 0.50750095965688635,\n",
       " 0.50725022041734424,\n",
       " 0.50696434921187938,\n",
       " 0.50720322344420543,\n",
       " 0.50771134251683536,\n",
       " 0.50781280359872116,\n",
       " 0.50805075107891362,\n",
       " 0.50709340109790968,\n",
       " 0.50765902230072169,\n",
       " 0.50699719740168825,\n",
       " 0.50763311033051428,\n",
       " 0.50711847111940511,\n",
       " 0.50711562341413474,\n",
       " 0.50740513306045198,\n",
       " 0.50691722638359726,\n",
       " 0.507206423389716,\n",
       " 0.50678844422277691,\n",
       " 0.50645516753186937,\n",
       " 0.50698303197342276,\n",
       " 0.5074288514922084,\n",
       " 0.50753766802251921,\n",
       " 0.50764704576356723]"
      ]
     },
     "execution_count": 914,
     "metadata": {},
     "output_type": "execute_result"
    }
   ],
   "source": [
    "mse_test"
   ]
  },
  {
   "cell_type": "code",
   "execution_count": 986,
   "metadata": {},
   "outputs": [
    {
     "data": {
      "text/plain": [
       "176"
      ]
     },
     "execution_count": 986,
     "metadata": {},
     "output_type": "execute_result"
    }
   ],
   "source": [
    "len(mse_train)\n",
    "arr = np.asarray(arr)"
   ]
  },
  {
   "cell_type": "markdown",
   "metadata": {},
   "source": [
    "#### We then plot the training error for the predictions which we have obtained"
   ]
  },
  {
   "cell_type": "code",
   "execution_count": 928,
   "metadata": {
    "scrolled": false
   },
   "outputs": [
    {
     "data": {
      "text/plain": [
       "<matplotlib.legend.Legend at 0x7f59e5d4d898>"
      ]
     },
     "execution_count": 928,
     "metadata": {},
     "output_type": "execute_result"
    },
    {
     "data": {
      "image/png": "[encoded data removed]",
      "text/plain": [
       "<matplotlib.figure.Figure at 0x7f59e614bd30>"
      ]
     },
     "metadata": {},
     "output_type": "display_data"
    }
   ],
   "source": [
    "import matplotlib.pyplot as plt\n",
    "from scipy.optimize import curve_fit\n",
    "from scipy.interpolate import interp1d\n",
    "from scipy.signal import savgol_filter\n",
    "import numpy as np\n",
    "xx = np.linspace(arr.min(),arr.max(), 200)\n",
    "# interpolate + smooth\n",
    "itp = interp1d(arr,mse_test, kind='linear')\n",
    "window_size, poly_order = 101, 1\n",
    "yy_sg = savgol_filter(itp(xx), window_size, poly_order)\n",
    "# or fit to a global function\n",
    "def func(x, A, B, x0, sigma):\n",
    "    return A+B*np.tanh((x-x0)/sigma)\n",
    "\n",
    "fit, _ = curve_fit(func, arr, mse_test)\n",
    "yy_fit = func(xx, *fit)\n",
    "\n",
    "fig, ax = plt.subplots(figsize=(7, 4))\n",
    "plot1 = plt.plot(xx, yy_sg, label= \"Training curve\")\n",
    "\n",
    "plt.legend(loc='best')"
   ]
  },
  {
   "cell_type": "code",
   "execution_count": null,
   "metadata": {
    "collapsed": true
   },
   "outputs": [],
   "source": [
    "####"
   ]
  },
  {
   "cell_type": "code",
   "execution_count": 935,
   "metadata": {
    "scrolled": true
   },
   "outputs": [
    {
     "name": "stderr",
     "output_type": "stream",
     "text": [
      "/home/aadil/anaconda3/lib/python3.6/site-packages/scipy/optimize/minpack.py:779: OptimizeWarning: Covariance of the parameters could not be estimated\n",
      "  category=OptimizeWarning)\n"
     ]
    },
    {
     "data": {
      "text/plain": [
       "<matplotlib.legend.Legend at 0x7f59e5a23b38>"
      ]
     },
     "execution_count": 935,
     "metadata": {},
     "output_type": "execute_result"
    },
    {
     "data": {
      "image/png": "[encoded data removed]",
      "text/plain": [
       "<matplotlib.figure.Figure at 0x7f59e639f780>"
      ]
     },
     "metadata": {},
     "output_type": "display_data"
    }
   ],
   "source": [
    "import matplotlib.pyplot as plt\n",
    "from scipy.optimize import curve_fit\n",
    "from scipy.interpolate import interp1d\n",
    "from scipy.signal import savgol_filter\n",
    "import numpy as np\n",
    "xx1 = []\n",
    "yy_sg1 = []\n",
    "fit = []\n",
    "yy_fit = []\n",
    "xx1 = np.linspace(arr.min(),arr.max(), 200)\n",
    "\n",
    "# interpolate + smooth\n",
    "itp = interp1d(arr,mse_train, kind='linear')\n",
    "window_size, poly_order = 101, 1\n",
    "yy_sg1 = savgol_filter(itp(xx1), window_size, poly_order)\n",
    "# or fit to a global function\n",
    "def func(x, A, B, x0, sigma):\n",
    "    return A+B*np.tanh((x-x0)/sigma)\n",
    "\n",
    "fit, _ = curve_fit(func, arr, mse_train)\n",
    "yy_fit = func(xx, *fit)\n",
    "\n",
    "fig, ax = plt.subplots(figsize=(7, 4))\n",
    "plot1 = plt.plot(xx, yy_sg, label= \"Training curve\")\n",
    "\n",
    "plot2 = plt.plot(xx1, yy_sg1, label= \"Testing curve\")\n",
    "plt.legend(loc='best')"
   ]
  },
  {
   "cell_type": "code",
   "execution_count": null,
   "metadata": {},
   "outputs": [],
   "source": []
  },
  {
   "cell_type": "code",
   "execution_count": 851,
   "metadata": {
    "collapsed": true
   },
   "outputs": [],
   "source": [
    "plt.show(plot1)"
   ]
  },
  {
   "cell_type": "code",
   "execution_count": 58,
   "metadata": {
    "collapsed": true
   },
   "outputs": [],
   "source": [
    "scores.sort(reverse = True)"
   ]
  },
  {
   "cell_type": "code",
   "execution_count": 319,
   "metadata": {},
   "outputs": [
    {
     "name": "stdout",
     "output_type": "stream",
     "text": [
      "[0.31859086228722699, 0.34788639604071525, 0.35387385742582955, 0.37957712424083923, 0.41772248927845623, 0.33691584779529726, 0.37753430287002154, 0.38459741537537562, 0.37894493203312563, 0.39073622339120551, 0.36909960325723878, 0.34809865463283185, 0.38159607072498414, 0.36895806805957831, 0.3686519885483901, 0.36643923104691467, 0.36856149361915858, 0.3825616986423499]\n"
     ]
    }
   ],
   "source": [
    "print(scores)"
   ]
  },
  {
   "cell_type": "code",
   "execution_count": 48,
   "metadata": {
    "scrolled": true
   },
   "outputs": [
    {
     "ename": "ValueError",
     "evalue": "x and y must have same first dimension, but have shapes (3,) and (162,)",
     "output_type": "error",
     "traceback": [
      "\u001b[0;31m---------------------------------------------------------------------------\u001b[0m",
      "\u001b[0;31mValueError\u001b[0m                                Traceback (most recent call last)",
      "\u001b[0;32m<ipython-input-48-da4cb75b18c7>\u001b[0m in \u001b[0;36m<module>\u001b[0;34m()\u001b[0m\n\u001b[0;32m----> 1\u001b[0;31m \u001b[0mplt\u001b[0m\u001b[0;34m.\u001b[0m\u001b[0mplot\u001b[0m\u001b[0;34m(\u001b[0m\u001b[0marr\u001b[0m\u001b[0;34m,\u001b[0m\u001b[0mscores\u001b[0m\u001b[0;34m)\u001b[0m\u001b[0;34m\u001b[0m\u001b[0m\n\u001b[0m\u001b[1;32m      2\u001b[0m \u001b[0mplt\u001b[0m\u001b[0;34m.\u001b[0m\u001b[0mxlabel\u001b[0m\u001b[0;34m(\u001b[0m\u001b[0;34m\"Estimators\"\u001b[0m\u001b[0;34m)\u001b[0m\u001b[0;34m\u001b[0m\u001b[0m\n\u001b[1;32m      3\u001b[0m \u001b[0mplt\u001b[0m\u001b[0;34m.\u001b[0m\u001b[0mylabel\u001b[0m\u001b[0;34m(\u001b[0m\u001b[0;34m\"Scores\"\u001b[0m\u001b[0;34m)\u001b[0m\u001b[0;34m\u001b[0m\u001b[0m\n\u001b[1;32m      4\u001b[0m \u001b[0mplt\u001b[0m\u001b[0;34m.\u001b[0m\u001b[0mshow\u001b[0m\u001b[0;34m(\u001b[0m\u001b[0;34m)\u001b[0m\u001b[0;34m\u001b[0m\u001b[0m\n",
      "\u001b[0;32m/home/aadil/anaconda3/lib/python3.6/site-packages/matplotlib/pyplot.py\u001b[0m in \u001b[0;36mplot\u001b[0;34m(*args, **kwargs)\u001b[0m\n\u001b[1;32m   3315\u001b[0m                       mplDeprecation)\n\u001b[1;32m   3316\u001b[0m     \u001b[0;32mtry\u001b[0m\u001b[0;34m:\u001b[0m\u001b[0;34m\u001b[0m\u001b[0m\n\u001b[0;32m-> 3317\u001b[0;31m         \u001b[0mret\u001b[0m \u001b[0;34m=\u001b[0m \u001b[0max\u001b[0m\u001b[0;34m.\u001b[0m\u001b[0mplot\u001b[0m\u001b[0;34m(\u001b[0m\u001b[0;34m*\u001b[0m\u001b[0margs\u001b[0m\u001b[0;34m,\u001b[0m \u001b[0;34m**\u001b[0m\u001b[0mkwargs\u001b[0m\u001b[0;34m)\u001b[0m\u001b[0;34m\u001b[0m\u001b[0m\n\u001b[0m\u001b[1;32m   3318\u001b[0m     \u001b[0;32mfinally\u001b[0m\u001b[0;34m:\u001b[0m\u001b[0;34m\u001b[0m\u001b[0m\n\u001b[1;32m   3319\u001b[0m         \u001b[0max\u001b[0m\u001b[0;34m.\u001b[0m\u001b[0m_hold\u001b[0m \u001b[0;34m=\u001b[0m \u001b[0mwashold\u001b[0m\u001b[0;34m\u001b[0m\u001b[0m\n",
      "\u001b[0;32m/home/aadil/anaconda3/lib/python3.6/site-packages/matplotlib/__init__.py\u001b[0m in \u001b[0;36minner\u001b[0;34m(ax, *args, **kwargs)\u001b[0m\n\u001b[1;32m   1896\u001b[0m                     warnings.warn(msg % (label_namer, func.__name__),\n\u001b[1;32m   1897\u001b[0m                                   RuntimeWarning, stacklevel=2)\n\u001b[0;32m-> 1898\u001b[0;31m             \u001b[0;32mreturn\u001b[0m \u001b[0mfunc\u001b[0m\u001b[0;34m(\u001b[0m\u001b[0max\u001b[0m\u001b[0;34m,\u001b[0m \u001b[0;34m*\u001b[0m\u001b[0margs\u001b[0m\u001b[0;34m,\u001b[0m \u001b[0;34m**\u001b[0m\u001b[0mkwargs\u001b[0m\u001b[0;34m)\u001b[0m\u001b[0;34m\u001b[0m\u001b[0m\n\u001b[0m\u001b[1;32m   1899\u001b[0m         \u001b[0mpre_doc\u001b[0m \u001b[0;34m=\u001b[0m \u001b[0minner\u001b[0m\u001b[0;34m.\u001b[0m\u001b[0m__doc__\u001b[0m\u001b[0;34m\u001b[0m\u001b[0m\n\u001b[1;32m   1900\u001b[0m         \u001b[0;32mif\u001b[0m \u001b[0mpre_doc\u001b[0m \u001b[0;32mis\u001b[0m \u001b[0;32mNone\u001b[0m\u001b[0;34m:\u001b[0m\u001b[0;34m\u001b[0m\u001b[0m\n",
      "\u001b[0;32m/home/aadil/anaconda3/lib/python3.6/site-packages/matplotlib/axes/_axes.py\u001b[0m in \u001b[0;36mplot\u001b[0;34m(self, *args, **kwargs)\u001b[0m\n\u001b[1;32m   1404\u001b[0m         \u001b[0mkwargs\u001b[0m \u001b[0;34m=\u001b[0m \u001b[0mcbook\u001b[0m\u001b[0;34m.\u001b[0m\u001b[0mnormalize_kwargs\u001b[0m\u001b[0;34m(\u001b[0m\u001b[0mkwargs\u001b[0m\u001b[0;34m,\u001b[0m \u001b[0m_alias_map\u001b[0m\u001b[0;34m)\u001b[0m\u001b[0;34m\u001b[0m\u001b[0m\n\u001b[1;32m   1405\u001b[0m \u001b[0;34m\u001b[0m\u001b[0m\n\u001b[0;32m-> 1406\u001b[0;31m         \u001b[0;32mfor\u001b[0m \u001b[0mline\u001b[0m \u001b[0;32min\u001b[0m \u001b[0mself\u001b[0m\u001b[0;34m.\u001b[0m\u001b[0m_get_lines\u001b[0m\u001b[0;34m(\u001b[0m\u001b[0;34m*\u001b[0m\u001b[0margs\u001b[0m\u001b[0;34m,\u001b[0m \u001b[0;34m**\u001b[0m\u001b[0mkwargs\u001b[0m\u001b[0;34m)\u001b[0m\u001b[0;34m:\u001b[0m\u001b[0;34m\u001b[0m\u001b[0m\n\u001b[0m\u001b[1;32m   1407\u001b[0m             \u001b[0mself\u001b[0m\u001b[0;34m.\u001b[0m\u001b[0madd_line\u001b[0m\u001b[0;34m(\u001b[0m\u001b[0mline\u001b[0m\u001b[0;34m)\u001b[0m\u001b[0;34m\u001b[0m\u001b[0m\n\u001b[1;32m   1408\u001b[0m             \u001b[0mlines\u001b[0m\u001b[0;34m.\u001b[0m\u001b[0mappend\u001b[0m\u001b[0;34m(\u001b[0m\u001b[0mline\u001b[0m\u001b[0;34m)\u001b[0m\u001b[0;34m\u001b[0m\u001b[0m\n",
      "\u001b[0;32m/home/aadil/anaconda3/lib/python3.6/site-packages/matplotlib/axes/_base.py\u001b[0m in \u001b[0;36m_grab_next_args\u001b[0;34m(self, *args, **kwargs)\u001b[0m\n\u001b[1;32m    405\u001b[0m                 \u001b[0;32mreturn\u001b[0m\u001b[0;34m\u001b[0m\u001b[0m\n\u001b[1;32m    406\u001b[0m             \u001b[0;32mif\u001b[0m \u001b[0mlen\u001b[0m\u001b[0;34m(\u001b[0m\u001b[0mremaining\u001b[0m\u001b[0;34m)\u001b[0m \u001b[0;34m<=\u001b[0m \u001b[0;36m3\u001b[0m\u001b[0;34m:\u001b[0m\u001b[0;34m\u001b[0m\u001b[0m\n\u001b[0;32m--> 407\u001b[0;31m                 \u001b[0;32mfor\u001b[0m \u001b[0mseg\u001b[0m \u001b[0;32min\u001b[0m \u001b[0mself\u001b[0m\u001b[0;34m.\u001b[0m\u001b[0m_plot_args\u001b[0m\u001b[0;34m(\u001b[0m\u001b[0mremaining\u001b[0m\u001b[0;34m,\u001b[0m \u001b[0mkwargs\u001b[0m\u001b[0;34m)\u001b[0m\u001b[0;34m:\u001b[0m\u001b[0;34m\u001b[0m\u001b[0m\n\u001b[0m\u001b[1;32m    408\u001b[0m                     \u001b[0;32myield\u001b[0m \u001b[0mseg\u001b[0m\u001b[0;34m\u001b[0m\u001b[0m\n\u001b[1;32m    409\u001b[0m                 \u001b[0;32mreturn\u001b[0m\u001b[0;34m\u001b[0m\u001b[0m\n",
      "\u001b[0;32m/home/aadil/anaconda3/lib/python3.6/site-packages/matplotlib/axes/_base.py\u001b[0m in \u001b[0;36m_plot_args\u001b[0;34m(self, tup, kwargs)\u001b[0m\n\u001b[1;32m    383\u001b[0m             \u001b[0mx\u001b[0m\u001b[0;34m,\u001b[0m \u001b[0my\u001b[0m \u001b[0;34m=\u001b[0m \u001b[0mindex_of\u001b[0m\u001b[0;34m(\u001b[0m\u001b[0mtup\u001b[0m\u001b[0;34m[\u001b[0m\u001b[0;34m-\u001b[0m\u001b[0;36m1\u001b[0m\u001b[0;34m]\u001b[0m\u001b[0;34m)\u001b[0m\u001b[0;34m\u001b[0m\u001b[0m\n\u001b[1;32m    384\u001b[0m \u001b[0;34m\u001b[0m\u001b[0m\n\u001b[0;32m--> 385\u001b[0;31m         \u001b[0mx\u001b[0m\u001b[0;34m,\u001b[0m \u001b[0my\u001b[0m \u001b[0;34m=\u001b[0m \u001b[0mself\u001b[0m\u001b[0;34m.\u001b[0m\u001b[0m_xy_from_xy\u001b[0m\u001b[0;34m(\u001b[0m\u001b[0mx\u001b[0m\u001b[0;34m,\u001b[0m \u001b[0my\u001b[0m\u001b[0;34m)\u001b[0m\u001b[0;34m\u001b[0m\u001b[0m\n\u001b[0m\u001b[1;32m    386\u001b[0m \u001b[0;34m\u001b[0m\u001b[0m\n\u001b[1;32m    387\u001b[0m         \u001b[0;32mif\u001b[0m \u001b[0mself\u001b[0m\u001b[0;34m.\u001b[0m\u001b[0mcommand\u001b[0m \u001b[0;34m==\u001b[0m \u001b[0;34m'plot'\u001b[0m\u001b[0;34m:\u001b[0m\u001b[0;34m\u001b[0m\u001b[0m\n",
      "\u001b[0;32m/home/aadil/anaconda3/lib/python3.6/site-packages/matplotlib/axes/_base.py\u001b[0m in \u001b[0;36m_xy_from_xy\u001b[0;34m(self, x, y)\u001b[0m\n\u001b[1;32m    242\u001b[0m         \u001b[0;32mif\u001b[0m \u001b[0mx\u001b[0m\u001b[0;34m.\u001b[0m\u001b[0mshape\u001b[0m\u001b[0;34m[\u001b[0m\u001b[0;36m0\u001b[0m\u001b[0;34m]\u001b[0m \u001b[0;34m!=\u001b[0m \u001b[0my\u001b[0m\u001b[0;34m.\u001b[0m\u001b[0mshape\u001b[0m\u001b[0;34m[\u001b[0m\u001b[0;36m0\u001b[0m\u001b[0;34m]\u001b[0m\u001b[0;34m:\u001b[0m\u001b[0;34m\u001b[0m\u001b[0m\n\u001b[1;32m    243\u001b[0m             raise ValueError(\"x and y must have same first dimension, but \"\n\u001b[0;32m--> 244\u001b[0;31m                              \"have shapes {} and {}\".format(x.shape, y.shape))\n\u001b[0m\u001b[1;32m    245\u001b[0m         \u001b[0;32mif\u001b[0m \u001b[0mx\u001b[0m\u001b[0;34m.\u001b[0m\u001b[0mndim\u001b[0m \u001b[0;34m>\u001b[0m \u001b[0;36m2\u001b[0m \u001b[0;32mor\u001b[0m \u001b[0my\u001b[0m\u001b[0;34m.\u001b[0m\u001b[0mndim\u001b[0m \u001b[0;34m>\u001b[0m \u001b[0;36m2\u001b[0m\u001b[0;34m:\u001b[0m\u001b[0;34m\u001b[0m\u001b[0m\n\u001b[1;32m    246\u001b[0m             raise ValueError(\"x and y can be no greater than 2-D, but have \"\n",
      "\u001b[0;31mValueError\u001b[0m: x and y must have same first dimension, but have shapes (3,) and (162,)"
     ]
    },
    {
     "data": {
      "image/png": "[encoded data removed]",
      "text/plain": [
       "<matplotlib.figure.Figure at 0x7fc52d2e7518>"
      ]
     },
     "metadata": {},
     "output_type": "display_data"
    }
   ],
   "source": [
    "plt.plot(arr,scores)\n",
    "plt.xlabel(\"Estimators\")\n",
    "plt.ylabel(\"Scores\")\n",
    "plt.show()"
   ]
  },
  {
   "cell_type": "code",
   "execution_count": 48,
   "metadata": {
    "collapsed": true
   },
   "outputs": [],
   "source": [
    "preds[2]= r2_score(Y_test, prediction2)"
   ]
  },
  {
   "cell_type": "code",
   "execution_count": 49,
   "metadata": {
    "collapsed": true
   },
   "outputs": [],
   "source": [
    "X_train_1 = X_train[:10000]\n",
    "X_test_1 = X_test[:10000]\n",
    "Y_train_1 = Y_train[:10000]\n",
    "Y_test_1 = Y_test[:10000]\n",
    "#Import Library\n",
    "from sklearn.ensemble import RandomForestRegressor \n",
    "# Create Random Forest object\n",
    "model= RandomForestRegressor(n_estimators=10)\n",
    "# Train the model using the training sets and check score\n",
    "model.fit(X_train_1, Y_train_1)\n",
    "#Predict Output\n",
    "prediction3= model.predict(X_test_1)"
   ]
  },
  {
   "cell_type": "markdown",
   "metadata": {},
   "source": [
    "#### The r2 score for Random forest with 100 estimators was found to be 0.8947"
   ]
  },
  {
   "cell_type": "markdown",
   "metadata": {},
   "source": [
    "#### With no. of estimators = 10"
   ]
  },
  {
   "cell_type": "code",
   "execution_count": 50,
   "metadata": {},
   "outputs": [
    {
     "data": {
      "text/plain": [
       "array([ 150. ,   10. ,   25. , ...,  318.2,  289.9,  143. ])"
      ]
     },
     "execution_count": 50,
     "metadata": {},
     "output_type": "execute_result"
    }
   ],
   "source": [
    "prediction3"
   ]
  },
  {
   "cell_type": "code",
   "execution_count": 51,
   "metadata": {},
   "outputs": [
    {
     "data": {
      "text/plain": [
       "0.88883936669687569"
      ]
     },
     "execution_count": 51,
     "metadata": {},
     "output_type": "execute_result"
    }
   ],
   "source": [
    "from sklearn.metrics import r2_score\n",
    "r2_score(Y_test, prediction3)"
   ]
  },
  {
   "cell_type": "code",
   "execution_count": 52,
   "metadata": {
    "collapsed": true
   },
   "outputs": [],
   "source": [
    "preds[3]= r2_score(Y_test, prediction3)"
   ]
  },
  {
   "cell_type": "markdown",
   "metadata": {},
   "source": [
    "#### The r2 score for Random forest with 100 estimators was found to be 0.8961"
   ]
  },
  {
   "cell_type": "code",
   "execution_count": 53,
   "metadata": {},
   "outputs": [
    {
     "data": {
      "text/plain": [
       "[0.89577482849764012,\n",
       " 0.89466091297383554,\n",
       " 0.89515107000578409,\n",
       " 0.88883936669687569]"
      ]
     },
     "execution_count": 53,
     "metadata": {},
     "output_type": "execute_result"
    }
   ],
   "source": [
    "preds"
   ]
  },
  {
   "cell_type": "code",
   "execution_count": 54,
   "metadata": {},
   "outputs": [
    {
     "data": {
      "text/plain": [
       "0.89577482849764012"
      ]
     },
     "execution_count": 54,
     "metadata": {},
     "output_type": "execute_result"
    }
   ],
   "source": [
    "max(preds)"
   ]
  },
  {
   "cell_type": "markdown",
   "metadata": {},
   "source": [
    "#### We see that the Random Forest with estimators=10 has the highest r^2 value"
   ]
  },
  {
   "cell_type": "markdown",
   "metadata": {},
   "source": [
    "#### We got a variance score of 0.8954"
   ]
  },
  {
   "cell_type": "markdown",
   "metadata": {},
   "source": [
    "#### The variance score is calculated because the more the variance score, the more variant is our data.\n",
    "#### More variant data means that the algorithms have more diverse attributes and hence yield better performance."
   ]
  },
  {
   "cell_type": "code",
   "execution_count": null,
   "metadata": {
    "collapsed": true,
    "scrolled": true
   },
   "outputs": [],
   "source": []
  },
  {
   "cell_type": "markdown",
   "metadata": {},
   "source": [
    "#### Random forest is used because it overcomes the problem of overfitting\n",
    "#### Random Forest does not depend on whether the problem is of classififcation or of regression"
   ]
  },
  {
   "cell_type": "code",
   "execution_count": 392,
   "metadata": {
    "scrolled": true
   },
   "outputs": [
    {
     "data": {
      "text/plain": [
       "[0.56192597497890229,\n",
       " 0.56239047624132621,\n",
       " 0.55950413871634974,\n",
       " 0.56007779810196434,\n",
       " 0.56025525939130272,\n",
       " 0.56010614912652013,\n",
       " 0.55911112808638486,\n",
       " 0.56044362183530527,\n",
       " 0.55960424133705444,\n",
       " 0.56009490272635853]"
      ]
     },
     "execution_count": 392,
     "metadata": {},
     "output_type": "execute_result"
    }
   ],
   "source": [
    "(mse_train)"
   ]
  },
  {
   "cell_type": "code",
   "execution_count": 69,
   "metadata": {
    "collapsed": true
   },
   "outputs": [],
   "source": [
    "a = []\n",
    "a[:] = [(1 - x)/10 for x in mse_train]\n"
   ]
  },
  {
   "cell_type": "code",
   "execution_count": 70,
   "metadata": {},
   "outputs": [
    {
     "data": {
      "text/plain": [
       "[0.08208029969251035,\n",
       " 0.081886865631303526,\n",
       " 0.081968260636934548,\n",
       " 0.081938383084683292,\n",
       " 0.081953887829739752,\n",
       " 0.081933127649466003,\n",
       " 0.081940368157843876,\n",
       " 0.08194763362711692,\n",
       " 0.08196138171694109,\n",
       " 0.081934787123942393,\n",
       " 0.081950118215458528,\n",
       " 0.0819563048376616,\n",
       " 0.08197092628307083,\n",
       " 0.081943570090400125,\n",
       " 0.081954477967417977]"
      ]
     },
     "execution_count": 70,
     "metadata": {},
     "output_type": "execute_result"
    }
   ],
   "source": [
    "a"
   ]
  },
  {
   "cell_type": "code",
   "execution_count": 403,
   "metadata": {},
   "outputs": [
    {
     "data": {
      "text/plain": [
       "10"
      ]
     },
     "execution_count": 403,
     "metadata": {},
     "output_type": "execute_result"
    }
   ],
   "source": [
    "len(mse_train)"
   ]
  },
  {
   "cell_type": "code",
   "execution_count": 404,
   "metadata": {},
   "outputs": [
    {
     "data": {
      "text/plain": [
       "0.11298266870638281"
      ]
     },
     "execution_count": 404,
     "metadata": {},
     "output_type": "execute_result"
    }
   ],
   "source": [
    "min(mse_test)"
   ]
  },
  {
   "cell_type": "code",
   "execution_count": null,
   "metadata": {
    "collapsed": true
   },
   "outputs": [],
   "source": []
  },
  {
   "cell_type": "code",
   "execution_count": 957,
   "metadata": {},
   "outputs": [
    {
     "data": {
      "text/plain": [
       "0.51550025264838395"
      ]
     },
     "execution_count": 957,
     "metadata": {},
     "output_type": "execute_result"
    }
   ],
   "source": [
    "min(mse_train)"
   ]
  },
  {
   "cell_type": "code",
   "execution_count": 46,
   "metadata": {
    "scrolled": true
   },
   "outputs": [
    {
     "data": {
      "image/png": "[encoded data removed]",
      "text/plain": [
       "<matplotlib.figure.Figure at 0x7f1b60907c88>"
      ]
     },
     "metadata": {},
     "output_type": "display_data"
    }
   ],
   "source": [
    "\n",
    "plt.plot(arr,mse_test)\n",
    "plt.xlabel(\"Estimators\")\n",
    "plt.ylabel(\"Errors\")\n",
    "plt.show()"
   ]
  },
  {
   "cell_type": "code",
   "execution_count": 56,
   "metadata": {},
   "outputs": [
    {
     "ename": "ValueError",
     "evalue": "x and y arrays must be equal in length along interpolation axis.",
     "output_type": "error",
     "traceback": [
      "\u001b[0;31m---------------------------------------------------------------------------\u001b[0m",
      "\u001b[0;31mValueError\u001b[0m                                Traceback (most recent call last)",
      "\u001b[0;32m<ipython-input-56-1c847dddeb53>\u001b[0m in \u001b[0;36m<module>\u001b[0;34m()\u001b[0m\n\u001b[1;32m      1\u001b[0m \u001b[0;32mfrom\u001b[0m \u001b[0mscipy\u001b[0m \u001b[0;32mimport\u001b[0m \u001b[0minterpolate\u001b[0m\u001b[0;34m\u001b[0m\u001b[0m\n\u001b[0;32m----> 2\u001b[0;31m \u001b[0mf\u001b[0m \u001b[0;34m=\u001b[0m \u001b[0minterpolate\u001b[0m\u001b[0;34m.\u001b[0m\u001b[0minterp1d\u001b[0m\u001b[0;34m(\u001b[0m\u001b[0marr\u001b[0m\u001b[0;34m,\u001b[0m \u001b[0mmse_test\u001b[0m\u001b[0;34m,\u001b[0m \u001b[0mkind\u001b[0m\u001b[0;34m=\u001b[0m\u001b[0;34m\"linear\"\u001b[0m\u001b[0;34m)\u001b[0m\u001b[0;34m\u001b[0m\u001b[0m\n\u001b[0m\u001b[1;32m      3\u001b[0m \u001b[0mx_int\u001b[0m \u001b[0;34m=\u001b[0m \u001b[0mnp\u001b[0m\u001b[0;34m.\u001b[0m\u001b[0mlinspace\u001b[0m\u001b[0;34m(\u001b[0m\u001b[0marr\u001b[0m\u001b[0;34m[\u001b[0m\u001b[0;36m0\u001b[0m\u001b[0;34m]\u001b[0m\u001b[0;34m,\u001b[0m\u001b[0marr\u001b[0m\u001b[0;34m[\u001b[0m\u001b[0;34m-\u001b[0m\u001b[0;36m1\u001b[0m\u001b[0;34m]\u001b[0m\u001b[0;34m,\u001b[0m \u001b[0;36m20\u001b[0m\u001b[0;34m)\u001b[0m\u001b[0;34m\u001b[0m\u001b[0m\n\u001b[1;32m      4\u001b[0m \u001b[0my_int\u001b[0m \u001b[0;34m=\u001b[0m \u001b[0mf\u001b[0m\u001b[0;34m(\u001b[0m\u001b[0mx_int\u001b[0m\u001b[0;34m)\u001b[0m\u001b[0;34m\u001b[0m\u001b[0m\n\u001b[1;32m      5\u001b[0m \u001b[0mfig\u001b[0m\u001b[0;34m,\u001b[0m \u001b[0max\u001b[0m \u001b[0;34m=\u001b[0m \u001b[0mplt\u001b[0m\u001b[0;34m.\u001b[0m\u001b[0msubplots\u001b[0m\u001b[0;34m(\u001b[0m\u001b[0mfigsize\u001b[0m\u001b[0;34m=\u001b[0m\u001b[0;34m(\u001b[0m\u001b[0;36m8\u001b[0m\u001b[0;34m,\u001b[0m \u001b[0;36m6\u001b[0m\u001b[0;34m)\u001b[0m\u001b[0;34m)\u001b[0m\u001b[0;34m\u001b[0m\u001b[0m\n",
      "\u001b[0;32m/home/aadil/anaconda3/lib/python3.6/site-packages/scipy/interpolate/interpolate.py\u001b[0m in \u001b[0;36m__init__\u001b[0;34m(self, x, y, kind, axis, copy, bounds_error, fill_value, assume_sorted)\u001b[0m\n\u001b[1;32m    405\u001b[0m                  assume_sorted=False):\n\u001b[1;32m    406\u001b[0m         \u001b[0;34m\"\"\" Initialize a 1D linear interpolation class.\"\"\"\u001b[0m\u001b[0;34m\u001b[0m\u001b[0m\n\u001b[0;32m--> 407\u001b[0;31m         \u001b[0m_Interpolator1D\u001b[0m\u001b[0;34m.\u001b[0m\u001b[0m__init__\u001b[0m\u001b[0;34m(\u001b[0m\u001b[0mself\u001b[0m\u001b[0;34m,\u001b[0m \u001b[0mx\u001b[0m\u001b[0;34m,\u001b[0m \u001b[0my\u001b[0m\u001b[0;34m,\u001b[0m \u001b[0maxis\u001b[0m\u001b[0;34m=\u001b[0m\u001b[0maxis\u001b[0m\u001b[0;34m)\u001b[0m\u001b[0;34m\u001b[0m\u001b[0m\n\u001b[0m\u001b[1;32m    408\u001b[0m \u001b[0;34m\u001b[0m\u001b[0m\n\u001b[1;32m    409\u001b[0m         \u001b[0mself\u001b[0m\u001b[0;34m.\u001b[0m\u001b[0mbounds_error\u001b[0m \u001b[0;34m=\u001b[0m \u001b[0mbounds_error\u001b[0m  \u001b[0;31m# used by fill_value setter\u001b[0m\u001b[0;34m\u001b[0m\u001b[0m\n",
      "\u001b[0;32m/home/aadil/anaconda3/lib/python3.6/site-packages/scipy/interpolate/polyint.py\u001b[0m in \u001b[0;36m__init__\u001b[0;34m(self, xi, yi, axis)\u001b[0m\n\u001b[1;32m     58\u001b[0m         \u001b[0mself\u001b[0m\u001b[0;34m.\u001b[0m\u001b[0mdtype\u001b[0m \u001b[0;34m=\u001b[0m \u001b[0;32mNone\u001b[0m\u001b[0;34m\u001b[0m\u001b[0m\n\u001b[1;32m     59\u001b[0m         \u001b[0;32mif\u001b[0m \u001b[0myi\u001b[0m \u001b[0;32mis\u001b[0m \u001b[0;32mnot\u001b[0m \u001b[0;32mNone\u001b[0m\u001b[0;34m:\u001b[0m\u001b[0;34m\u001b[0m\u001b[0m\n\u001b[0;32m---> 60\u001b[0;31m             \u001b[0mself\u001b[0m\u001b[0;34m.\u001b[0m\u001b[0m_set_yi\u001b[0m\u001b[0;34m(\u001b[0m\u001b[0myi\u001b[0m\u001b[0;34m,\u001b[0m \u001b[0mxi\u001b[0m\u001b[0;34m=\u001b[0m\u001b[0mxi\u001b[0m\u001b[0;34m,\u001b[0m \u001b[0maxis\u001b[0m\u001b[0;34m=\u001b[0m\u001b[0maxis\u001b[0m\u001b[0;34m)\u001b[0m\u001b[0;34m\u001b[0m\u001b[0m\n\u001b[0m\u001b[1;32m     61\u001b[0m \u001b[0;34m\u001b[0m\u001b[0m\n\u001b[1;32m     62\u001b[0m     \u001b[0;32mdef\u001b[0m \u001b[0m__call__\u001b[0m\u001b[0;34m(\u001b[0m\u001b[0mself\u001b[0m\u001b[0;34m,\u001b[0m \u001b[0mx\u001b[0m\u001b[0;34m)\u001b[0m\u001b[0;34m:\u001b[0m\u001b[0;34m\u001b[0m\u001b[0m\n",
      "\u001b[0;32m/home/aadil/anaconda3/lib/python3.6/site-packages/scipy/interpolate/polyint.py\u001b[0m in \u001b[0;36m_set_yi\u001b[0;34m(self, yi, xi, axis)\u001b[0m\n\u001b[1;32m    123\u001b[0m             \u001b[0mshape\u001b[0m \u001b[0;34m=\u001b[0m \u001b[0;34m(\u001b[0m\u001b[0;36m1\u001b[0m\u001b[0;34m,\u001b[0m\u001b[0;34m)\u001b[0m\u001b[0;34m\u001b[0m\u001b[0m\n\u001b[1;32m    124\u001b[0m         \u001b[0;32mif\u001b[0m \u001b[0mxi\u001b[0m \u001b[0;32mis\u001b[0m \u001b[0;32mnot\u001b[0m \u001b[0;32mNone\u001b[0m \u001b[0;32mand\u001b[0m \u001b[0mshape\u001b[0m\u001b[0;34m[\u001b[0m\u001b[0maxis\u001b[0m\u001b[0;34m]\u001b[0m \u001b[0;34m!=\u001b[0m \u001b[0mlen\u001b[0m\u001b[0;34m(\u001b[0m\u001b[0mxi\u001b[0m\u001b[0;34m)\u001b[0m\u001b[0;34m:\u001b[0m\u001b[0;34m\u001b[0m\u001b[0m\n\u001b[0;32m--> 125\u001b[0;31m             raise ValueError(\"x and y arrays must be equal in length along \"\n\u001b[0m\u001b[1;32m    126\u001b[0m                              \"interpolation axis.\")\n\u001b[1;32m    127\u001b[0m \u001b[0;34m\u001b[0m\u001b[0m\n",
      "\u001b[0;31mValueError\u001b[0m: x and y arrays must be equal in length along interpolation axis."
     ]
    }
   ],
   "source": [
    "from scipy import interpolate\n",
    "f = interpolate.interp1d(arr, mse_test, kind=\"linear\")\n",
    "x_int = np.linspace(arr[0],arr[-1], 20)\n",
    "y_int = f(x_int)\n",
    "fig, ax = plt.subplots(figsize=(8, 6))\n",
    "ax.plot(x_int, y_int, color=\"blue\", label= \"Interpolated curve\")\n",
    "plt.plot(arr,mse_train)\n",
    "plt.xlabel(\"Estimators\")\n",
    "plt.ylabel(\"Errors\")\n",
    "plt.show()"
   ]
  },
  {
   "cell_type": "markdown",
   "metadata": {},
   "source": [
    "### Gradient Boosting Model(GBM)"
   ]
  },
  {
   "cell_type": "markdown",
   "metadata": {},
   "source": [
    "#### With learning rate = 1.0, estimators = 100, max_depth = 1"
   ]
  },
  {
   "cell_type": "code",
   "execution_count": 52,
   "metadata": {
    "collapsed": true
   },
   "outputs": [],
   "source": []
  },
  {
   "cell_type": "code",
   "execution_count": 1089,
   "metadata": {
    "collapsed": true
   },
   "outputs": [],
   "source": [
    "string = []\n",
    "rate1 = []\n",
    "rate1 = np.random.uniform(low = 0.1, high = 1.8,size = (5,))\n",
    "est1 = []\n",
    "est1 = np.random.randint(low = 10,high = 1000,size = (5,))\n",
    "depth1 = [1,2]\n",
    "for e in est1:\n",
    "    for r in rate1:\n",
    "        for d in depth1:\n",
    "            string.append(str(e)+\":\"+str(r)+\":\"+str(d))"
   ]
  },
  {
   "cell_type": "code",
   "execution_count": 1090,
   "metadata": {},
   "outputs": [
    {
     "data": {
      "text/plain": [
       "50"
      ]
     },
     "execution_count": 1090,
     "metadata": {},
     "output_type": "execute_result"
    }
   ],
   "source": [
    "len(string)"
   ]
  },
  {
   "cell_type": "code",
   "execution_count": 1091,
   "metadata": {},
   "outputs": [],
   "source": [
    "rate = [1,0.8,0.6,0.4,0.2]\n",
    "rate.sort()\n",
    "est = [50,40,30,20,10]\n",
    "depth = [5,6]\n",
    "predgb = []\n",
    "gbmscore = []\n",
    "from sklearn.ensemble import GradientBoostingClassifier #For Classification\n",
    "from sklearn.ensemble import GradientBoostingRegressor \n",
    "#use GBM function\n",
    "string = []\n",
    "for estimator in est:\n",
    "    for lrate in rate:\n",
    "        for dep in depth:\n",
    "            string.append(str(estimator)+\":\"+str(lrate)+\":\"+str(dep))\n",
    "            clf = GradientBoostingRegressor(n_estimators=estimator, learning_rate=lrate, max_depth=dep)\n",
    "            pred1 =clf.fit(X_train, Y_train)\n",
    "            pred1 = clf.predict(X_test)\n",
    "            predgb.append(pred1)\n",
    "            scr = r2_score(Y_test,pred1)\n",
    "            gbmscore.append(scr)"
   ]
  },
  {
   "cell_type": "code",
   "execution_count": 1101,
   "metadata": {},
   "outputs": [],
   "source": [
    "train_err = []\n",
    "test_err = []\n",
    "prr = predgb[0]\n",
    "for predi in predgb:\n",
    "        trainerr = np.sqrt(mean_absolute_error(Y_train[:30245],predi))/160\n",
    "        train_err.append(trainerr)\n",
    "        testerr = np.sqrt(mean_absolute_error(Y_test[:30245],predi))/100\n",
    "        test_err.append(testerr)"
   ]
  },
  {
   "cell_type": "code",
   "execution_count": null,
   "metadata": {
    "collapsed": true
   },
   "outputs": [],
   "source": []
  },
  {
   "cell_type": "code",
   "execution_count": null,
   "metadata": {},
   "outputs": [],
   "source": []
  },
  {
   "cell_type": "code",
   "execution_count": 1102,
   "metadata": {},
   "outputs": [
    {
     "data": {
      "text/plain": [
       "50"
      ]
     },
     "execution_count": 1102,
     "metadata": {},
     "output_type": "execute_result"
    }
   ],
   "source": [
    "len(train_err)"
   ]
  },
  {
   "cell_type": "code",
   "execution_count": 1103,
   "metadata": {
    "scrolled": true
   },
   "outputs": [
    {
     "name": "stderr",
     "output_type": "stream",
     "text": [
      "/home/aadil/anaconda3/lib/python3.6/site-packages/scipy/optimize/minpack.py:779: OptimizeWarning: Covariance of the parameters could not be estimated\n",
      "  category=OptimizeWarning)\n"
     ]
    },
    {
     "data": {
      "text/plain": [
       "<matplotlib.legend.Legend at 0x7f59e49407f0>"
      ]
     },
     "execution_count": 1103,
     "metadata": {},
     "output_type": "execute_result"
    },
    {
     "data": {
      "image/png": "[encoded data removed]",
      "text/plain": [
       "<matplotlib.figure.Figure at 0x7f59e49ace10>"
      ]
     },
     "metadata": {},
     "output_type": "display_data"
    }
   ],
   "source": [
    "x = []\n",
    "for i in range(0,len(train_err)):\n",
    "    x.append(i+1)\n",
    "x= np.asarray(x)\n",
    "import matplotlib.pyplot as plt\n",
    "from scipy.optimize import curve_fit\n",
    "from scipy.interpolate import interp1d\n",
    "from scipy.signal import savgol_filter\n",
    "import numpy as np\n",
    "xx2 = []\n",
    "yy_sg2 = []\n",
    "fit = []\n",
    "yy_fit = []\n",
    "xx2 = np.linspace(1,x.max(), 200)\n",
    "\n",
    "# interpolate + smooth\n",
    "itp = interp1d(x,train_err, kind='linear')\n",
    "window_size, poly_order = 101, 1\n",
    "yy_sg2 = savgol_filter(itp(xx2), window_size, poly_order)\n",
    "# or fit to a global function\n",
    "def func(x, A, B, x0, sigma):\n",
    "    return A+B*np.tanh((x-x0)/sigma)\n",
    "\n",
    "fit, _ = curve_fit(func, x, train_err)\n",
    "yy_fit = func(xx2, *fit)\n",
    "\n",
    "fig, ax = plt.subplots(figsize=(7, 4))\n",
    "plot2 = plt.plot(xx2, yy_sg2, label= \"Training curve\")\n",
    "plt.legend(loc='best')"
   ]
  },
  {
   "cell_type": "code",
   "execution_count": 1104,
   "metadata": {},
   "outputs": [
    {
     "name": "stderr",
     "output_type": "stream",
     "text": [
      "/home/aadil/anaconda3/lib/python3.6/site-packages/scipy/optimize/minpack.py:779: OptimizeWarning: Covariance of the parameters could not be estimated\n",
      "  category=OptimizeWarning)\n"
     ]
    },
    {
     "data": {
      "text/plain": [
       "<matplotlib.legend.Legend at 0x7f59e5411668>"
      ]
     },
     "execution_count": 1104,
     "metadata": {},
     "output_type": "execute_result"
    },
    {
     "data": {
      "image/png": "[encoded data removed]",
      "text/plain": [
       "<matplotlib.figure.Figure at 0x7f59e49e65c0>"
      ]
     },
     "metadata": {},
     "output_type": "display_data"
    }
   ],
   "source": [
    "x = []\n",
    "for i in range(0,len(train_err)):\n",
    "    x.append(i+1)\n",
    "x= np.asarray(x)\n",
    "import matplotlib.pyplot as plt\n",
    "from scipy.optimize import curve_fit\n",
    "from scipy.interpolate import interp1d\n",
    "from scipy.signal import savgol_filter\n",
    "import numpy as np\n",
    "xx3 = []\n",
    "yy_sg3 = []\n",
    "fit = []\n",
    "yy_fit = []\n",
    "xx3 = np.linspace(1,x.max(), 200)\n",
    "\n",
    "# interpolate + smooth\n",
    "itp = interp1d(x,test_err, kind='linear')\n",
    "window_size, poly_order = 101, 1\n",
    "yy_sg3 = savgol_filter(itp(xx3), window_size, poly_order)\n",
    "# or fit to a global function\n",
    "def func(x, A, B, x0, sigma):\n",
    "    return A+B*np.tanh((x-x0)/sigma)\n",
    "\n",
    "fit, _ = curve_fit(func, x, test_err)\n",
    "yy_fit = func(xx3, *fit)\n",
    "\n",
    "fig, ax = plt.subplots(figsize=(7, 4))\n",
    "plot2 = plt.plot(xx2, yy_sg2, label= \"Training curve\")\n",
    "plot3 = plt.plot(xx3, yy_sg3, label= \"Testing curve\")\n",
    "plt.legend(loc='best')"
   ]
  },
  {
   "cell_type": "markdown",
   "metadata": {},
   "source": [
    "#### With learning rate = 1.0, estimators = 1000, max_depth = 1"
   ]
  },
  {
   "cell_type": "code",
   "execution_count": 46,
   "metadata": {},
   "outputs": [
    {
     "data": {
      "text/plain": [
       "array([ 201.63535287,   10.58065659,   10.58065659, ...,  336.1376963 ,\n",
       "        286.30509995,  201.63535287])"
      ]
     },
     "execution_count": 46,
     "metadata": {},
     "output_type": "execute_result"
    }
   ],
   "source": [
    "from sklearn.ensemble import GradientBoostingClassifier #For Classification\n",
    "from sklearn.ensemble import GradientBoostingRegressor \n",
    "\n",
    "#use GBM function\n",
    "\n",
    "clf = GradientBoostingRegressor(n_estimators=1000, learning_rate=1.0, max_depth=1)\n",
    "pred2 =clf.fit(X_train_1, Y_train_1)\n",
    "pred2 = clf.predict(X_test_1)\n",
    "pred2"
   ]
  },
  {
   "cell_type": "markdown",
   "metadata": {},
   "source": [
    "#### With learning rate = 1.0, estimators = 10000, max_depth = 1"
   ]
  },
  {
   "cell_type": "code",
   "execution_count": 47,
   "metadata": {},
   "outputs": [
    {
     "data": {
      "text/plain": [
       "array([ 149.83026975,   12.96101393,   19.90685323, ...,  338.73454111,\n",
       "        284.63640742,  146.14039882])"
      ]
     },
     "execution_count": 47,
     "metadata": {},
     "output_type": "execute_result"
    }
   ],
   "source": [
    "from sklearn.ensemble import GradientBoostingClassifier #For Classification\n",
    "from sklearn.ensemble import GradientBoostingRegressor \n",
    "\n",
    "#use GBM function\n",
    "\n",
    "clf = GradientBoostingRegressor(n_estimators=10000, learning_rate=1.0, max_depth=1)\n",
    "pred3 =clf.fit(X_train_1, Y_train_1)\n",
    "pred3= clf.predict(X_test_1)\n",
    "pred3"
   ]
  },
  {
   "cell_type": "markdown",
   "metadata": {},
   "source": [
    "#### With learning rate = 1.5, estimators = 100, max_depth = 1"
   ]
  },
  {
   "cell_type": "code",
   "execution_count": 48,
   "metadata": {},
   "outputs": [
    {
     "data": {
      "text/plain": [
       "array([ 352.64148635,   30.70431869,   30.70431869, ...,  352.64148635,\n",
       "        352.64148635,   30.70431869])"
      ]
     },
     "execution_count": 48,
     "metadata": {},
     "output_type": "execute_result"
    }
   ],
   "source": [
    "from sklearn.ensemble import GradientBoostingClassifier #For Classification\n",
    "from sklearn.ensemble import GradientBoostingRegressor \n",
    "\n",
    "#use GBM function\n",
    "\n",
    "clf = GradientBoostingRegressor(n_estimators=100, learning_rate=1.5, max_depth=1)\n",
    "pred4 =clf.fit(X_train_1, Y_train_1)\n",
    "pred4 = clf.predict(X_test_1)\n",
    "pred4"
   ]
  },
  {
   "cell_type": "markdown",
   "metadata": {},
   "source": [
    "#### With learning rate = 1.5, estimators = 1000, max_depth = 1"
   ]
  },
  {
   "cell_type": "code",
   "execution_count": 49,
   "metadata": {},
   "outputs": [
    {
     "data": {
      "text/plain": [
       "array([ 182.59470456,    9.05948296,   30.74601844, ...,  377.65605123,\n",
       "        248.25213671,  110.12266156])"
      ]
     },
     "execution_count": 49,
     "metadata": {},
     "output_type": "execute_result"
    }
   ],
   "source": [
    "from sklearn.ensemble import GradientBoostingClassifier #For Classification\n",
    "from sklearn.ensemble import GradientBoostingRegressor \n",
    "\n",
    "#use GBM function\n",
    "\n",
    "clf = GradientBoostingRegressor(n_estimators=1000, learning_rate=1.5, max_depth=1)\n",
    "pred5 =clf.fit(X_train_1, Y_train_1)\n",
    "pred5 = clf.predict(X_test_1)\n",
    "pred5"
   ]
  },
  {
   "cell_type": "markdown",
   "metadata": {},
   "source": [
    "#### With learning rate = 1.5, estimators = 10000, max_depth = 1"
   ]
  },
  {
   "cell_type": "code",
   "execution_count": 50,
   "metadata": {},
   "outputs": [
    {
     "data": {
      "text/plain": [
       "array([ 153.83531294,   11.69131048,   24.08635729, ...,  329.20858507,\n",
       "        289.9350711 ,  139.45617238])"
      ]
     },
     "execution_count": 50,
     "metadata": {},
     "output_type": "execute_result"
    }
   ],
   "source": [
    "from sklearn.ensemble import GradientBoostingClassifier #For Classification\n",
    "from sklearn.ensemble import GradientBoostingRegressor \n",
    "\n",
    "#use GBM function\n",
    "\n",
    "clf = GradientBoostingRegressor(n_estimators=10000, learning_rate=1.5, max_depth=1)\n",
    "pred6 =clf.fit(X_train_1, Y_train_1)\n",
    "pred6 = clf.predict(X_test_1)\n",
    "pred6"
   ]
  },
  {
   "cell_type": "markdown",
   "metadata": {},
   "source": [
    "#### With learning rate = 1.0, estimators = 100, max_depth = 2"
   ]
  },
  {
   "cell_type": "code",
   "execution_count": 51,
   "metadata": {},
   "outputs": [
    {
     "data": {
      "text/plain": [
       "array([ 132.48776583,    6.8278829 ,   34.60663121, ...,  302.01799246,\n",
       "        302.01799246,  132.48776583])"
      ]
     },
     "execution_count": 51,
     "metadata": {},
     "output_type": "execute_result"
    }
   ],
   "source": [
    "from sklearn.ensemble import GradientBoostingClassifier #For Classification\n",
    "from sklearn.ensemble import GradientBoostingRegressor \n",
    "\n",
    "#use GBM function\n",
    "\n",
    "clf = GradientBoostingRegressor(n_estimators=100, learning_rate=1.0, max_depth=2)\n",
    "pred7 =clf.fit(X_train_1, Y_train_1)\n",
    "pred7 = clf.predict(X_test_1)\n",
    "pred7"
   ]
  },
  {
   "cell_type": "markdown",
   "metadata": {},
   "source": [
    "#### With learning rate = 1.0, estimators = 1000, max_depth = 2"
   ]
  },
  {
   "cell_type": "code",
   "execution_count": 52,
   "metadata": {},
   "outputs": [
    {
     "data": {
      "text/plain": [
       "array([ 146.51310814,   10.21086944,   22.97334542, ...,  321.01378464,\n",
       "        290.29167589,  144.45515249])"
      ]
     },
     "execution_count": 52,
     "metadata": {},
     "output_type": "execute_result"
    }
   ],
   "source": [
    "from sklearn.ensemble import GradientBoostingClassifier #For Classification\n",
    "from sklearn.ensemble import GradientBoostingRegressor \n",
    "\n",
    "#use GBM function\n",
    "\n",
    "clf = GradientBoostingRegressor(n_estimators=1000, learning_rate=1.0, max_depth=2)\n",
    "pred8 =clf.fit(X_train_1, Y_train_1)\n",
    "pred8 = clf.predict(X_test_1)\n",
    "pred8"
   ]
  },
  {
   "cell_type": "markdown",
   "metadata": {},
   "source": [
    "#### With learning rate = 1.0, estimators = 10000, max_depth = 2"
   ]
  },
  {
   "cell_type": "code",
   "execution_count": 53,
   "metadata": {},
   "outputs": [
    {
     "data": {
      "text/plain": [
       "array([ 149.01956557,    9.9003554 ,   19.39433194, ...,  318.02103123,\n",
       "        289.19835286,  143.29753797])"
      ]
     },
     "execution_count": 53,
     "metadata": {},
     "output_type": "execute_result"
    }
   ],
   "source": [
    "from sklearn.ensemble import GradientBoostingClassifier #For Classification\n",
    "from sklearn.ensemble import GradientBoostingRegressor \n",
    "\n",
    "#use GBM function\n",
    "\n",
    "clf = GradientBoostingRegressor(n_estimators=10000, learning_rate=1.0, max_depth=2)\n",
    "pred9 =clf.fit(X_train_1, Y_train_1)\n",
    "pred9 = clf.predict(X_test_1)\n",
    "pred9"
   ]
  },
  {
   "cell_type": "markdown",
   "metadata": {},
   "source": [
    "#### With learning rate = 1.5, estimators = 100, max_depth = 2"
   ]
  },
  {
   "cell_type": "code",
   "execution_count": 54,
   "metadata": {},
   "outputs": [
    {
     "data": {
      "text/plain": [
       "array([ 152.68451417,    3.19799836,   43.16056807, ...,  316.69989937,\n",
       "        316.69989937,  152.68451417])"
      ]
     },
     "execution_count": 54,
     "metadata": {},
     "output_type": "execute_result"
    }
   ],
   "source": [
    "from sklearn.ensemble import GradientBoostingClassifier #For Classification\n",
    "from sklearn.ensemble import GradientBoostingRegressor \n",
    "\n",
    "#use GBM function\n",
    "\n",
    "clf = GradientBoostingRegressor(n_estimators=100, learning_rate=1.5, max_depth=2)\n",
    "pred10 =clf.fit(X_train_1, Y_train_1)\n",
    "pred10= clf.predict(X_test_1)\n",
    "pred10"
   ]
  },
  {
   "cell_type": "markdown",
   "metadata": {},
   "source": [
    "#### With learning rate = 1.5, estimators = 1000, max_depth = 2"
   ]
  },
  {
   "cell_type": "code",
   "execution_count": 55,
   "metadata": {},
   "outputs": [
    {
     "data": {
      "text/plain": [
       "array([ 153.58478329,   12.24034642,   28.25838286, ...,  310.4265927 ,\n",
       "        286.92894012,  140.1657445 ])"
      ]
     },
     "execution_count": 55,
     "metadata": {},
     "output_type": "execute_result"
    }
   ],
   "source": [
    "from sklearn.ensemble import GradientBoostingClassifier #For Classification\n",
    "from sklearn.ensemble import GradientBoostingRegressor \n",
    "\n",
    "#use GBM function\n",
    "\n",
    "clf = GradientBoostingRegressor(n_estimators=1000, learning_rate=1.5, max_depth=2)\n",
    "pred11 =clf.fit(X_train_1, Y_train_1)\n",
    "pred11= clf.predict(X_test_1)\n",
    "pred11"
   ]
  },
  {
   "cell_type": "markdown",
   "metadata": {},
   "source": [
    "#### With learning rate = 1.5, estimators = 10000, max_depth = 2"
   ]
  },
  {
   "cell_type": "code",
   "execution_count": 56,
   "metadata": {},
   "outputs": [
    {
     "data": {
      "text/plain": [
       "array([ 146.27007891,    9.47775122,   26.00436781, ...,  315.37632202,\n",
       "        291.06164892,  141.77040186])"
      ]
     },
     "execution_count": 56,
     "metadata": {},
     "output_type": "execute_result"
    }
   ],
   "source": [
    "from sklearn.ensemble import GradientBoostingClassifier #For Classification\n",
    "from sklearn.ensemble import GradientBoostingRegressor \n",
    "\n",
    "#use GBM function\n",
    "\n",
    "clf = GradientBoostingRegressor(n_estimators=10000, learning_rate=1.5, max_depth=2)\n",
    "pred12 =clf.fit(X_train_1, Y_train_1)\n",
    "pred12= clf.predict(X_test_1)\n",
    "pred12"
   ]
  },
  {
   "cell_type": "code",
   "execution_count": 57,
   "metadata": {
    "collapsed": true
   },
   "outputs": [],
   "source": [
    "pred = [0,0,0,0,0,0,0,0,0,0,0,0]"
   ]
  },
  {
   "cell_type": "code",
   "execution_count": 58,
   "metadata": {
    "collapsed": true
   },
   "outputs": [],
   "source": [
    "pred[0] = r2_score(Y_test_1, pred1)"
   ]
  },
  {
   "cell_type": "code",
   "execution_count": 59,
   "metadata": {
    "collapsed": true
   },
   "outputs": [],
   "source": [
    "pred[1]=r2_score(Y_test_1, pred2)"
   ]
  },
  {
   "cell_type": "code",
   "execution_count": 60,
   "metadata": {
    "collapsed": true,
    "scrolled": true
   },
   "outputs": [],
   "source": [
    "pred[2]=r2_score(Y_test_1, pred3)"
   ]
  },
  {
   "cell_type": "code",
   "execution_count": 61,
   "metadata": {
    "collapsed": true,
    "scrolled": true
   },
   "outputs": [],
   "source": [
    "pred[3]=r2_score(Y_test_1, pred4)"
   ]
  },
  {
   "cell_type": "code",
   "execution_count": 62,
   "metadata": {
    "collapsed": true
   },
   "outputs": [],
   "source": [
    "pred[4]=r2_score(Y_test_1, pred5)"
   ]
  },
  {
   "cell_type": "code",
   "execution_count": 63,
   "metadata": {
    "collapsed": true
   },
   "outputs": [],
   "source": [
    "pred[5]=r2_score(Y_test_1, pred6)"
   ]
  },
  {
   "cell_type": "code",
   "execution_count": 64,
   "metadata": {
    "collapsed": true
   },
   "outputs": [],
   "source": [
    "pred[6]=r2_score(Y_test_1, pred7)"
   ]
  },
  {
   "cell_type": "code",
   "execution_count": 65,
   "metadata": {
    "collapsed": true
   },
   "outputs": [],
   "source": [
    "pred[7]=r2_score(Y_test_1, pred8)"
   ]
  },
  {
   "cell_type": "code",
   "execution_count": 66,
   "metadata": {
    "collapsed": true
   },
   "outputs": [],
   "source": [
    "pred[8]=r2_score(Y_test_1, pred9)"
   ]
  },
  {
   "cell_type": "code",
   "execution_count": 67,
   "metadata": {
    "collapsed": true
   },
   "outputs": [],
   "source": [
    "pred[9]=r2_score(Y_test_1, pred10)"
   ]
  },
  {
   "cell_type": "code",
   "execution_count": 68,
   "metadata": {
    "collapsed": true
   },
   "outputs": [],
   "source": [
    "pred[10]=r2_score(Y_test_1, pred11)"
   ]
  },
  {
   "cell_type": "code",
   "execution_count": 69,
   "metadata": {
    "collapsed": true
   },
   "outputs": [],
   "source": [
    "pred[11]=r2_score(Y_test_1, pred12)"
   ]
  },
  {
   "cell_type": "code",
   "execution_count": 70,
   "metadata": {
    "scrolled": true
   },
   "outputs": [
    {
     "data": {
      "text/plain": [
       "[0.9067600630939201,\n",
       " 0.91194066166321808,\n",
       " 0.91208986588748331,\n",
       " 0.91126347144691389,\n",
       " 0.91199782796232065,\n",
       " 0.91209624138390744,\n",
       " 0.91149338342224784,\n",
       " 0.90344304176383894,\n",
       " 0.90339529756885495,\n",
       " 0.90681406429981348,\n",
       " 0.90640089578853988,\n",
       " 0.91781237560487283]"
      ]
     },
     "execution_count": 70,
     "metadata": {},
     "output_type": "execute_result"
    }
   ],
   "source": [
    "pred"
   ]
  },
  {
   "cell_type": "code",
   "execution_count": 109,
   "metadata": {},
   "outputs": [
    {
     "data": {
      "text/plain": [
       "0.91781237560487283"
      ]
     },
     "execution_count": 109,
     "metadata": {},
     "output_type": "execute_result"
    }
   ],
   "source": [
    "max(pred)"
   ]
  },
  {
   "cell_type": "markdown",
   "metadata": {},
   "source": [
    "#### We find that the maximum r^2 score for the GBM is when learning rate is 1.5, estimators are 10,000 and maximum depth is 2"
   ]
  },
  {
   "cell_type": "markdown",
   "metadata": {},
   "source": [
    "### When we did not use GBM, we got a variance score of 0.8926. This showed that the predictive performance of the model was low. When GBM was used, the score increased to 0.9178. This shows that our data was overfitted"
   ]
  },
  {
   "cell_type": "markdown",
   "metadata": {},
   "source": [
    "### We have used Gradient boosting because we want to avoid over fitting in our data. GBM algorithm reduces overfitting and hence it is been used."
   ]
  },
  {
   "cell_type": "markdown",
   "metadata": {},
   "source": [
    "#### Gradient boosting has been used to boost the performance of the algorithm\n",
    "#### Gradient boosting helps in overcoming overfitting by reducing it"
   ]
  },
  {
   "cell_type": "code",
   "execution_count": 80,
   "metadata": {},
   "outputs": [
    {
     "name": "stdout",
     "output_type": "stream",
     "text": [
      "96.9881429157\n"
     ]
    }
   ],
   "source": [
    "from sklearn.metrics import median_absolute_error\n",
    "model_mse = median_absolute_error(Y_test,pred1)\n",
    "print(model_mse)"
   ]
  },
  {
   "cell_type": "markdown",
   "metadata": {},
   "source": [
    "### Decision tree"
   ]
  },
  {
   "cell_type": "code",
   "execution_count": 1229,
   "metadata": {},
   "outputs": [
    {
     "name": "stdout",
     "output_type": "stream",
     "text": [
      "8.565835693996632\n"
     ]
    }
   ],
   "source": [
    "import timeit\n",
    "start_time = timeit.default_timer()\n",
    "preddt = []\n",
    "dtscore = []\n",
    "dttrainerr = []\n",
    "dttesterr = []\n",
    "from sklearn import tree\n",
    "# Create tree object \n",
    "criteria = ['mse','friedman_mse']\n",
    "split = ['best','random']\n",
    "stringdt = []\n",
    "dept = [80,70,60,50,40,30,20,10,None]\n",
    "for c in criteria:\n",
    "    for s in split:\n",
    "        for d in dept:\n",
    "            stringdt.append(str(c)+\":\"+str(s)+\":\"+str(d))\n",
    "            model = tree.DecisionTreeRegressor(criterion = c,splitter = s,max_depth = d)  \n",
    "            # Train the model using the training sets and check score\n",
    "            model.fit(X_train, Y_train)\n",
    "            model.score(X_train, Y_train)\n",
    "            #Predict Output\n",
    "            predicted= model.predict(X_test)\n",
    "            errdt = np.sqrt(np.mean(np.abs((Y_test[:30245]-predicted)/Y_test[:30245])))/100\n",
    "            dttesterr.append(errdt)\n",
    "            errdt = np.sqrt(np.mean(np.abs((Y_train[:30245]-predicted)/Y_train[:30245])))/400\n",
    "            dttrainerr.append(errdt)\n",
    "elapsed = timeit.default_timer()-start_time\n",
    "print(elapsed)"
   ]
  },
  {
   "cell_type": "code",
   "execution_count": 1232,
   "metadata": {},
   "outputs": [
    {
     "data": {
      "text/plain": [
       "36"
      ]
     },
     "execution_count": 1232,
     "metadata": {},
     "output_type": "execute_result"
    }
   ],
   "source": [
    "len(dttrainerr)"
   ]
  },
  {
   "cell_type": "code",
   "execution_count": 1230,
   "metadata": {},
   "outputs": [
    {
     "data": {
      "text/plain": [
       "<matplotlib.legend.Legend at 0x7f59e193d320>"
      ]
     },
     "execution_count": 1230,
     "metadata": {},
     "output_type": "execute_result"
    },
    {
     "data": {
      "image/png": "[encoded data removed]",
      "text/plain": [
       "<matplotlib.figure.Figure at 0x7f59e1a23a90>"
      ]
     },
     "metadata": {},
     "output_type": "display_data"
    }
   ],
   "source": [
    "x = []\n",
    "for i in range(0,len(dttrainerr)):\n",
    "    x.append(i+1)\n",
    "x= np.asarray(x)\n",
    "import matplotlib.pyplot as plt\n",
    "from scipy.optimize import curve_fit\n",
    "from scipy.interpolate import interp1d\n",
    "from scipy.signal import savgol_filter\n",
    "import numpy as np\n",
    "xx4 = []\n",
    "yy_sg4 = []\n",
    "fit = []\n",
    "yy_fit = []\n",
    "xx4 = np.linspace(1,x.max(), 200)\n",
    "\n",
    "# interpolate + smooth\n",
    "itp = interp1d(x,dttrainerr, kind='linear')\n",
    "window_size, poly_order = 101, 1\n",
    "yy_sg4 = savgol_filter(itp(xx4), window_size, poly_order)\n",
    "# or fit to a global function\n",
    "def func(x, A, B, x0, sigma):\n",
    "    return A+B*np.tanh((x-x0)/sigma)\n",
    "\n",
    "fit, _ = curve_fit(func, x, dttrainerr)\n",
    "yy_fit = func(xx4, *fit)\n",
    "\n",
    "fig, ax = plt.subplots(figsize=(7, 4))\n",
    "plot4 = plt.plot(xx4, yy_sg4, label= \"Training curve\")\n",
    "plt.legend(loc='best')"
   ]
  },
  {
   "cell_type": "code",
   "execution_count": 1231,
   "metadata": {},
   "outputs": [
    {
     "data": {
      "text/plain": [
       "<matplotlib.legend.Legend at 0x7f59e1869f98>"
      ]
     },
     "execution_count": 1231,
     "metadata": {},
     "output_type": "execute_result"
    },
    {
     "data": {
      "image/png": "[encoded data removed]",
      "text/plain": [
       "<matplotlib.figure.Figure at 0x7f59e19d0e10>"
      ]
     },
     "metadata": {},
     "output_type": "display_data"
    }
   ],
   "source": [
    "x = []\n",
    "for i in range(0,len(dttesterr)):\n",
    "    x.append(i+1)\n",
    "x= np.asarray(x)\n",
    "import matplotlib.pyplot as plt\n",
    "from scipy.optimize import curve_fit\n",
    "from scipy.interpolate import interp1d\n",
    "from scipy.signal import savgol_filter\n",
    "import numpy as np\n",
    "xx5 = []\n",
    "yy_sg5 = []\n",
    "fit = []\n",
    "yy_fit = []\n",
    "xx5 = np.linspace(1,x.max(), 200)\n",
    "\n",
    "# interpolate + smooth\n",
    "itp = interp1d(x,dttesterr, kind='linear')\n",
    "window_size, poly_order = 101, 1\n",
    "yy_sg5 = savgol_filter(itp(xx5), window_size, poly_order)\n",
    "# or fit to a global function\n",
    "def func(x, A, B, x0, sigma):\n",
    "    return A+B*np.tanh((x-x0)/sigma)\n",
    "\n",
    "fit, _ = curve_fit(func, x, dttesterr)\n",
    "yy_fit = func(xx5, *fit)\n",
    "\n",
    "fig, ax = plt.subplots(figsize=(7, 4))\n",
    "plot4 = plt.plot(xx4, yy_sg4, label= \"Training curve\")\n",
    "\n",
    "plot5 = plt.plot(xx5, yy_sg5, label= \"Testing curve\")\n",
    "plt.legend(loc='best')"
   ]
  },
  {
   "cell_type": "code",
   "execution_count": 1199,
   "metadata": {},
   "outputs": [
    {
     "data": {
      "image/png": "[encoded data removed]",
      "text/plain": [
       "<matplotlib.figure.Figure at 0x7f59e25b54e0>"
      ]
     },
     "metadata": {},
     "output_type": "display_data"
    }
   ],
   "source": [
    "xarr = []\n",
    "for i in range(0,len(stringdt)):\n",
    "    xarr.append(i)\n",
    "plt.xticks(xarr,stringdt)\n",
    "plt.plot(xarr,dttesterr)\n",
    "plt.xlabel(\"Parameters(Criteria:Splitter:Maximum Depth)\")\n",
    "plt.ylabel(\"Errors\")\n",
    "plt.show()    \n"
   ]
  },
  {
   "cell_type": "code",
   "execution_count": 87,
   "metadata": {},
   "outputs": [
    {
     "data": {
      "text/plain": [
       "array([ 150.,   10.,   25., ...,  318.,  290.,  143.])"
      ]
     },
     "execution_count": 87,
     "metadata": {},
     "output_type": "execute_result"
    }
   ],
   "source": [
    "predicted"
   ]
  },
  {
   "cell_type": "code",
   "execution_count": 91,
   "metadata": {},
   "outputs": [
    {
     "data": {
      "text/plain": [
       "0.86951492193195179"
      ]
     },
     "execution_count": 91,
     "metadata": {},
     "output_type": "execute_result"
    }
   ],
   "source": [
    "r2_score(predicted, Y_test)"
   ]
  },
  {
   "cell_type": "markdown",
   "metadata": {},
   "source": [
    "#### Decision trees are independent of the type of problem i.e., classification or regression\n",
    "#### Here, data type is not a constraint\n",
    "#### As our data involves both clasification and regression methods, decision tree is considered"
   ]
  },
  {
   "cell_type": "code",
   "execution_count": 90,
   "metadata": {},
   "outputs": [
    {
     "name": "stdout",
     "output_type": "stream",
     "text": [
      "0.0\n"
     ]
    }
   ],
   "source": [
    "from sklearn.metrics import median_absolute_error\n",
    "model_mse = median_absolute_error(Y_test,predicted)\n",
    "print(model_mse)"
   ]
  },
  {
   "cell_type": "markdown",
   "metadata": {
    "collapsed": true
   },
   "source": [
    "#### We have chosen Random forest over decision tree because decision tree builds only a single tree, whereas random forest builds many trees and chooses the best tree among them\n",
    "#### This ensures better results\n",
    "#### Also, as our data has both classification (predicting variety that is most popular in an area) and regression (predicting the commodity with highest arrival quantity at a market) problems, Random forest can be used efficiently for both the purposes"
   ]
  },
  {
   "cell_type": "code",
   "execution_count": 375,
   "metadata": {
    "collapsed": true
   },
   "outputs": [],
   "source": [
    "lst = []\n",
    "fin = []\n",
    "for i in range(1,11):\n",
    "    lst.append(i)\n",
    "fin = np.array(lst)"
   ]
  },
  {
   "cell_type": "code",
   "execution_count": 376,
   "metadata": {},
   "outputs": [
    {
     "data": {
      "text/plain": [
       "10"
      ]
     },
     "execution_count": 376,
     "metadata": {},
     "output_type": "execute_result"
    }
   ],
   "source": [
    "len(mse_train)"
   ]
  },
  {
   "cell_type": "code",
   "execution_count": 327,
   "metadata": {},
   "outputs": [
    {
     "ename": "AttributeError",
     "evalue": "'list' object has no attribute 'min'",
     "output_type": "error",
     "traceback": [
      "\u001b[0;31m---------------------------------------------------------------------------\u001b[0m",
      "\u001b[0;31mAttributeError\u001b[0m                            Traceback (most recent call last)",
      "\u001b[0;32m<ipython-input-327-bc2ef0aefd80>\u001b[0m in \u001b[0;36m<module>\u001b[0;34m()\u001b[0m\n\u001b[1;32m      5\u001b[0m \u001b[0;32mimport\u001b[0m \u001b[0mnumpy\u001b[0m \u001b[0;32mas\u001b[0m \u001b[0mnp\u001b[0m\u001b[0;34m\u001b[0m\u001b[0m\n\u001b[1;32m      6\u001b[0m \u001b[0;34m\u001b[0m\u001b[0m\n\u001b[0;32m----> 7\u001b[0;31m \u001b[0mxx1\u001b[0m \u001b[0;34m=\u001b[0m \u001b[0mnp\u001b[0m\u001b[0;34m.\u001b[0m\u001b[0mlinspace\u001b[0m\u001b[0;34m(\u001b[0m\u001b[0marr\u001b[0m\u001b[0;34m.\u001b[0m\u001b[0mmin\u001b[0m\u001b[0;34m(\u001b[0m\u001b[0;34m)\u001b[0m\u001b[0;34m,\u001b[0m\u001b[0marr\u001b[0m\u001b[0;34m.\u001b[0m\u001b[0mmax\u001b[0m\u001b[0;34m(\u001b[0m\u001b[0;34m)\u001b[0m\u001b[0;34m,\u001b[0m \u001b[0;36m210\u001b[0m\u001b[0;34m)\u001b[0m\u001b[0;34m\u001b[0m\u001b[0m\n\u001b[0m\u001b[1;32m      8\u001b[0m \u001b[0;34m\u001b[0m\u001b[0m\n\u001b[1;32m      9\u001b[0m \u001b[0;31m# interpolate + smooth\u001b[0m\u001b[0;34m\u001b[0m\u001b[0;34m\u001b[0m\u001b[0m\n",
      "\u001b[0;31mAttributeError\u001b[0m: 'list' object has no attribute 'min'"
     ]
    }
   ],
   "source": [
    "import matplotlib.pyplot as plt\n",
    "from scipy.optimize import curve_fit\n",
    "from scipy.interpolate import interp1d\n",
    "from scipy.signal import savgol_filter\n",
    "import numpy as np\n",
    "\n",
    "xx1 = np.linspace(arr.min(),arr.max(), 210)\n",
    "\n",
    "# interpolate + smooth\n",
    "itp1 = interp1d(arr,mse_train, kind='linear')\n",
    "window_size1, poly_order1 = 101, 1\n",
    "yy_sg1 = savgol_filter(itp(xx1), window_size1, poly_order1)\n",
    "# or fit to a global function\n",
    "def func(x, A, B, x0, sigma):\n",
    "    return A+B*np.tanh((x-x0)/sigma)\n",
    "\n",
    "fit1, _ = curve_fit(func, arr, mse_train)\n",
    "yy_fit1 = func(xx1, *fit1)\n",
    "\n",
    "fig1, ax1 = plt.subplots(figsize=(7, 4))\n",
    "ax1.plot(xx1, yy_sg1, 'k', label= \"Training curve\")\n",
    "plt.legend(loc='best')"
   ]
  },
  {
   "cell_type": "code",
   "execution_count": 197,
   "metadata": {},
   "outputs": [
    {
     "data": {
      "text/plain": [
       "[<matplotlib.lines.Line2D at 0x7f167e580f28>]"
      ]
     },
     "execution_count": 197,
     "metadata": {},
     "output_type": "execute_result"
    },
    {
     "data": {
      "image/png": "[encoded data removed]",
      "text/plain": [
       "<matplotlib.figure.Figure at 0x7f167e5efd68>"
      ]
     },
     "metadata": {},
     "output_type": "display_data"
    }
   ],
   "source": [
    "plt.plot(xx, yy_sg, 'k', label= \"Testing curve\")\n",
    "plt.plot(xx1, yy_sg1, 'k', label= \"Testing curve\")"
   ]
  },
  {
   "cell_type": "code",
   "execution_count": null,
   "metadata": {
    "collapsed": true
   },
   "outputs": [],
   "source": []
  }
 ],
 "metadata": {
  "kernelspec": {
   "display_name": "Python 3",
   "language": "python",
   "name": "python3"
  },
  "language_info": {
   "codemirror_mode": {
    "name": "ipython",
    "version": 3
   },
   "file_extension": ".py",
   "mimetype": "text/x-python",
   "name": "python",
   "nbconvert_exporter": "python",
   "pygments_lexer": "ipython3",
   "version": "3.6.1"
  }
 },
 "nbformat": 4,
 "nbformat_minor": 2
}
